{
  "nbformat": 4,
  "nbformat_minor": 0,
  "metadata": {
    "colab": {
      "provenance": [],
      "include_colab_link": true
    },
    "kernelspec": {
      "name": "python3",
      "display_name": "Python 3"
    },
    "language_info": {
      "name": "python"
    }
  },
  "cells": [
    {
      "cell_type": "markdown",
      "metadata": {
        "id": "view-in-github",
        "colab_type": "text"
      },
      "source": [
        "<a href=\"https://colab.research.google.com/github/andrewlee-29/Applied_Deep_Learning_2023Summer/blob/main/Week5_hw2(Regression)_CA_housing.ipynb\" target=\"_parent\"><img src=\"https://colab.research.google.com/assets/colab-badge.svg\" alt=\"Open In Colab\"/></a>"
      ]
    },
    {
      "cell_type": "code",
      "execution_count": null,
      "metadata": {
        "colab": {
          "base_uri": "https://localhost:8080/"
        },
        "id": "2Wdjr_jVIH4M",
        "outputId": "af1a0485-4491-420c-c582-767a8ff52ac4"
      },
      "outputs": [
        {
          "output_type": "stream",
          "name": "stdout",
          "text": [
            "(11610, 8)\n"
          ]
        }
      ],
      "source": [
        "import tensorflow as tf\n",
        "from sklearn.model_selection import train_test_split\n",
        "from sklearn.datasets import fetch_california_housing\n",
        "\n",
        "\n",
        "housing = fetch_california_housing()\n",
        "X_train_full, X_test, y_train_full, y_test = train_test_split(\n",
        "    housing.data, housing.target, random_state=42)\n",
        "X_train, X_valid, y_train, y_valid = train_test_split(\n",
        "    X_train_full, y_train_full, random_state=42)\n",
        "\n",
        "print(X_train.shape)"
      ]
    },
    {
      "cell_type": "markdown",
      "source": [
        "Create a FUNCTIONAL model. Set:\n",
        "\n",
        "- final layer\n",
        "- loss\n",
        "- optimizer\n",
        "- metrics\n",
        "\n",
        "See sample code at the bottom for:\n",
        "- performance on X_test/y_test\n",
        "- plot of train history\n"
      ],
      "metadata": {
        "id": "TrE5ydyvJHQY"
      }
    },
    {
      "cell_type": "code",
      "source": [
        "# model goes here\n",
        "# Use Functional API; no Sequential models allowed.\n",
        "\n",
        "tf.keras.backend.clear_session()\n",
        "tf.random.set_seed(42)\n",
        "\n",
        "\n",
        "#You might benefit from a simimlar first layer:\n",
        "# tf.keras.layers.Normalization(input_shape=X_train.shape[1:])\n",
        "\n",
        "# set input\n",
        "inputs = tf.keras.layers.Input(shape=X_train.shape[1:])\n",
        "# normalize input\n",
        "norm_input = tf.keras.layers.Normalization()(inputs)\n",
        "hidden1 = tf.keras.layers.Dense(32, activation='relu')(norm_input)\n",
        "hidden2 = tf.keras.layers.Dense(64, activation='relu')(hidden1)\n",
        "outputs = tf.keras.layers.Dense(1)(hidden2)\n",
        "dropout = tf.keras.layers.Dropout(0.15)(outputs)\n",
        "model = tf.keras.Model(inputs=inputs, outputs=dropout)\n",
        "\n",
        "model.compile(optimizer='adam', loss='mean_squared_error',metrics=[tf.keras.metrics.MeanSquaredError()])\n"
      ],
      "metadata": {
        "id": "qK999g1IKWDN"
      },
      "execution_count": null,
      "outputs": []
    },
    {
      "cell_type": "code",
      "source": [
        "number_of_epochs = 10 #change this!\n",
        "\n",
        "history = model.fit(X_train, y_train, epochs=number_of_epochs,\n",
        "                    validation_data=(X_valid, y_valid))"
      ],
      "metadata": {
        "id": "Lvmij627KYTb",
        "colab": {
          "base_uri": "https://localhost:8080/"
        },
        "outputId": "b867f94d-1c59-435b-e66c-f712a03c8c20"
      },
      "execution_count": null,
      "outputs": [
        {
          "output_type": "stream",
          "name": "stdout",
          "text": [
            "Epoch 1/10\n",
            "363/363 [==============================] - 6s 6ms/step - loss: 1000.4956 - mean_squared_error: 1000.4956 - val_loss: 10.5079 - val_mean_squared_error: 10.5079\n",
            "Epoch 2/10\n",
            "363/363 [==============================] - 1s 4ms/step - loss: 7.4916 - mean_squared_error: 7.4916 - val_loss: 7.8477 - val_mean_squared_error: 7.8477\n",
            "Epoch 3/10\n",
            "363/363 [==============================] - 2s 4ms/step - loss: 4.8664 - mean_squared_error: 4.8664 - val_loss: 5.0034 - val_mean_squared_error: 5.0034\n",
            "Epoch 4/10\n",
            "363/363 [==============================] - 1s 4ms/step - loss: 3.2646 - mean_squared_error: 3.2646 - val_loss: 2.9089 - val_mean_squared_error: 2.9089\n",
            "Epoch 5/10\n",
            "363/363 [==============================] - 2s 5ms/step - loss: 2.5281 - mean_squared_error: 2.5281 - val_loss: 1.7832 - val_mean_squared_error: 1.7832\n",
            "Epoch 6/10\n",
            "363/363 [==============================] - 3s 8ms/step - loss: 2.3828 - mean_squared_error: 2.3828 - val_loss: 1.1767 - val_mean_squared_error: 1.1767\n",
            "Epoch 7/10\n",
            "363/363 [==============================] - 1s 4ms/step - loss: 2.3346 - mean_squared_error: 2.3346 - val_loss: 1.8246 - val_mean_squared_error: 1.8246\n",
            "Epoch 8/10\n",
            "363/363 [==============================] - 1s 3ms/step - loss: 1.9339 - mean_squared_error: 1.9339 - val_loss: 5.4188 - val_mean_squared_error: 5.4188\n",
            "Epoch 9/10\n",
            "363/363 [==============================] - 1s 3ms/step - loss: 2.1341 - mean_squared_error: 2.1341 - val_loss: 2.6943 - val_mean_squared_error: 2.6943\n",
            "Epoch 10/10\n",
            "363/363 [==============================] - 1s 2ms/step - loss: 76.3540 - mean_squared_error: 76.3540 - val_loss: 2.5241 - val_mean_squared_error: 2.5241\n"
          ]
        }
      ]
    },
    {
      "cell_type": "code",
      "source": [
        "import matplotlib.pyplot as plt\n",
        "import pandas as pd\n",
        "\n",
        "pd.DataFrame(history.history).plot(\n",
        "    figsize=(8, 5),grid=True, xlabel=\"Epoch\",\n",
        "    style=[\"r--\", \"r--.\", \"b-\", \"b-*\"])\n",
        "plt.legend(loc=\"lower left\")\n",
        "plt.show()"
      ],
      "metadata": {
        "id": "OORUr3dMKcgN",
        "colab": {
          "base_uri": "https://localhost:8080/",
          "height": 465
        },
        "outputId": "640685e0-e8cd-4d7e-ed49-87760d163ebf"
      },
      "execution_count": null,
      "outputs": [
        {
          "output_type": "display_data",
          "data": {
            "text/plain": [
              "<Figure size 800x500 with 1 Axes>"
            ],
            "image/png": "[encoded data removed]"
          },
          "metadata": {}
        }
      ]
    },
    {
      "cell_type": "code",
      "source": [
        "model.evaluate(X_test, y_test)"
      ],
      "metadata": {
        "id": "rNx8dM3VKkwA",
        "colab": {
          "base_uri": "https://localhost:8080/"
        },
        "outputId": "47e3b6ef-ab2d-4662-c28d-24d7b0ef3c20"
      },
      "execution_count": null,
      "outputs": [
        {
          "output_type": "stream",
          "name": "stdout",
          "text": [
            "162/162 [==============================] - 0s 1ms/step - loss: 1.5898 - mean_squared_error: 1.5898\n"
          ]
        },
        {
          "output_type": "execute_result",
          "data": {
            "text/plain": [
              "[1.58979070186615, 1.58979070186615]"
            ]
          },
          "metadata": {},
          "execution_count": 5
        }
      ]
    },
    {
      "cell_type": "code",
      "source": [
        "n=5\n",
        "test_sample = X_test[n]\n",
        "predictions = model.predict(test_sample)\n",
        "predictions"
      ],
      "metadata": {
        "id": "NSEiij80KlE3",
        "colab": {
          "base_uri": "https://localhost:8080/"
        },
        "outputId": "6a7f2c23-d4aa-407f-def0-546159493499"
      },
      "execution_count": null,
      "outputs": [
        {
          "output_type": "stream",
          "name": "stdout",
          "text": [
            "1/1 [==============================] - 0s 103ms/step\n"
          ]
        },
        {
          "output_type": "execute_result",
          "data": {
            "text/plain": [
              "array([[0.65048546]], dtype=float32)"
            ]
          },
          "metadata": {},
          "execution_count": 6
        }
      ]
    },
    {
      "cell_type": "code",
      "source": [
        "y_test[n]"
      ],
      "metadata": {
        "colab": {
          "base_uri": "https://localhost:8080/"
        },
        "id": "dIE5UDpqvqmX",
        "outputId": "0f62840a-cf4c-4e4a-bdd7-d7c738947eec"
      },
      "execution_count": null,
      "outputs": [
        {
          "output_type": "execute_result",
          "data": {
            "text/plain": [
              "1.587"
            ]
          },
          "metadata": {},
          "execution_count": 7
        }
      ]
    }
  ]
}
