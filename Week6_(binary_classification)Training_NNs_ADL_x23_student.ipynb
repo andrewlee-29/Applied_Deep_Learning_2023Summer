{
  "cells": [
    {
      "cell_type": "markdown",
      "metadata": {
        "id": "view-in-github",
        "colab_type": "text"
      },
      "source": [
        "<a href=\"https://colab.research.google.com/github/andrewlee-29/Applied_Deep_Learning_2023Summer/blob/main/Week6_(binary_classification)Training_NNs_ADL_x23_student.ipynb\" target=\"_parent\"><img src=\"https://colab.research.google.com/assets/colab-badge.svg\" alt=\"Open In Colab\"/></a>"
      ]
    },
    {
      "cell_type": "markdown",
      "metadata": {
        "id": "FoPBPLWwsyLw"
      },
      "source": [
        "Before you turn this problem in, make sure everything runs as expected. First, **restart the kernel** (in the menubar, select Kernel$\\rightarrow$Restart) and then **run all cells** (in the menubar, select Cell$\\rightarrow$Run All).\n",
        "\n",
        "Make sure you fill in any place that says `YOUR CODE HERE` or \"YOUR ANSWER HERE\", as well as your name and collaborators below:"
      ]
    },
    {
      "cell_type": "code",
      "execution_count": null,
      "metadata": {
        "id": "e90EmEuUsyLz"
      },
      "outputs": [],
      "source": [
        "NAME = \"\"\n",
        "COLLABORATORS = \"\""
      ]
    },
    {
      "cell_type": "markdown",
      "metadata": {
        "id": "qRjuGQMIsyL0"
      },
      "source": [
        "---"
      ]
    },
    {
      "cell_type": "markdown",
      "metadata": {
        "id": "uk7TJEJMaXMs"
      },
      "source": [
        "This is based on companion notebooks for the book [Deep Learning with Python, Second Edition](https://www.manning.com/books/deep-learning-with-python-second-edition?a_aid=keras&a_bid=76564dff). For readability, it only contains runnable code blocks and section titles, and omits everything else in the book: text paragraphs, figures, and pseudocode.\n",
        "\n",
        "**If you want to be able to follow what's going on, I recommend reading the notebook side by side with your copy of the book.**\n",
        "\n",
        "This notebook was generated for TensorFlow 2.6."
      ]
    },
    {
      "cell_type": "markdown",
      "metadata": {
        "id": "E19PxAejMmEp"
      },
      "source": [
        "Based on Chollet's notebooks:\n",
        "- chapter04_getting_started_with_neural_networks\n",
        "- chapter05_Dropout\n",
        "- Keras API documentation"
      ]
    },
    {
      "cell_type": "markdown",
      "metadata": {
        "id": "gDlLYLiGaXMu"
      },
      "source": [
        "# Getting started with neural networks: Classification and regression"
      ]
    },
    {
      "cell_type": "markdown",
      "metadata": {
        "id": "yib_UgcKsyL2"
      },
      "source": [
        "## Objectives\n",
        "\n",
        "- Text preprocessing\n",
        "    - Encoding/Decoding data to work with a neural network\n",
        "\n",
        "- Monitoring for overfitting\n",
        "    - Number of epochs to train to avoid Validation testing performance loss\n",
        "\n",
        "- Deeper dive into training\n",
        "    - Early stopping and other callbacks\n",
        "\n",
        "- Improve Model Generalization\n",
        "    - Regularization / Dropout"
      ]
    },
    {
      "cell_type": "markdown",
      "metadata": {
        "id": "0I2pUD5VaXMv"
      },
      "source": [
        "## Classifying movie reviews:\n",
        "\n",
        "A binary classification example"
      ]
    },
    {
      "cell_type": "markdown",
      "metadata": {
        "id": "ca9MsTXXaXMv"
      },
      "source": [
        "### The IMDB dataset"
      ]
    },
    {
      "cell_type": "markdown",
      "metadata": {
        "id": "3SuFSe1RaXMw"
      },
      "source": [
        "**Loading the IMDB dataset**\n",
        "\n",
        "A set of 50,000 highly polarized reviews from the Internet Movie Database. They’re split into 25,000 reviews for training and 25,000 reviews for testing, each set consisting of 50% negative and 50% positive reviews.\n",
        "\n",
        "the reviews (sequences of words) have been turned into sequences of integers, where each integer stands for a specific word in a dictionary. This enables us to focus on model building, training, and evaluation.\n"
      ]
    },
    {
      "cell_type": "code",
      "execution_count": null,
      "metadata": {
        "id": "X-xAOx2qaXMw"
      },
      "outputs": [],
      "source": [
        "from tensorflow.keras.datasets import imdb\n",
        "(train_data, train_labels), (test_data, test_labels) = imdb.load_data(\n",
        "    num_words=10000)\n",
        "# only keep the top 10,000 most frequently occurring words in the training data. (out of ~90k)"
      ]
    },
    {
      "cell_type": "code",
      "execution_count": null,
      "metadata": {
        "id": "SUhzr_9Cr_Gi",
        "colab": {
          "base_uri": "https://localhost:8080/"
        },
        "outputId": "36c37fa8-3e78-47e2-aa0a-a4b19b98e9d8"
      },
      "outputs": [
        {
          "output_type": "stream",
          "name": "stdout",
          "text": [
            "25000 25000\n"
          ]
        }
      ],
      "source": [
        "print(len(train_data), len(test_data))"
      ]
    },
    {
      "cell_type": "markdown",
      "metadata": {
        "id": "BhHPd1jHsyL4"
      },
      "source": [
        "## Text preprocessing"
      ]
    },
    {
      "cell_type": "markdown",
      "metadata": {
        "id": "ny_3Rqh1Wdx2"
      },
      "source": [
        "The variables train_data and test_data are lists of reviews; each review is a list of word indices (encoding a sequence of words).\n",
        "\n",
        "train_labels and test_labels are lists of 0s and 1s, where 0 stands for negative and 1 stands for positive:"
      ]
    },
    {
      "cell_type": "code",
      "execution_count": null,
      "metadata": {
        "id": "hwNHFlJsaXMx",
        "colab": {
          "base_uri": "https://localhost:8080/"
        },
        "outputId": "a1d9b638-9daf-470f-eac4-f381ddf7dcc3"
      },
      "outputs": [
        {
          "output_type": "execute_result",
          "data": {
            "text/plain": [
              "[1, 14, 22, 16, 43, 530, 973, 1622, 1385, 65, 458]"
            ]
          },
          "metadata": {},
          "execution_count": 7
        }
      ],
      "source": [
        "train_data[0][:11] #coded first 11 words of the Review #0"
      ]
    },
    {
      "cell_type": "code",
      "execution_count": null,
      "metadata": {
        "id": "OJC359JfaXMx",
        "colab": {
          "base_uri": "https://localhost:8080/"
        },
        "outputId": "a1278fae-3f67-44c6-ed74-54e0be8dc29b"
      },
      "outputs": [
        {
          "output_type": "execute_result",
          "data": {
            "text/plain": [
              "1"
            ]
          },
          "metadata": {},
          "execution_count": 8
        }
      ],
      "source": [
        "train_labels[0]"
      ]
    },
    {
      "cell_type": "code",
      "execution_count": null,
      "metadata": {
        "id": "z45q1DrCaXMy",
        "colab": {
          "base_uri": "https://localhost:8080/"
        },
        "outputId": "2d88c599-875f-40c8-cf05-42ecc95cdbe0"
      },
      "outputs": [
        {
          "output_type": "execute_result",
          "data": {
            "text/plain": [
              "9999"
            ]
          },
          "metadata": {},
          "execution_count": 9
        }
      ],
      "source": [
        "max([max(sequence) for sequence in train_data]) #top 10k words"
      ]
    },
    {
      "cell_type": "markdown",
      "metadata": {
        "id": "NcA7SmQlaXMy"
      },
      "source": [
        "**Decoding reviews back to text**\n",
        "\n",
        "Words are indexed by overall frequency in the dataset, so that for instance the integer \"3\" encodes the 3rd most frequent word in the data.\n",
        "\n",
        "We can go back and forth between \"3\" and associated word or vice versa!"
      ]
    },
    {
      "cell_type": "code",
      "execution_count": null,
      "metadata": {
        "id": "vecKfBLcaXMy"
      },
      "outputs": [],
      "source": [
        "word_index = imdb.get_word_index()\n",
        "reverse_word_index = dict(\n",
        "    [(value, key) for (key, value) in word_index.items()])\n"
      ]
    },
    {
      "cell_type": "code",
      "execution_count": null,
      "metadata": {
        "id": "WOjoabaSY_Ub",
        "colab": {
          "base_uri": "https://localhost:8080/",
          "height": 139
        },
        "outputId": "c9d1d240-2e2b-43aa-8100-bf99aff9babc"
      },
      "outputs": [
        {
          "output_type": "execute_result",
          "data": {
            "text/plain": [
              "\"? this film was just brilliant casting location scenery story direction everyone's really suited the part they played and you could just imagine being there robert ? is an amazing actor and now the same being director ? father came from the same scottish island as myself so i loved the fact there was a real connection with this film the witty remarks throughout the film were great it was just brilliant so much that i bought the film as soon as it was released for ? and would recommend it to everyone to watch and the fly fishing was amazing really cried at the end it was so sad and you know what they say if you cry at a film it must have been good and this definitely was also ? to the two little boy's that played the ? of norman and paul they were just brilliant children are often left out of the ? list i think because the stars that play them all grown up are such a big profile for the whole film but these children are amazing and should be praised for what they have done don't you think the whole story was so lovely because it was true and was someone's life after all that was shared with us all\""
            ],
            "application/vnd.google.colaboratory.intrinsic+json": {
              "type": "string"
            }
          },
          "metadata": {},
          "execution_count": 11
        }
      ],
      "source": [
        "decoded_review = \" \".join(\n",
        "    [reverse_word_index.get(i - 3, \"?\") for i in train_data[0]])\n",
        "\n",
        "decoded_review"
      ]
    },
    {
      "cell_type": "code",
      "execution_count": null,
      "metadata": {
        "id": "80tyVJ7AQTAD",
        "colab": {
          "base_uri": "https://localhost:8080/"
        },
        "outputId": "3b03d32a-5623-47a5-d4ec-f5b413fde39f"
      },
      "outputs": [
        {
          "output_type": "execute_result",
          "data": {
            "text/plain": [
              "[1, 14, 22, 16, 43, 530, 973, 1622, 1385, 65, 458]"
            ]
          },
          "metadata": {},
          "execution_count": 12
        }
      ],
      "source": [
        "train_data[0][:11]"
      ]
    },
    {
      "cell_type": "code",
      "execution_count": null,
      "metadata": {
        "id": "SeABDaTLYiUA",
        "colab": {
          "base_uri": "https://localhost:8080/"
        },
        "outputId": "892ec739-4918-4b35-8864-803b1fe8330c"
      },
      "outputs": [
        {
          "output_type": "stream",
          "name": "stdout",
          "text": [
            "1 ?\n",
            "14 this\n",
            "22 film\n",
            "16 was\n",
            "43 just\n",
            "530 brilliant\n",
            "973 casting\n",
            "1622 location\n",
            "1385 scenery\n",
            "65 story\n",
            "458 direction\n"
          ]
        }
      ],
      "source": [
        "#decode integers back to words\n",
        "for i in train_data[0][:11]:\n",
        "    print(i, reverse_word_index.get(i-3, \"?\"))"
      ]
    },
    {
      "cell_type": "markdown",
      "metadata": {
        "id": "FQZ72xv4aXMz"
      },
      "source": [
        "### Preparing the data"
      ]
    },
    {
      "cell_type": "markdown",
      "metadata": {
        "id": "nInsbqJgaXMz"
      },
      "source": [
        "**Encoding the integer sequences via multi-hot encoding**\n",
        "\n",
        "Each review is different length. Format is no go as is.\n",
        "\n"
      ]
    },
    {
      "cell_type": "code",
      "execution_count": null,
      "metadata": {
        "id": "_roXIA4zYWpw",
        "colab": {
          "base_uri": "https://localhost:8080/"
        },
        "outputId": "a4d898eb-ea01-473e-f7cf-ebd2df073a47"
      },
      "outputs": [
        {
          "output_type": "stream",
          "name": "stdout",
          "text": [
            "train_data[0]: 218\n",
            "train_data[33]: 162\n",
            "train_data[333]: 114\n"
          ]
        }
      ],
      "source": [
        "#Note that length of reviews vary\n",
        "print(\"train_data[0]:\", len(train_data[0]))\n",
        "print(\"train_data[33]:\", len(train_data[33]))\n",
        "print(\"train_data[333]:\", len(train_data[333]))"
      ]
    },
    {
      "cell_type": "markdown",
      "metadata": {
        "id": "v3D7AaGRIGPj"
      },
      "source": [
        "**Multi-hot encode** your lists to turn them into vectors of 0s and 1s. This would mean, for instance, turning the sequence [8, 5] into a 10,000-dimensional vector that would be all 0s except for indices 8 and 5, which would be 1s. Then you could use a Dense layer, capable of handling floating-point vector data, as the first layer in your model.\n",
        "\n",
        "Note that our train data size is now increased significantly!"
      ]
    },
    {
      "cell_type": "code",
      "execution_count": null,
      "metadata": {
        "id": "N3rVjWmOaXMz"
      },
      "outputs": [],
      "source": [
        "# Multi-hot encode your lists to turn them into vectors of 0s and 1s\n",
        "import numpy as np\n",
        "def vectorize_sequences(sequences, dimension=10000):\n",
        "    results = np.zeros((len(sequences), dimension))\n",
        "    for i, sequence in enumerate(sequences):\n",
        "        for j in sequence:\n",
        "            results[i, j] = 1.\n",
        "    return results\n",
        "x_train = vectorize_sequences(train_data)\n",
        "x_test = vectorize_sequences(test_data)"
      ]
    },
    {
      "cell_type": "code",
      "execution_count": null,
      "metadata": {
        "id": "B1g2-7ArXp2F",
        "colab": {
          "base_uri": "https://localhost:8080/"
        },
        "outputId": "e30b2fd4-e0bf-4e6b-9c82-4406dfada6e5"
      },
      "outputs": [
        {
          "output_type": "stream",
          "name": "stdout",
          "text": [
            "train_data: (25000,) \n",
            "x_train: (25000, 10000)\n"
          ]
        }
      ],
      "source": [
        "print(\"train_data:\", train_data.shape, \"\\nx_train:\", x_train.shape)"
      ]
    },
    {
      "cell_type": "code",
      "execution_count": null,
      "metadata": {
        "id": "E9XuP1BsaXMz",
        "colab": {
          "base_uri": "https://localhost:8080/"
        },
        "outputId": "12d9e96c-c14c-4e8b-a92d-f0f62e5f874f"
      },
      "outputs": [
        {
          "output_type": "execute_result",
          "data": {
            "text/plain": [
              "array([0., 1., 1., ..., 0., 0., 0.])"
            ]
          },
          "metadata": {},
          "execution_count": 17
        }
      ],
      "source": [
        "x_train[0]"
      ]
    },
    {
      "cell_type": "code",
      "execution_count": null,
      "metadata": {
        "id": "ouvMUPETaXM0"
      },
      "outputs": [],
      "source": [
        "y_train = np.asarray(train_labels).astype(\"float32\")\n",
        "y_test = np.asarray(test_labels).astype(\"float32\")"
      ]
    },
    {
      "cell_type": "markdown",
      "metadata": {
        "id": "u0gBbMR5aXM0"
      },
      "source": [
        "### Building your model"
      ]
    },
    {
      "cell_type": "markdown",
      "metadata": {
        "id": "K-RmyT2xaXM0"
      },
      "source": [
        "**Model definition**\n",
        "\n",
        "What type of problem are we solving?\n",
        "\n",
        "(Binary) classification.\n",
        "\n",
        "Desnse layers with ReLu activation is a good start.\n"
      ]
    },
    {
      "cell_type": "code",
      "execution_count": null,
      "metadata": {
        "id": "il2mIk06aXM0"
      },
      "outputs": [],
      "source": [
        "from tensorflow import keras\n",
        "from tensorflow.keras import layers\n",
        "\n",
        "model = keras.Sequential([\n",
        "    layers.Dense(16, activation=\"relu\"),\n",
        "    layers.Dense(16, activation=\"relu\"),\n",
        "    #final Layer: How many neurons? Which actiations?\n",
        "    # layers.Dense(####)\n",
        "    layers.Dense(1,activation=\"sigmoid\")\n",
        "])"
      ]
    },
    {
      "cell_type": "markdown",
      "metadata": {
        "id": "-1CgE3YaxpRW"
      },
      "source": [
        "## Activations:\n",
        "\n",
        "### ReLu:\n",
        "(rectified linear unit) is a function meant to zero out negative values\n",
        "\n",
        "<img src=https://drek4537l1klr.cloudfront.net/chollet2/Figures/04-02.png>\n",
        "\n",
        "### Sigmoid:\n",
        "A sigmoid “squashes” arbitrary values into the [0, 1] interval (see figure 4.3), outputting something that can be interpreted as a probability.\n",
        "\n",
        "<img src=https://drek4537l1klr.cloudfront.net/chollet2/Figures/04-03.png>"
      ]
    },
    {
      "cell_type": "markdown",
      "metadata": {
        "id": "1pczfk0LaXM0"
      },
      "source": [
        "**Compiling the model**\n",
        "\n",
        "Dealing with a binary classification problem and the output of your model is a probability (you end your model with a single-unit layer with a sigmoid activation), it’s best to use the binary_crossentropy loss."
      ]
    },
    {
      "cell_type": "code",
      "execution_count": null,
      "metadata": {
        "id": "tWM3WtWGaXM1"
      },
      "outputs": [],
      "source": [
        "model.compile(optimizer=\"rmsprop\",\n",
        "              loss=\"binary_crossentropy\",\n",
        "              metrics=[\"accuracy\"])"
      ]
    },
    {
      "cell_type": "markdown",
      "metadata": {
        "id": "bBSygD-DaXM1"
      },
      "source": [
        "### Validating your approach"
      ]
    },
    {
      "cell_type": "markdown",
      "metadata": {
        "id": "oU0oUeUQaXM1"
      },
      "source": [
        "**Setting aside a validation set**\n",
        "\n",
        "create a validation set by setting apart 10,000 samples from the original training data."
      ]
    },
    {
      "cell_type": "code",
      "execution_count": null,
      "metadata": {
        "id": "xKn5t_KxaXM1"
      },
      "outputs": [],
      "source": [
        "x_val = x_train[:10000]\n",
        "partial_x_train = x_train[10000:]\n",
        "y_val = y_train[:10000]\n",
        "partial_y_train = y_train[10000:]"
      ]
    },
    {
      "cell_type": "markdown",
      "metadata": {
        "id": "sbTZM6yOaXM1"
      },
      "source": [
        "**Training your model**\n",
        "\n",
        "Save traingin **history** while training."
      ]
    },
    {
      "cell_type": "code",
      "execution_count": null,
      "metadata": {
        "id": "AHxjGVt5aXM1",
        "colab": {
          "base_uri": "https://localhost:8080/"
        },
        "outputId": "a31879e9-bace-43af-d446-fbe425206d2f"
      },
      "outputs": [
        {
          "output_type": "stream",
          "name": "stdout",
          "text": [
            "Epoch 1/20\n",
            "30/30 [==============================] - 4s 101ms/step - loss: 0.5343 - accuracy: 0.7783 - val_loss: 0.4248 - val_accuracy: 0.8387\n",
            "Epoch 2/20\n",
            "30/30 [==============================] - 2s 63ms/step - loss: 0.3398 - accuracy: 0.8879 - val_loss: 0.3233 - val_accuracy: 0.8844\n",
            "Epoch 3/20\n",
            "30/30 [==============================] - 1s 38ms/step - loss: 0.2541 - accuracy: 0.9144 - val_loss: 0.3100 - val_accuracy: 0.8737\n",
            "Epoch 4/20\n",
            "30/30 [==============================] - 1s 38ms/step - loss: 0.2065 - accuracy: 0.9306 - val_loss: 0.2917 - val_accuracy: 0.8811\n",
            "Epoch 5/20\n",
            "30/30 [==============================] - 1s 37ms/step - loss: 0.1729 - accuracy: 0.9440 - val_loss: 0.2807 - val_accuracy: 0.8866\n",
            "Epoch 6/20\n",
            "30/30 [==============================] - 1s 38ms/step - loss: 0.1456 - accuracy: 0.9539 - val_loss: 0.2865 - val_accuracy: 0.8837\n",
            "Epoch 7/20\n",
            "30/30 [==============================] - 1s 37ms/step - loss: 0.1276 - accuracy: 0.9585 - val_loss: 0.2901 - val_accuracy: 0.8848\n",
            "Epoch 8/20\n",
            "30/30 [==============================] - 1s 39ms/step - loss: 0.1101 - accuracy: 0.9665 - val_loss: 0.3059 - val_accuracy: 0.8841\n",
            "Epoch 9/20\n",
            "30/30 [==============================] - 1s 40ms/step - loss: 0.0965 - accuracy: 0.9703 - val_loss: 0.3249 - val_accuracy: 0.8836\n",
            "Epoch 10/20\n",
            "30/30 [==============================] - 2s 56ms/step - loss: 0.0809 - accuracy: 0.9769 - val_loss: 0.3384 - val_accuracy: 0.8826\n",
            "Epoch 11/20\n",
            "30/30 [==============================] - 2s 55ms/step - loss: 0.0734 - accuracy: 0.9794 - val_loss: 0.3724 - val_accuracy: 0.8718\n",
            "Epoch 12/20\n",
            "30/30 [==============================] - 1s 39ms/step - loss: 0.0619 - accuracy: 0.9835 - val_loss: 0.3707 - val_accuracy: 0.8769\n",
            "Epoch 13/20\n",
            "30/30 [==============================] - 1s 37ms/step - loss: 0.0547 - accuracy: 0.9864 - val_loss: 0.3923 - val_accuracy: 0.8773\n",
            "Epoch 14/20\n",
            "30/30 [==============================] - 1s 39ms/step - loss: 0.0466 - accuracy: 0.9896 - val_loss: 0.4108 - val_accuracy: 0.8761\n",
            "Epoch 15/20\n",
            "30/30 [==============================] - 1s 39ms/step - loss: 0.0395 - accuracy: 0.9923 - val_loss: 0.4319 - val_accuracy: 0.8747\n",
            "Epoch 16/20\n",
            "30/30 [==============================] - 1s 39ms/step - loss: 0.0359 - accuracy: 0.9932 - val_loss: 0.4675 - val_accuracy: 0.8714\n",
            "Epoch 17/20\n",
            "30/30 [==============================] - 1s 38ms/step - loss: 0.0295 - accuracy: 0.9944 - val_loss: 0.4767 - val_accuracy: 0.8723\n",
            "Epoch 18/20\n",
            "30/30 [==============================] - 1s 41ms/step - loss: 0.0266 - accuracy: 0.9959 - val_loss: 0.4991 - val_accuracy: 0.8726\n",
            "Epoch 19/20\n",
            "30/30 [==============================] - 1s 41ms/step - loss: 0.0216 - accuracy: 0.9967 - val_loss: 0.6007 - val_accuracy: 0.8622\n",
            "Epoch 20/20\n",
            "30/30 [==============================] - 1s 49ms/step - loss: 0.0180 - accuracy: 0.9981 - val_loss: 0.5632 - val_accuracy: 0.8647\n"
          ]
        }
      ],
      "source": [
        "history = model.fit(partial_x_train,\n",
        "                    partial_y_train,\n",
        "                    epochs=20,\n",
        "                    batch_size=512,\n",
        "                    validation_data=(x_val, y_val))"
      ]
    },
    {
      "cell_type": "markdown",
      "metadata": {
        "id": "QEJ92OpQaC7I"
      },
      "source": [
        "The *history* dictionary contains four entries: one per metric that was being monitored during training and during validation.\n",
        "\n",
        "In the following two listings, let’s use Matplotlib to plot the training and validation loss side by side (see figure 4.4), as well as the training and validation accuracy (see figure 4.5).\n",
        "\n",
        "Note that your own results may vary slightly due to a different random initialization of your model."
      ]
    },
    {
      "cell_type": "code",
      "execution_count": null,
      "metadata": {
        "id": "X1U0MmSWaXM2",
        "colab": {
          "base_uri": "https://localhost:8080/"
        },
        "outputId": "802aafda-bd0d-40bf-8be8-083e0021ab8e"
      },
      "outputs": [
        {
          "output_type": "execute_result",
          "data": {
            "text/plain": [
              "dict_keys(['loss', 'accuracy', 'val_loss', 'val_accuracy'])"
            ]
          },
          "metadata": {},
          "execution_count": 88
        }
      ],
      "source": [
        "history_dict = history.history\n",
        "history_dict.keys()"
      ]
    },
    {
      "cell_type": "code",
      "execution_count": null,
      "metadata": {
        "id": "j3zXGpc_prB2",
        "colab": {
          "base_uri": "https://localhost:8080/"
        },
        "outputId": "ad89207c-102c-407a-fb6d-ac6ee7c76d07"
      },
      "outputs": [
        {
          "output_type": "stream",
          "name": "stdout",
          "text": [
            "Model: \"sequential_7\"\n",
            "_________________________________________________________________\n",
            " Layer (type)                Output Shape              Param #   \n",
            "=================================================================\n",
            " dense_21 (Dense)            (None, 16)                160016    \n",
            "                                                                 \n",
            " dense_22 (Dense)            (None, 16)                272       \n",
            "                                                                 \n",
            " dense_23 (Dense)            (None, 1)                 17        \n",
            "                                                                 \n",
            "=================================================================\n",
            "Total params: 160,305\n",
            "Trainable params: 160,305\n",
            "Non-trainable params: 0\n",
            "_________________________________________________________________\n",
            "None\n"
          ]
        }
      ],
      "source": [
        "print(model.summary())"
      ]
    },
    {
      "cell_type": "markdown",
      "metadata": {
        "id": "Exg0sDXHaXM2"
      },
      "source": [
        "**Plotting the training and validation loss**\n",
        "\n",
        "Importance of validating your model!"
      ]
    },
    {
      "cell_type": "code",
      "execution_count": null,
      "metadata": {
        "id": "cMvs9nwCaXM2",
        "colab": {
          "base_uri": "https://localhost:8080/",
          "height": 472
        },
        "outputId": "0d5ee94a-6866-4ff5-f0ff-618d215425f6"
      },
      "outputs": [
        {
          "output_type": "display_data",
          "data": {
            "text/plain": [
              "<Figure size 640x480 with 1 Axes>"
            ],
            "image/png": "[encoded data removed]"
          },
          "metadata": {}
        }
      ],
      "source": [
        "import matplotlib.pyplot as plt\n",
        "history_dict = history.history\n",
        "loss_values = history_dict[\"loss\"]\n",
        "val_loss_values = history_dict[\"val_loss\"]\n",
        "epochs = range(1, len(loss_values) + 1)\n",
        "plt.plot(epochs, loss_values, \"bo\", label=\"Training loss\")\n",
        "plt.plot(epochs, val_loss_values, \"b\", label=\"Validation loss\")\n",
        "plt.title(\"Training and validation loss\")\n",
        "plt.xlabel(\"Epochs\")\n",
        "plt.ylabel(\"Loss\")\n",
        "plt.legend()\n",
        "plt.show()"
      ]
    },
    {
      "cell_type": "markdown",
      "metadata": {
        "id": "MwitwaydaXM2"
      },
      "source": [
        "**Plotting the training and validation accuracy**"
      ]
    },
    {
      "cell_type": "code",
      "execution_count": null,
      "metadata": {
        "id": "wzqSMyfWaXM2",
        "colab": {
          "base_uri": "https://localhost:8080/",
          "height": 472
        },
        "outputId": "cccbf4e6-43d4-4d49-ee32-e41132c50edf"
      },
      "outputs": [
        {
          "output_type": "display_data",
          "data": {
            "text/plain": [
              "<Figure size 640x480 with 1 Axes>"
            ],
            "image/png": "[encoded data removed]"
          },
          "metadata": {}
        }
      ],
      "source": [
        "plt.clf()\n",
        "acc = history_dict[\"accuracy\"]\n",
        "val_acc = history_dict[\"val_accuracy\"]\n",
        "plt.plot(epochs, acc, \"bo\", label=\"Training acc\")\n",
        "plt.plot(epochs, val_acc, \"b\", label=\"Validation acc\")\n",
        "plt.title(\"Training and validation accuracy\")\n",
        "plt.xlabel(\"Epochs\")\n",
        "plt.ylabel(\"Accuracy\")\n",
        "plt.legend()\n",
        "plt.show()"
      ]
    },
    {
      "cell_type": "markdown",
      "metadata": {
        "id": "UZQrtdCDsyL_"
      },
      "source": [
        "## Monitoring for overfitting\n"
      ]
    },
    {
      "cell_type": "markdown",
      "metadata": {
        "id": "BoR7eITKaXpU"
      },
      "source": [
        "As you can see, the training loss decreases with every epoch, and the training accuracy increases with every epoch. That’s what you would expect when running gradient-descent optimization—the quantity you’re trying to minimize should be less with every iteration.\n",
        "\n",
        "But that isn’t the case for the validation loss and accuracy: they seem to peak at the ***?dort?*** epoch. This is an example of what we warned against earlier: a model that performs better on the training data isn’t necessarily a model that will do better on data it has never seen before.\n",
        "\n",
        "In precise terms, what you’re seeing is **overfitting**: after the *???* epoch, you’re overoptimizing on the training data, and you end up learning representations that are specific to the training data and don’t generalize to data outside of the training set."
      ]
    },
    {
      "cell_type": "markdown",
      "metadata": {
        "id": "m6Zu6uLvaXM2"
      },
      "source": [
        "**Retraining a model from scratch**"
      ]
    },
    {
      "cell_type": "code",
      "execution_count": null,
      "metadata": {
        "id": "YeSJoxCIaXM2",
        "colab": {
          "base_uri": "https://localhost:8080/"
        },
        "outputId": "373821bf-fa42-4757-e80b-9f36f409203e"
      },
      "outputs": [
        {
          "output_type": "stream",
          "name": "stdout",
          "text": [
            "Epoch 1/5\n",
            "49/49 [==============================] - 2s 29ms/step - loss: 0.5564 - accuracy: 0.7589\n",
            "Epoch 2/5\n",
            "49/49 [==============================] - 1s 28ms/step - loss: 0.3421 - accuracy: 0.8905\n",
            "Epoch 3/5\n",
            "49/49 [==============================] - 2s 35ms/step - loss: 0.2483 - accuracy: 0.9155\n",
            "Epoch 4/5\n",
            "49/49 [==============================] - 2s 44ms/step - loss: 0.2089 - accuracy: 0.9266\n",
            "Epoch 5/5\n",
            "49/49 [==============================] - 2s 30ms/step - loss: 0.1794 - accuracy: 0.9386\n",
            "782/782 [==============================] - 2s 2ms/step - loss: 0.2882 - accuracy: 0.8867\n"
          ]
        }
      ],
      "source": [
        "e = 5 #number of epochs to avoid overtraining\n",
        "# update!!\n",
        "\n",
        "model = keras.Sequential([\n",
        "    layers.Dense(16, activation=\"relu\"),\n",
        "    layers.Dense(16, activation=\"relu\"),\n",
        "    layers.Dense(1, activation=\"sigmoid\")\n",
        "])\n",
        "model.compile(optimizer=\"rmsprop\",\n",
        "              loss=\"binary_crossentropy\",\n",
        "              metrics=[\"accuracy\"])\n",
        "model.fit(x_train, y_train, epochs=e, batch_size=512)\n",
        "results = model.evaluate(x_test, y_test)"
      ]
    },
    {
      "cell_type": "code",
      "execution_count": null,
      "metadata": {
        "id": "LFU0qizgaXM2",
        "colab": {
          "base_uri": "https://localhost:8080/"
        },
        "outputId": "e3408595-daae-4c77-e0b9-e1d13c3d7a7b"
      },
      "outputs": [
        {
          "output_type": "execute_result",
          "data": {
            "text/plain": [
              "[0.2882428765296936, 0.8867200016975403]"
            ]
          },
          "metadata": {},
          "execution_count": 96
        }
      ],
      "source": [
        "results"
      ]
    },
    {
      "cell_type": "markdown",
      "metadata": {
        "id": "2v7RnF19a6NJ"
      },
      "source": [
        "This fairly naive approach achieves an accuracy of 88%.\n",
        "\n",
        "With state-of-the-art approaches, you should be able to get close to 95%."
      ]
    },
    {
      "cell_type": "markdown",
      "metadata": {
        "id": "faK5yWtSaXM3"
      },
      "source": [
        "### Using a trained model to generate predictions on new data"
      ]
    },
    {
      "cell_type": "code",
      "execution_count": null,
      "metadata": {
        "id": "zsS6bWuhaXM3",
        "colab": {
          "base_uri": "https://localhost:8080/"
        },
        "outputId": "85ef270b-5f03-4a3f-ee0c-b827175a633d"
      },
      "outputs": [
        {
          "output_type": "stream",
          "name": "stdout",
          "text": [
            "782/782 [==============================] - 2s 2ms/step\n"
          ]
        },
        {
          "output_type": "execute_result",
          "data": {
            "text/plain": [
              "array([[0.26652777],\n",
              "       [0.99986   ],\n",
              "       [0.8146238 ],\n",
              "       ...,\n",
              "       [0.10552192],\n",
              "       [0.09015525],\n",
              "       [0.5967048 ]], dtype=float32)"
            ]
          },
          "metadata": {},
          "execution_count": 26
        }
      ],
      "source": [
        "model.predict(x_test)"
      ]
    },
    {
      "cell_type": "code",
      "execution_count": null,
      "metadata": {
        "id": "TOEEtXkd3DLL",
        "colab": {
          "base_uri": "https://localhost:8080/"
        },
        "outputId": "f0c479be-759f-4ef4-eab7-b3ff89d55240"
      },
      "outputs": [
        {
          "output_type": "stream",
          "name": "stdout",
          "text": [
            "1/1 [==============================] - 0s 21ms/step\n"
          ]
        },
        {
          "output_type": "execute_result",
          "data": {
            "text/plain": [
              "array([0.26348838], dtype=float32)"
            ]
          },
          "metadata": {},
          "execution_count": 47
        }
      ],
      "source": [
        "#FUN!\n",
        "#Test your  models performance on your own reviews!\n",
        "\n",
        "def return_review_pred(r, model):\n",
        "    l = [] #list of each word in r\n",
        "    for word in r.lower().split(\" \"):\n",
        "    # print(word)\n",
        "        l.append(word_index.get(word)+3)\n",
        "    l = np.vstack([l,l]) #duct tape\n",
        "  #encode each word to an int and Multi-hot\n",
        "    x_r = vectorize_sequences(l)\n",
        "  # print(x_r.shape) #how long does each sentance become?\n",
        "    return model.predict(x_r) #What is 0 vs 1?\n",
        "\n",
        "#Code below should take your review in r and encoded to be analyzed by the model!\n",
        "r = \"This film had the worst cast but okay plot\"\n",
        "return_review_pred(r, model)[0]\n",
        "#what does 0.6 mean?"
      ]
    },
    {
      "cell_type": "markdown",
      "metadata": {
        "id": "tvoUEIaCaXM3"
      },
      "source": [
        "### Further experiments\n",
        "\n",
        "*   You used two representation layers before the final classification layer. Try using one or three representation layers, and see how doing so affects validation and test accuracy.\n",
        "*   Try using layers with more units or fewer units: 32 units, 64 units, and so on.\n",
        "*   Try using the mse loss function instead of binary_crossentropy.\n",
        "*   Try using the tanh activation (an activation that was popular in the early days of neural networks) instead of relu.\n",
        "\n",
        "\n"
      ]
    },
    {
      "cell_type": "markdown",
      "metadata": {
        "id": "y006KUyZsyMB"
      },
      "source": [
        "## Deeper dive into training"
      ]
    },
    {
      "cell_type": "markdown",
      "metadata": {
        "id": "IpqvtxgKsyMB"
      },
      "source": [
        "Now that we know what to look for in our train vs validate plots, we can be smarter about it.\n",
        "\n",
        "Goal:\n",
        "- Train as long as it avoids overfitting\n",
        "- No formula\n",
        "- How to automate?\n",
        "    - Monitor Loss on Validation data and see when it stops improving.\n",
        "\n",
        "\n",
        "Since we can save the state of our model, we can code this!\n"
      ]
    },
    {
      "cell_type": "markdown",
      "metadata": {
        "id": "-SybEuAasyMB"
      },
      "source": [
        "Tool: *callback*\n"
      ]
    },
    {
      "cell_type": "markdown",
      "metadata": {
        "id": "OXbFRyuNsyMB"
      },
      "source": [
        "Optional parameter passed to model.fit(_)\n",
        "Has access to data and state of model\n",
        "Can:\n",
        "- Save model at different stages during training\n",
        "- Interrupt training\n",
        "- Alter model state, including loading diff weights"
      ]
    },
    {
      "cell_type": "markdown",
      "metadata": {
        "id": "xCmmGrEtsyMC"
      },
      "source": [
        "Available callbacks:\n",
        "https://keras.io/api/callbacks/\n"
      ]
    },
    {
      "cell_type": "markdown",
      "metadata": {
        "id": "qZrZvmsYsyMC"
      },
      "source": [
        "Common callbacks use cases, from Chollet Ch. 7.3.2:\n",
        "\n",
        "- **Model checkpointing**—Saving the current state of the model at different points during training.\n",
        "- **Early stopping**—Interrupting training when the validation loss is no longer improving (and of course, saving the best model obtained during training).\n",
        "- **Dynamically adjusting** the value of certain parameters during training—Such as the learning rate of the optimizer: [LearningRateScheduler](https://keras.io/api/callbacks/learning_rate_scheduler)\n",
        "- **Logging** training and validation metrics during training, or visualizing the representations learned by the model as they’re updated—The fit() progress bar that you’re familiar with is in fact a callback!\n"
      ]
    },
    {
      "cell_type": "markdown",
      "metadata": {
        "id": "HWe-XcrFsyMC"
      },
      "source": [
        "### How to use callback?"
      ]
    },
    {
      "cell_type": "code",
      "execution_count": null,
      "metadata": {
        "id": "bx_lleoLsyMC"
      },
      "outputs": [],
      "source": [
        "#Live coding to fill in the blanks.\n",
        "\n",
        "\n",
        "# Callbacks are passed to the model via the callbacks argument in fit(),\n",
        "# which takes a list of callbacks.\n",
        "# You can pass any number of callbacks\n",
        "callbacks_list = [\n",
        "    #Interrupts training when improvement stops\n",
        "    keras.callbacks.EarlyStopping(\n",
        "        #Monitors the model’s validation accuracy\n",
        "        monitor = \"val_accuracy\",\n",
        "        #Interrupts training when accuracy has stopped improving for N epochs\n",
        "        patience = 2,\n",
        "    ),\n",
        "    #Saves the current weights after every epoch\n",
        "    keras.callbacks.ModelCheckpoint(\n",
        "        #Path to the destination model file\n",
        "        filepath = \"checkpoint_path.keras\",\n",
        "        #These two arguments mean you won’t overwrite the model file unless val_loss has improved,\n",
        "#         which allows you to keep the best model seen during training.\n",
        "        monitor='val_accuracy',\n",
        "        mode='max', #optional\n",
        "        save_best_only=True\n",
        ")\n",
        "    #We used model.save() before which saves only AFTER training, not during.\n",
        " ]"
      ]
    },
    {
      "cell_type": "code",
      "execution_count": null,
      "metadata": {
        "id": "JSTCQ8dbsyMC"
      },
      "outputs": [],
      "source": []
    },
    {
      "cell_type": "code",
      "execution_count": null,
      "metadata": {
        "id": "6lA6j5XRsyMC"
      },
      "outputs": [],
      "source": [
        "# %load callback0.py\n"
      ]
    },
    {
      "cell_type": "markdown",
      "metadata": {
        "id": "_A2wwjbYsyMD"
      },
      "source": [
        "Update your training to include your callbacks:"
      ]
    },
    {
      "cell_type": "code",
      "execution_count": null,
      "metadata": {
        "id": "XUR2yWDFsyMD",
        "colab": {
          "base_uri": "https://localhost:8080/"
        },
        "outputId": "e84acd25-4eb0-4501-f872-b77e825cf34b"
      },
      "outputs": [
        {
          "output_type": "stream",
          "name": "stdout",
          "text": [
            "Epoch 1/500\n",
            "49/49 [==============================] - 3s 55ms/step - loss: 0.1665 - accuracy: 0.9400 - val_loss: 0.1427 - val_accuracy: 0.9545\n",
            "Epoch 2/500\n",
            "49/49 [==============================] - 2s 36ms/step - loss: 0.1501 - accuracy: 0.9466 - val_loss: 0.1205 - val_accuracy: 0.9646\n",
            "Epoch 3/500\n",
            "49/49 [==============================] - 3s 55ms/step - loss: 0.1333 - accuracy: 0.9544 - val_loss: 0.1071 - val_accuracy: 0.9682\n",
            "Epoch 4/500\n",
            "49/49 [==============================] - 2s 41ms/step - loss: 0.1222 - accuracy: 0.9586 - val_loss: 0.0959 - val_accuracy: 0.9728\n",
            "Epoch 5/500\n",
            "49/49 [==============================] - 2s 36ms/step - loss: 0.1089 - accuracy: 0.9639 - val_loss: 0.0866 - val_accuracy: 0.9761\n",
            "Epoch 6/500\n",
            "49/49 [==============================] - 2s 39ms/step - loss: 0.0977 - accuracy: 0.9687 - val_loss: 0.0754 - val_accuracy: 0.9797\n",
            "Epoch 7/500\n",
            "49/49 [==============================] - 4s 76ms/step - loss: 0.0902 - accuracy: 0.9708 - val_loss: 0.0708 - val_accuracy: 0.9820\n",
            "Epoch 8/500\n",
            "49/49 [==============================] - 3s 66ms/step - loss: 0.0806 - accuracy: 0.9743 - val_loss: 0.0627 - val_accuracy: 0.9841\n",
            "Epoch 9/500\n",
            "49/49 [==============================] - 3s 56ms/step - loss: 0.0737 - accuracy: 0.9765 - val_loss: 0.0528 - val_accuracy: 0.9882\n",
            "Epoch 10/500\n",
            "49/49 [==============================] - 2s 37ms/step - loss: 0.0662 - accuracy: 0.9793 - val_loss: 0.0468 - val_accuracy: 0.9899\n",
            "Epoch 11/500\n",
            "49/49 [==============================] - 2s 36ms/step - loss: 0.0570 - accuracy: 0.9838 - val_loss: 0.0402 - val_accuracy: 0.9916\n",
            "Epoch 12/500\n",
            "49/49 [==============================] - 3s 59ms/step - loss: 0.0513 - accuracy: 0.9856 - val_loss: 0.0624 - val_accuracy: 0.9790\n",
            "Epoch 13/500\n",
            "49/49 [==============================] - 2s 48ms/step - loss: 0.0461 - accuracy: 0.9872 - val_loss: 0.0306 - val_accuracy: 0.9940\n",
            "Epoch 14/500\n",
            "49/49 [==============================] - 2s 51ms/step - loss: 0.0418 - accuracy: 0.9886 - val_loss: 0.0265 - val_accuracy: 0.9954\n",
            "Epoch 15/500\n",
            "49/49 [==============================] - 2s 42ms/step - loss: 0.0376 - accuracy: 0.9896 - val_loss: 0.0231 - val_accuracy: 0.9958\n",
            "Epoch 16/500\n",
            "49/49 [==============================] - 2s 36ms/step - loss: 0.0332 - accuracy: 0.9906 - val_loss: 0.0197 - val_accuracy: 0.9968\n",
            "Epoch 17/500\n",
            "49/49 [==============================] - 2s 37ms/step - loss: 0.0274 - accuracy: 0.9936 - val_loss: 0.0177 - val_accuracy: 0.9969\n",
            "Epoch 18/500\n",
            "49/49 [==============================] - 2s 36ms/step - loss: 0.0269 - accuracy: 0.9927 - val_loss: 0.0145 - val_accuracy: 0.9975\n",
            "Epoch 19/500\n",
            "49/49 [==============================] - 2s 35ms/step - loss: 0.0205 - accuracy: 0.9951 - val_loss: 0.0117 - val_accuracy: 0.9982\n",
            "Epoch 20/500\n",
            "49/49 [==============================] - 2s 36ms/step - loss: 0.0194 - accuracy: 0.9950 - val_loss: 0.0169 - val_accuracy: 0.9973\n",
            "Epoch 21/500\n",
            "49/49 [==============================] - 3s 57ms/step - loss: 0.0150 - accuracy: 0.9968 - val_loss: 0.0085 - val_accuracy: 0.9992\n",
            "Epoch 22/500\n",
            "49/49 [==============================] - 2s 38ms/step - loss: 0.0141 - accuracy: 0.9969 - val_loss: 0.0066 - val_accuracy: 0.9995\n",
            "Epoch 23/500\n",
            "49/49 [==============================] - 2s 47ms/step - loss: 0.0123 - accuracy: 0.9972 - val_loss: 0.0101 - val_accuracy: 0.9994\n",
            "Epoch 24/500\n",
            "49/49 [==============================] - 2s 37ms/step - loss: 0.0114 - accuracy: 0.9978 - val_loss: 0.0058 - val_accuracy: 0.9997\n",
            "Epoch 25/500\n",
            "49/49 [==============================] - 2s 36ms/step - loss: 0.0101 - accuracy: 0.9977 - val_loss: 0.0043 - val_accuracy: 0.9998\n",
            "Epoch 26/500\n",
            "49/49 [==============================] - 2s 36ms/step - loss: 0.0097 - accuracy: 0.9976 - val_loss: 0.0034 - val_accuracy: 0.9999\n",
            "Epoch 27/500\n",
            "49/49 [==============================] - 2s 48ms/step - loss: 0.0096 - accuracy: 0.9977 - val_loss: 0.0033 - val_accuracy: 0.9999\n",
            "Epoch 28/500\n",
            "49/49 [==============================] - 2s 46ms/step - loss: 0.0095 - accuracy: 0.9972 - val_loss: 0.0026 - val_accuracy: 0.9999\n"
          ]
        },
        {
          "output_type": "execute_result",
          "data": {
            "text/plain": [
              "<keras.callbacks.History at 0x7f1502f0b1c0>"
            ]
          },
          "metadata": {},
          "execution_count": 50
        }
      ],
      "source": [
        "#Old:\n",
        "# model.fit(x_train, y_train, epochs=e, batch_size=512)\n",
        "\n",
        "#New:\n",
        "#fill with callbacks:\n",
        "# model.fit( )\n",
        "e=500\n",
        "model.fit(x_train, y_train, epochs=e, batch_size=512, callbacks=callbacks_list,validation_data=(x_val, y_val))"
      ]
    },
    {
      "cell_type": "markdown",
      "metadata": {
        "id": "W_ax9voFsyMD"
      },
      "source": [
        "## Improve Model Generalization\n",
        "\n",
        "- perform better in unseen data\n",
        "- Regularization"
      ]
    },
    {
      "cell_type": "markdown",
      "metadata": {
        "id": "M4h1bEewsyMD"
      },
      "source": [
        "actively *impede* the model’s ability to fit perfectly to the training data, with the goal of making the model perform better during validation.\n",
        "This is called “regularizing” the model, because it tends to make the model simpler, more “regular,” its curve smoother, more “generic”; thus it is less specific to the training set and better able to generalize by more closely approximating the latent manifold of the data.\n",
        "\n",
        "Many options, but worthy to mention: Dropout"
      ]
    },
    {
      "cell_type": "markdown",
      "metadata": {
        "id": "GT4l5SQnsyMD"
      },
      "source": [
        "randomly dropping out (setting to zero) a number of output features of the layer during training.\n",
        "\n",
        "Controlled by a parameter: **dropout rate**\n",
        "\n",
        "The dropout rate is the fraction of the features that are zeroed out; it’s usually set between 0.2 and 0.5."
      ]
    },
    {
      "cell_type": "markdown",
      "metadata": {
        "id": "2pJJ7eYBsyMD"
      },
      "source": [
        " Add after each layer:\n",
        "\n",
        "   `layers.Dropout(0.5)`\n",
        "\n",
        "Good for Dense, but may not be for Conv layers"
      ]
    },
    {
      "cell_type": "code",
      "execution_count": null,
      "metadata": {
        "id": "s4bd_k9MsyMD"
      },
      "outputs": [],
      "source": [
        "from tensorflow import keras\n",
        "from tensorflow.keras import layers\n",
        "\n",
        "model = keras.Sequential([\n",
        "    layers.Dense(16, activation=\"relu\"),\n",
        "    layers.Dropout(0.5), #50%: we set half of the output randomly to 0 during training\n",
        "    layers.Dense(16, activation=\"relu\"),\n",
        "    layers.Dropout(0.5),\n",
        "    layers.Dense(1, activation=\"sigmoid\") #WHY 1 NEURON???\n",
        "    #A new output activation! What did we use last time? Why are we using a sigmoid?\n",
        "])\n"
      ]
    },
    {
      "cell_type": "code",
      "execution_count": null,
      "metadata": {
        "id": "L_mRwY2esyMD"
      },
      "outputs": [],
      "source": [
        "model.compile(optimizer=\"rmsprop\",\n",
        "              loss=\"binary_crossentropy\",\n",
        "              metrics=[\"accuracy\"])"
      ]
    },
    {
      "cell_type": "code",
      "execution_count": null,
      "metadata": {
        "id": "MzeIypCAsyMD",
        "colab": {
          "base_uri": "https://localhost:8080/"
        },
        "outputId": "423352ec-aeb8-4c68-b47f-6b1e25605e23"
      },
      "outputs": [
        {
          "output_type": "stream",
          "name": "stdout",
          "text": [
            "Epoch 1/20\n",
            "49/49 [==============================] - 6s 102ms/step - loss: 0.6287 - accuracy: 0.6429 - val_loss: 0.5125 - val_accuracy: 0.8553\n",
            "Epoch 2/20\n",
            "49/49 [==============================] - 2s 44ms/step - loss: 0.4902 - accuracy: 0.7915 - val_loss: 0.3868 - val_accuracy: 0.8787\n",
            "Epoch 3/20\n",
            "49/49 [==============================] - 3s 67ms/step - loss: 0.3964 - accuracy: 0.8548 - val_loss: 0.3149 - val_accuracy: 0.8869\n",
            "Epoch 4/20\n",
            "49/49 [==============================] - 2s 47ms/step - loss: 0.3330 - accuracy: 0.8855 - val_loss: 0.2881 - val_accuracy: 0.8876\n",
            "Epoch 5/20\n",
            "49/49 [==============================] - 3s 63ms/step - loss: 0.2885 - accuracy: 0.9030 - val_loss: 0.2797 - val_accuracy: 0.8865\n",
            "Epoch 6/20\n",
            "49/49 [==============================] - 2s 42ms/step - loss: 0.2542 - accuracy: 0.9155 - val_loss: 0.2796 - val_accuracy: 0.8852\n",
            "Epoch 7/20\n",
            "49/49 [==============================] - 2s 43ms/step - loss: 0.2306 - accuracy: 0.9254 - val_loss: 0.2878 - val_accuracy: 0.8845\n",
            "Epoch 8/20\n",
            "49/49 [==============================] - 3s 63ms/step - loss: 0.2090 - accuracy: 0.9314 - val_loss: 0.3008 - val_accuracy: 0.8835\n",
            "Epoch 9/20\n",
            "49/49 [==============================] - 2s 47ms/step - loss: 0.1953 - accuracy: 0.9364 - val_loss: 0.3195 - val_accuracy: 0.8790\n",
            "Epoch 10/20\n",
            "49/49 [==============================] - 2s 42ms/step - loss: 0.1761 - accuracy: 0.9427 - val_loss: 0.3335 - val_accuracy: 0.8790\n",
            "Epoch 11/20\n",
            "49/49 [==============================] - 2s 43ms/step - loss: 0.1672 - accuracy: 0.9457 - val_loss: 0.3548 - val_accuracy: 0.8786\n",
            "Epoch 12/20\n",
            "49/49 [==============================] - 2s 42ms/step - loss: 0.1495 - accuracy: 0.9536 - val_loss: 0.3808 - val_accuracy: 0.8802\n",
            "Epoch 13/20\n",
            "49/49 [==============================] - 2s 42ms/step - loss: 0.1453 - accuracy: 0.9538 - val_loss: 0.3946 - val_accuracy: 0.8768\n",
            "Epoch 14/20\n",
            "49/49 [==============================] - 3s 71ms/step - loss: 0.1365 - accuracy: 0.9562 - val_loss: 0.4280 - val_accuracy: 0.8783\n",
            "Epoch 15/20\n",
            "49/49 [==============================] - 2s 43ms/step - loss: 0.1258 - accuracy: 0.9621 - val_loss: 0.4433 - val_accuracy: 0.8708\n",
            "Epoch 16/20\n",
            "49/49 [==============================] - 2s 44ms/step - loss: 0.1276 - accuracy: 0.9611 - val_loss: 0.4412 - val_accuracy: 0.8746\n",
            "Epoch 17/20\n",
            "49/49 [==============================] - 2s 42ms/step - loss: 0.1168 - accuracy: 0.9648 - val_loss: 0.4929 - val_accuracy: 0.8766\n",
            "Epoch 18/20\n",
            "49/49 [==============================] - 2s 43ms/step - loss: 0.1162 - accuracy: 0.9650 - val_loss: 0.5155 - val_accuracy: 0.8767\n",
            "Epoch 19/20\n",
            "49/49 [==============================] - 3s 58ms/step - loss: 0.1135 - accuracy: 0.9647 - val_loss: 0.5150 - val_accuracy: 0.8739\n",
            "Epoch 20/20\n",
            "49/49 [==============================] - 2s 51ms/step - loss: 0.1088 - accuracy: 0.9681 - val_loss: 0.5776 - val_accuracy: 0.8728\n"
          ]
        }
      ],
      "source": [
        "history = model.fit(x_train, y_train,\n",
        "          epochs=20, #lets go crazy\n",
        "#           callbacks=callbacks_list,\n",
        "          validation_data=(x_test, y_test),\n",
        "          batch_size=512)"
      ]
    },
    {
      "cell_type": "code",
      "execution_count": null,
      "metadata": {
        "id": "G5-GTRzZsyMD",
        "colab": {
          "base_uri": "https://localhost:8080/"
        },
        "outputId": "750bdd1f-01d3-49ec-d751-1eb2f61f42f1"
      },
      "outputs": [
        {
          "output_type": "execute_result",
          "data": {
            "text/plain": [
              "dict_keys(['loss', 'accuracy', 'val_loss', 'val_accuracy'])"
            ]
          },
          "metadata": {},
          "execution_count": 23
        }
      ],
      "source": [
        "history_dict = history.history\n",
        "history_dict.keys()"
      ]
    },
    {
      "cell_type": "code",
      "execution_count": null,
      "metadata": {
        "id": "vzFXtidFsyMD",
        "colab": {
          "base_uri": "https://localhost:8080/"
        },
        "outputId": "0754c47a-c781-4ecc-b703-d978e0fc024b"
      },
      "outputs": [
        {
          "output_type": "stream",
          "name": "stdout",
          "text": [
            "Model: \"sequential_1\"\n",
            "_________________________________________________________________\n",
            " Layer (type)                Output Shape              Param #   \n",
            "=================================================================\n",
            " dense_3 (Dense)             (None, 16)                160016    \n",
            "                                                                 \n",
            " dropout_2 (Dropout)         (None, 16)                0         \n",
            "                                                                 \n",
            " dense_4 (Dense)             (None, 16)                272       \n",
            "                                                                 \n",
            " dropout_3 (Dropout)         (None, 16)                0         \n",
            "                                                                 \n",
            " dense_5 (Dense)             (None, 1)                 17        \n",
            "                                                                 \n",
            "=================================================================\n",
            "Total params: 160,305\n",
            "Trainable params: 160,305\n",
            "Non-trainable params: 0\n",
            "_________________________________________________________________\n",
            "None\n"
          ]
        }
      ],
      "source": [
        "print(model.summary())"
      ]
    },
    {
      "cell_type": "markdown",
      "metadata": {
        "id": "1dle7twBsyME"
      },
      "source": [
        "**Plotting the training and validation loss**\n",
        "\n",
        "Importance of validating your model!"
      ]
    },
    {
      "cell_type": "code",
      "execution_count": null,
      "metadata": {
        "id": "cA5sWmvcsyME",
        "colab": {
          "base_uri": "https://localhost:8080/",
          "height": 472
        },
        "outputId": "2159567c-f516-49ec-ee14-06f52fba8ddb"
      },
      "outputs": [
        {
          "output_type": "display_data",
          "data": {
            "text/plain": [
              "<Figure size 640x480 with 1 Axes>"
            ],
            "image/png": "[encoded data removed]"
          },
          "metadata": {}
        }
      ],
      "source": [
        "import matplotlib.pyplot as plt\n",
        "history_dict = history.history\n",
        "loss_values = history_dict[\"loss\"]\n",
        "val_loss_values = history_dict[\"val_loss\"]\n",
        "epochs = range(1, len(loss_values) + 1)\n",
        "plt.plot(epochs, loss_values, \"bo\", label=\"Training loss\")\n",
        "plt.plot(epochs, val_loss_values, \"b\", label=\"Validation loss\")\n",
        "plt.title(\"Training and validation loss\")\n",
        "plt.xlabel(\"Epochs\")\n",
        "plt.ylabel(\"Loss\")\n",
        "plt.legend()\n",
        "plt.show()"
      ]
    },
    {
      "cell_type": "markdown",
      "metadata": {
        "id": "4Q_YAWEPsyME"
      },
      "source": [
        "**Plotting the training and validation accuracy**"
      ]
    },
    {
      "cell_type": "code",
      "execution_count": null,
      "metadata": {
        "id": "putSMEDCsyME",
        "colab": {
          "base_uri": "https://localhost:8080/",
          "height": 472
        },
        "outputId": "869c1c8a-97f2-4b5a-a5e1-7560a322ab53"
      },
      "outputs": [
        {
          "output_type": "display_data",
          "data": {
            "text/plain": [
              "<Figure size 640x480 with 1 Axes>"
            ],
            "image/png": "[encoded data removed]"
          },
          "metadata": {}
        }
      ],
      "source": [
        "plt.clf()\n",
        "acc = history_dict[\"accuracy\"]\n",
        "val_acc = history_dict[\"val_accuracy\"]\n",
        "plt.plot(epochs, acc, \"bo\", label=\"Training acc\")\n",
        "plt.plot(epochs, val_acc, \"b\", label=\"Validation acc\")\n",
        "plt.title(\"Training and validation accuracy\")\n",
        "plt.xlabel(\"Epochs\")\n",
        "plt.ylabel(\"Accuracy\")\n",
        "plt.legend()\n",
        "plt.show()"
      ]
    },
    {
      "cell_type": "markdown",
      "metadata": {
        "id": "t6GgqYz_syME"
      },
      "source": [
        "As you can see, the training loss decreases with every epoch, and the training accuracy increases with every epoch. That’s what you would expect when running gradient-descent optimization—the quantity you’re trying to minimize should be less with every iteration.\n",
        "\n",
        "But that isn’t the case for the validation loss and accuracy: they seem to peak at the ??? epoch. This is an example of what we warned against earlier: a model that performs better on the training data isn’t necessarily a model that will do better on data it has never seen before.\n",
        "\n",
        "In precise terms, what you’re seeing is **overfitting**: after the ??? epoch, you’re overoptimizing on the training data, and you end up learning representations that are specific to the training data and don’t generalize to data outside of the training set."
      ]
    },
    {
      "cell_type": "markdown",
      "metadata": {
        "id": "50TX5leJsyME"
      },
      "source": [
        "**Retraining a model from scratch**"
      ]
    },
    {
      "cell_type": "code",
      "execution_count": null,
      "metadata": {
        "id": "G69kUHfzsyME",
        "colab": {
          "base_uri": "https://localhost:8080/"
        },
        "outputId": "12631428-7090-411e-c58e-d0af96d26947"
      },
      "outputs": [
        {
          "output_type": "stream",
          "name": "stdout",
          "text": [
            "Epoch 1/4\n",
            "49/49 [==============================] - 4s 75ms/step - loss: 0.4724 - accuracy: 0.8129 - val_loss: 0.3489 - val_accuracy: 0.8765\n",
            "Epoch 2/4\n",
            "49/49 [==============================] - 2s 43ms/step - loss: 0.2813 - accuracy: 0.9009 - val_loss: 0.3038 - val_accuracy: 0.8807\n",
            "Epoch 3/4\n",
            "49/49 [==============================] - 3s 60ms/step - loss: 0.2199 - accuracy: 0.9209 - val_loss: 0.3231 - val_accuracy: 0.8653\n",
            "Epoch 4/4\n",
            "49/49 [==============================] - 2s 48ms/step - loss: 0.1888 - accuracy: 0.9328 - val_loss: 0.3249 - val_accuracy: 0.8686\n"
          ]
        }
      ],
      "source": [
        "e = 4 #number of epochs to avoid overtraining\n",
        "\n",
        "model = keras.Sequential([\n",
        "    layers.Dense(16, activation=\"relu\"),\n",
        "    layers.Dense(16, activation=\"relu\"),\n",
        "    layers.Dense(1, activation=\"sigmoid\")\n",
        "])\n",
        "model.compile(optimizer=\"rmsprop\",\n",
        "              loss=\"binary_crossentropy\",\n",
        "              metrics=[\"accuracy\"])\n",
        "history_nod = model.fit(x_train, y_train, epochs=e, batch_size=512, validation_data=(x_test, y_test))"
      ]
    },
    {
      "cell_type": "code",
      "execution_count": null,
      "metadata": {
        "id": "X8OVk4UfsyME"
      },
      "outputs": [],
      "source": [
        "# history_nod\n",
        "history_dict = history.history\n",
        "h2 = history_nod.history"
      ]
    },
    {
      "cell_type": "code",
      "execution_count": null,
      "metadata": {
        "id": "nFRGXKl5syMF",
        "colab": {
          "base_uri": "https://localhost:8080/",
          "height": 798
        },
        "outputId": "3759336f-071e-44dc-8c95-e52dc64fd9d8"
      },
      "outputs": [
        {
          "output_type": "error",
          "ename": "ValueError",
          "evalue": "ignored",
          "traceback": [
            "\u001b[0;31m---------------------------------------------------------------------------\u001b[0m",
            "\u001b[0;31mValueError\u001b[0m                                Traceback (most recent call last)",
            "\u001b[0;32m<ipython-input-29-fa0b34018142>\u001b[0m in \u001b[0;36m<cell line: 4>\u001b[0;34m()\u001b[0m\n\u001b[1;32m      2\u001b[0m \u001b[0macc2\u001b[0m \u001b[0;34m=\u001b[0m \u001b[0mh2\u001b[0m\u001b[0;34m[\u001b[0m\u001b[0;34m\"accuracy\"\u001b[0m\u001b[0;34m]\u001b[0m\u001b[0;34m\u001b[0m\u001b[0;34m\u001b[0m\u001b[0m\n\u001b[1;32m      3\u001b[0m \u001b[0mval_acc2\u001b[0m \u001b[0;34m=\u001b[0m \u001b[0mh2\u001b[0m\u001b[0;34m[\u001b[0m\u001b[0;34m\"val_accuracy\"\u001b[0m\u001b[0;34m]\u001b[0m\u001b[0;34m\u001b[0m\u001b[0;34m\u001b[0m\u001b[0m\n\u001b[0;32m----> 4\u001b[0;31m \u001b[0mplt\u001b[0m\u001b[0;34m.\u001b[0m\u001b[0mplot\u001b[0m\u001b[0;34m(\u001b[0m\u001b[0mepochs\u001b[0m\u001b[0;34m,\u001b[0m \u001b[0macc2\u001b[0m\u001b[0;34m,\u001b[0m \u001b[0;34m\"bo\"\u001b[0m\u001b[0;34m,\u001b[0m \u001b[0mlabel\u001b[0m\u001b[0;34m=\u001b[0m\u001b[0;34m\"Model:DropOut Training acc\"\u001b[0m\u001b[0;34m)\u001b[0m\u001b[0;34m\u001b[0m\u001b[0;34m\u001b[0m\u001b[0m\n\u001b[0m\u001b[1;32m      5\u001b[0m \u001b[0mplt\u001b[0m\u001b[0;34m.\u001b[0m\u001b[0mplot\u001b[0m\u001b[0;34m(\u001b[0m\u001b[0mepochs\u001b[0m\u001b[0;34m,\u001b[0m \u001b[0mval_acc2\u001b[0m\u001b[0;34m,\u001b[0m \u001b[0;34m\"b\"\u001b[0m\u001b[0;34m,\u001b[0m \u001b[0mlabel\u001b[0m\u001b[0;34m=\u001b[0m\u001b[0;34m\"Model:DropOut Validation acc\"\u001b[0m\u001b[0;34m)\u001b[0m\u001b[0;34m\u001b[0m\u001b[0;34m\u001b[0m\u001b[0m\n\u001b[1;32m      6\u001b[0m \u001b[0mplt\u001b[0m\u001b[0;34m.\u001b[0m\u001b[0mplot\u001b[0m\u001b[0;34m(\u001b[0m\u001b[0mepochs\u001b[0m\u001b[0;34m,\u001b[0m \u001b[0macc\u001b[0m\u001b[0;34m,\u001b[0m \u001b[0;34m\"rx\"\u001b[0m\u001b[0;34m,\u001b[0m \u001b[0mlabel\u001b[0m\u001b[0;34m=\u001b[0m\u001b[0;34m\"Model:Orig Training acc\"\u001b[0m\u001b[0;34m)\u001b[0m\u001b[0;34m\u001b[0m\u001b[0;34m\u001b[0m\u001b[0m\n",
            "\u001b[0;32m/usr/local/lib/python3.10/dist-packages/matplotlib/pyplot.py\u001b[0m in \u001b[0;36mplot\u001b[0;34m(scalex, scaley, data, *args, **kwargs)\u001b[0m\n\u001b[1;32m   2810\u001b[0m \u001b[0;34m@\u001b[0m\u001b[0m_copy_docstring_and_deprecators\u001b[0m\u001b[0;34m(\u001b[0m\u001b[0mAxes\u001b[0m\u001b[0;34m.\u001b[0m\u001b[0mplot\u001b[0m\u001b[0;34m)\u001b[0m\u001b[0;34m\u001b[0m\u001b[0;34m\u001b[0m\u001b[0m\n\u001b[1;32m   2811\u001b[0m \u001b[0;32mdef\u001b[0m \u001b[0mplot\u001b[0m\u001b[0;34m(\u001b[0m\u001b[0;34m*\u001b[0m\u001b[0margs\u001b[0m\u001b[0;34m,\u001b[0m \u001b[0mscalex\u001b[0m\u001b[0;34m=\u001b[0m\u001b[0;32mTrue\u001b[0m\u001b[0;34m,\u001b[0m \u001b[0mscaley\u001b[0m\u001b[0;34m=\u001b[0m\u001b[0;32mTrue\u001b[0m\u001b[0;34m,\u001b[0m \u001b[0mdata\u001b[0m\u001b[0;34m=\u001b[0m\u001b[0;32mNone\u001b[0m\u001b[0;34m,\u001b[0m \u001b[0;34m**\u001b[0m\u001b[0mkwargs\u001b[0m\u001b[0;34m)\u001b[0m\u001b[0;34m:\u001b[0m\u001b[0;34m\u001b[0m\u001b[0;34m\u001b[0m\u001b[0m\n\u001b[0;32m-> 2812\u001b[0;31m     return gca().plot(\n\u001b[0m\u001b[1;32m   2813\u001b[0m         \u001b[0;34m*\u001b[0m\u001b[0margs\u001b[0m\u001b[0;34m,\u001b[0m \u001b[0mscalex\u001b[0m\u001b[0;34m=\u001b[0m\u001b[0mscalex\u001b[0m\u001b[0;34m,\u001b[0m \u001b[0mscaley\u001b[0m\u001b[0;34m=\u001b[0m\u001b[0mscaley\u001b[0m\u001b[0;34m,\u001b[0m\u001b[0;34m\u001b[0m\u001b[0;34m\u001b[0m\u001b[0m\n\u001b[1;32m   2814\u001b[0m         **({\"data\": data} if data is not None else {}), **kwargs)\n",
            "\u001b[0;32m/usr/local/lib/python3.10/dist-packages/matplotlib/axes/_axes.py\u001b[0m in \u001b[0;36mplot\u001b[0;34m(self, scalex, scaley, data, *args, **kwargs)\u001b[0m\n\u001b[1;32m   1686\u001b[0m         \"\"\"\n\u001b[1;32m   1687\u001b[0m         \u001b[0mkwargs\u001b[0m \u001b[0;34m=\u001b[0m \u001b[0mcbook\u001b[0m\u001b[0;34m.\u001b[0m\u001b[0mnormalize_kwargs\u001b[0m\u001b[0;34m(\u001b[0m\u001b[0mkwargs\u001b[0m\u001b[0;34m,\u001b[0m \u001b[0mmlines\u001b[0m\u001b[0;34m.\u001b[0m\u001b[0mLine2D\u001b[0m\u001b[0;34m)\u001b[0m\u001b[0;34m\u001b[0m\u001b[0;34m\u001b[0m\u001b[0m\n\u001b[0;32m-> 1688\u001b[0;31m         \u001b[0mlines\u001b[0m \u001b[0;34m=\u001b[0m \u001b[0;34m[\u001b[0m\u001b[0;34m*\u001b[0m\u001b[0mself\u001b[0m\u001b[0;34m.\u001b[0m\u001b[0m_get_lines\u001b[0m\u001b[0;34m(\u001b[0m\u001b[0;34m*\u001b[0m\u001b[0margs\u001b[0m\u001b[0;34m,\u001b[0m \u001b[0mdata\u001b[0m\u001b[0;34m=\u001b[0m\u001b[0mdata\u001b[0m\u001b[0;34m,\u001b[0m \u001b[0;34m**\u001b[0m\u001b[0mkwargs\u001b[0m\u001b[0;34m)\u001b[0m\u001b[0;34m]\u001b[0m\u001b[0;34m\u001b[0m\u001b[0;34m\u001b[0m\u001b[0m\n\u001b[0m\u001b[1;32m   1689\u001b[0m         \u001b[0;32mfor\u001b[0m \u001b[0mline\u001b[0m \u001b[0;32min\u001b[0m \u001b[0mlines\u001b[0m\u001b[0;34m:\u001b[0m\u001b[0;34m\u001b[0m\u001b[0;34m\u001b[0m\u001b[0m\n\u001b[1;32m   1690\u001b[0m             \u001b[0mself\u001b[0m\u001b[0;34m.\u001b[0m\u001b[0madd_line\u001b[0m\u001b[0;34m(\u001b[0m\u001b[0mline\u001b[0m\u001b[0;34m)\u001b[0m\u001b[0;34m\u001b[0m\u001b[0;34m\u001b[0m\u001b[0m\n",
            "\u001b[0;32m/usr/local/lib/python3.10/dist-packages/matplotlib/axes/_base.py\u001b[0m in \u001b[0;36m__call__\u001b[0;34m(self, data, *args, **kwargs)\u001b[0m\n\u001b[1;32m    309\u001b[0m                 \u001b[0mthis\u001b[0m \u001b[0;34m+=\u001b[0m \u001b[0margs\u001b[0m\u001b[0;34m[\u001b[0m\u001b[0;36m0\u001b[0m\u001b[0;34m]\u001b[0m\u001b[0;34m,\u001b[0m\u001b[0;34m\u001b[0m\u001b[0;34m\u001b[0m\u001b[0m\n\u001b[1;32m    310\u001b[0m                 \u001b[0margs\u001b[0m \u001b[0;34m=\u001b[0m \u001b[0margs\u001b[0m\u001b[0;34m[\u001b[0m\u001b[0;36m1\u001b[0m\u001b[0;34m:\u001b[0m\u001b[0;34m]\u001b[0m\u001b[0;34m\u001b[0m\u001b[0;34m\u001b[0m\u001b[0m\n\u001b[0;32m--> 311\u001b[0;31m             yield from self._plot_args(\n\u001b[0m\u001b[1;32m    312\u001b[0m                 this, kwargs, ambiguous_fmt_datakey=ambiguous_fmt_datakey)\n\u001b[1;32m    313\u001b[0m \u001b[0;34m\u001b[0m\u001b[0m\n",
            "\u001b[0;32m/usr/local/lib/python3.10/dist-packages/matplotlib/axes/_base.py\u001b[0m in \u001b[0;36m_plot_args\u001b[0;34m(self, tup, kwargs, return_kwargs, ambiguous_fmt_datakey)\u001b[0m\n\u001b[1;32m    502\u001b[0m \u001b[0;34m\u001b[0m\u001b[0m\n\u001b[1;32m    503\u001b[0m         \u001b[0;32mif\u001b[0m \u001b[0mx\u001b[0m\u001b[0;34m.\u001b[0m\u001b[0mshape\u001b[0m\u001b[0;34m[\u001b[0m\u001b[0;36m0\u001b[0m\u001b[0;34m]\u001b[0m \u001b[0;34m!=\u001b[0m \u001b[0my\u001b[0m\u001b[0;34m.\u001b[0m\u001b[0mshape\u001b[0m\u001b[0;34m[\u001b[0m\u001b[0;36m0\u001b[0m\u001b[0;34m]\u001b[0m\u001b[0;34m:\u001b[0m\u001b[0;34m\u001b[0m\u001b[0;34m\u001b[0m\u001b[0m\n\u001b[0;32m--> 504\u001b[0;31m             raise ValueError(f\"x and y must have same first dimension, but \"\n\u001b[0m\u001b[1;32m    505\u001b[0m                              f\"have shapes {x.shape} and {y.shape}\")\n\u001b[1;32m    506\u001b[0m         \u001b[0;32mif\u001b[0m \u001b[0mx\u001b[0m\u001b[0;34m.\u001b[0m\u001b[0mndim\u001b[0m \u001b[0;34m>\u001b[0m \u001b[0;36m2\u001b[0m \u001b[0;32mor\u001b[0m \u001b[0my\u001b[0m\u001b[0;34m.\u001b[0m\u001b[0mndim\u001b[0m \u001b[0;34m>\u001b[0m \u001b[0;36m2\u001b[0m\u001b[0;34m:\u001b[0m\u001b[0;34m\u001b[0m\u001b[0;34m\u001b[0m\u001b[0m\n",
            "\u001b[0;31mValueError\u001b[0m: x and y must have same first dimension, but have shapes (20,) and (4,)"
          ]
        },
        {
          "output_type": "display_data",
          "data": {
            "text/plain": [
              "<Figure size 640x480 with 1 Axes>"
            ],
            "image/png": "[encoded data removed]"
          },
          "metadata": {}
        }
      ],
      "source": [
        "plt.clf()\n",
        "acc2 = h2[\"accuracy\"]\n",
        "val_acc2 = h2[\"val_accuracy\"]\n",
        "plt.plot(epochs, acc2, \"bo\", label=\"Model:DropOut Training acc\")\n",
        "plt.plot(epochs, val_acc2, \"b\", label=\"Model:DropOut Validation acc\")\n",
        "plt.plot(epochs, acc, \"rx\", label=\"Model:Orig Training acc\")\n",
        "plt.plot(epochs, val_acc, \"r-.\", label=\"Model:Orig Validation acc\")\n",
        "plt.title(\"Training and validation accuracy\")\n",
        "plt.xlabel(\"Epochs\")\n",
        "plt.ylabel(\"Accuracy\")\n",
        "plt.legend()\n",
        "plt.show()"
      ]
    },
    {
      "cell_type": "code",
      "source": [
        "keras.utils.plot_model(model, \"classifier_with_shape_info.png\", show_shapes=True)"
      ],
      "metadata": {
        "id": "Jr12iTKxlK-8",
        "colab": {
          "base_uri": "https://localhost:8080/",
          "height": 422
        },
        "outputId": "c7361eef-1f4a-473c-9bd8-3194862cc6d6"
      },
      "execution_count": null,
      "outputs": [
        {
          "output_type": "execute_result",
          "data": {
            "image/png": "[encoded data removed]",
            "text/plain": [
              "<IPython.core.display.Image object>"
            ]
          },
          "metadata": {},
          "execution_count": 30
        }
      ]
    },
    {
      "cell_type": "markdown",
      "metadata": {
        "id": "het2u1m3syMF"
      },
      "source": [
        "### Further experiments\n",
        "\n",
        "*   Try setting dropout rate to values (0, 1)\n",
        "*   You used two representation layers before the final classification layer. Try using one or three representation layers, and see how doing so affects validation and test accuracy.\n",
        "*   Try using callbacks"
      ]
    },
    {
      "cell_type": "markdown",
      "metadata": {
        "id": "ZKiLbuT0syMF"
      },
      "source": [
        "## Summary\n",
        "\n",
        "- Text preprocessing\n",
        "    - Encoding/Decoding data to work with a neural network\n",
        "\n",
        "- Monitoring for overfitting\n",
        "    - Number of epochs to train to avoid Validation testing performance loss\n",
        "    - Early stopping and other callbacks\n",
        "\n",
        "- Improve Model Generalization\n",
        "    - Regularization via Dropout"
      ]
    },
    {
      "cell_type": "markdown",
      "metadata": {
        "id": "zCctgkOCsyMF"
      },
      "source": [
        "## Future work\n",
        "\n",
        "What else we can do?\n",
        "- How to feature-ize text data / n-grams\n",
        "- Sequence modeling with CNN vs RNN/LSTM, transformers"
      ]
    },
    {
      "cell_type": "code",
      "execution_count": null,
      "metadata": {
        "id": "U7hDd8JAsyMF"
      },
      "outputs": [],
      "source": []
    }
  ],
  "metadata": {
    "colab": {
      "provenance": [],
      "include_colab_link": true
    },
    "kernelspec": {
      "display_name": "Python 3",
      "language": "python",
      "name": "python3"
    },
    "language_info": {
      "codemirror_mode": {
        "name": "ipython",
        "version": 3
      },
      "file_extension": ".py",
      "mimetype": "text/x-python",
      "name": "python",
      "nbconvert_exporter": "python",
      "pygments_lexer": "ipython3",
      "version": "3.6.10"
    }
  },
  "nbformat": 4,
  "nbformat_minor": 0
}