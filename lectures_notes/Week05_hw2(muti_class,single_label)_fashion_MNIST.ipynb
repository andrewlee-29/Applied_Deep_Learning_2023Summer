{
  "nbformat": 4,
  "nbformat_minor": 0,
  "metadata": {
    "colab": {
      "provenance": [],
      "include_colab_link": true
    },
    "kernelspec": {
      "name": "python3",
      "display_name": "Python 3"
    },
    "language_info": {
      "name": "python"
    }
  },
  "cells": [
    {
      "cell_type": "markdown",
      "metadata": {
        "id": "view-in-github",
        "colab_type": "text"
      },
      "source": [
        "<a href=\"https://colab.research.google.com/github/andrewlee-29/Applied_Deep_Learning_2023Summer/blob/main/Week5_hw2(muti_class%2Csingle_label)_fashion_MNIST.ipynb\" target=\"_parent\"><img src=\"https://colab.research.google.com/assets/colab-badge.svg\" alt=\"Open In Colab\"/></a>"
      ]
    },
    {
      "cell_type": "code",
      "execution_count": null,
      "metadata": {
        "colab": {
          "base_uri": "https://localhost:8080/"
        },
        "id": "2Wdjr_jVIH4M",
        "outputId": "056664d9-2ac1-4c08-ff1d-9b605a17fad3"
      },
      "outputs": [
        {
          "output_type": "stream",
          "name": "stdout",
          "text": [
            "Downloading data from https://storage.googleapis.com/tensorflow/tf-keras-datasets/train-labels-idx1-ubyte.gz\n",
            "29515/29515 [==============================] - 0s 1us/step\n",
            "Downloading data from https://storage.googleapis.com/tensorflow/tf-keras-datasets/train-images-idx3-ubyte.gz\n",
            "26421880/26421880 [==============================] - 2s 0us/step\n",
            "Downloading data from https://storage.googleapis.com/tensorflow/tf-keras-datasets/t10k-labels-idx1-ubyte.gz\n",
            "5148/5148 [==============================] - 0s 0us/step\n",
            "Downloading data from https://storage.googleapis.com/tensorflow/tf-keras-datasets/t10k-images-idx3-ubyte.gz\n",
            "4422102/4422102 [==============================] - 1s 0us/step\n",
            "(55000, 28, 28)\n"
          ]
        }
      ],
      "source": [
        "import tensorflow as tf\n",
        "\n",
        "d = 5000\n",
        "\n",
        "#images of fashion items\n",
        "\n",
        "fashion_mnist = tf.keras.datasets.fashion_mnist.load_data()\n",
        "(X_train_full, y_train_full), (X_test, y_test) = fashion_mnist\n",
        "X_train, y_train = X_train_full[:-d], y_train_full[:-d]\n",
        "X_valid, y_valid = X_train_full[-d:], y_train_full[-d:]\n",
        "\n",
        "print(X_train.shape)"
      ]
    },
    {
      "cell_type": "code",
      "source": [
        "class_names = [\"T-shirt/top\", \"Trouser\", \"Pullover\", \"Dress\", \"Coat\",\n",
        "               \"Sandal\", \"Shirt\", \"Sneaker\", \"Bag\", \"Ankle boot\"]\n",
        "\n",
        "print(len(class_names))\n",
        "\n",
        "for i in range(5):\n",
        "  print(class_names[y_train[i]])"
      ],
      "metadata": {
        "colab": {
          "base_uri": "https://localhost:8080/"
        },
        "id": "V3Ja4iQfIk39",
        "outputId": "d9699dc9-f66e-4660-cf34-e40437ee32a2"
      },
      "execution_count": null,
      "outputs": [
        {
          "output_type": "stream",
          "name": "stdout",
          "text": [
            "10\n",
            "Ankle boot\n",
            "T-shirt/top\n",
            "T-shirt/top\n",
            "Dress\n",
            "T-shirt/top\n"
          ]
        }
      ]
    },
    {
      "cell_type": "code",
      "source": [
        "import matplotlib.pyplot as plt\n",
        "\n",
        "X_train, X_valid, X_test = X_train / 255., X_valid / 255., X_test / 255.\n",
        "\n",
        "i = 0 #try different values here!\n",
        "plt.imshow(X_train[i], cmap=\"binary\")\n",
        "plt.axis('off')\n",
        "plt.show()\n",
        "print(class_names[y_train[i]])"
      ],
      "metadata": {
        "colab": {
          "base_uri": "https://localhost:8080/",
          "height": 423
        },
        "id": "2jtI0fozIaHT",
        "outputId": "65be12ff-7f5d-4e7c-ba02-a83d5321d7ad"
      },
      "execution_count": null,
      "outputs": [
        {
          "output_type": "display_data",
          "data": {
            "text/plain": [
              "<Figure size 640x480 with 1 Axes>"
            ],
            "image/png": "[encoded data removed]"
          },
          "metadata": {}
        },
        {
          "output_type": "stream",
          "name": "stdout",
          "text": [
            "Ankle boot\n"
          ]
        }
      ]
    },
    {
      "cell_type": "markdown",
      "source": [
        "Create a model. Set:\n",
        "\n",
        "- final layer\n",
        "- loss\n",
        "- optimizer\n",
        "- metrics\n",
        "\n",
        "See sample code at the bottom for:\n",
        "- accuracy on X_test/y_test\n",
        "- plot of train history\n"
      ],
      "metadata": {
        "id": "TrE5ydyvJHQY"
      }
    },
    {
      "cell_type": "code",
      "source": [
        "# model goes here\n",
        "tf.keras.backend.clear_session()\n",
        "tf.random.set_seed(42)\n",
        "\n",
        "\n",
        "#For now you will need the following as your first layer:\n",
        "    # tf.keras.layers.Flatten(input_shape=[28, 28])\n",
        "    #No Convolution is allowed.\n",
        "model = tf.keras.Sequential([\n",
        "    tf.keras.layers.Flatten(input_shape=[28, 28]),\n",
        "    tf.keras.layers.Dense(512, activation=\"relu\"), #hidden layer(s)\n",
        "    #vs dimishing gradients caused by sigmoids\n",
        "    tf.keras.layers.Dense(10, activation=\"softmax\") #SPECIAL: output layer\n",
        "])\n",
        "model.compile(optimizer=\"rmsprop\",\n",
        "              loss=\"sparse_categorical_crossentropy\", #regression: mse\n",
        "              metrics=[\"accuracy\"])\n"
      ],
      "metadata": {
        "id": "qK999g1IKWDN"
      },
      "execution_count": null,
      "outputs": []
    },
    {
      "cell_type": "code",
      "source": [
        "number_of_epochs = 3 #change this!\n",
        "\n",
        "history = model.fit(X_train, y_train, epochs=number_of_epochs,\n",
        "                    validation_data=(X_valid, y_valid))"
      ],
      "metadata": {
        "id": "Lvmij627KYTb",
        "colab": {
          "base_uri": "https://localhost:8080/"
        },
        "outputId": "16052878-8ce3-421d-8ea2-0f41a02bc8fd"
      },
      "execution_count": null,
      "outputs": [
        {
          "output_type": "stream",
          "name": "stdout",
          "text": [
            "Epoch 1/3\n",
            "1719/1719 [==============================] - 14s 8ms/step - loss: 0.2282 - accuracy: 0.9278 - val_loss: 0.5074 - val_accuracy: 0.8804\n",
            "Epoch 2/3\n",
            "1719/1719 [==============================] - 13s 8ms/step - loss: 0.2233 - accuracy: 0.9307 - val_loss: 0.5231 - val_accuracy: 0.8846\n",
            "Epoch 3/3\n",
            "1719/1719 [==============================] - 14s 8ms/step - loss: 0.2192 - accuracy: 0.9305 - val_loss: 0.5001 - val_accuracy: 0.8872\n"
          ]
        }
      ]
    },
    {
      "cell_type": "code",
      "source": [
        "import matplotlib.pyplot as plt\n",
        "import pandas as pd\n",
        "\n",
        "pd.DataFrame(history.history).plot(\n",
        "    figsize=(8, 5), xlim=[0, 29], ylim=[0, 1], grid=True, xlabel=\"Epoch\",\n",
        "    style=[\"r--\", \"r--.\", \"b-\", \"b-*\"])\n",
        "plt.legend(loc=\"lower left\")\n",
        "plt.show()"
      ],
      "metadata": {
        "id": "OORUr3dMKcgN",
        "colab": {
          "base_uri": "https://localhost:8080/",
          "height": 470
        },
        "outputId": "c8ffe252-5a5f-446a-e02c-be9741ae40be"
      },
      "execution_count": null,
      "outputs": [
        {
          "output_type": "display_data",
          "data": {
            "text/plain": [
              "<Figure size 800x500 with 1 Axes>"
            ],
            "image/png": "[encoded data removed]"
          },
          "metadata": {}
        }
      ]
    },
    {
      "cell_type": "code",
      "source": [
        "model.evaluate(X_test, y_test)"
      ],
      "metadata": {
        "id": "rNx8dM3VKkwA",
        "colab": {
          "base_uri": "https://localhost:8080/"
        },
        "outputId": "0e2eeead-4817-47c7-99a2-9ecada563ebb"
      },
      "execution_count": null,
      "outputs": [
        {
          "output_type": "stream",
          "name": "stdout",
          "text": [
            "313/313 [==============================] - 1s 3ms/step - loss: 0.5139 - accuracy: 0.8836\n"
          ]
        },
        {
          "output_type": "execute_result",
          "data": {
            "text/plain": [
              "[0.513940691947937, 0.8835999965667725]"
            ]
          },
          "metadata": {},
          "execution_count": 21
        }
      ]
    }
  ]
}
