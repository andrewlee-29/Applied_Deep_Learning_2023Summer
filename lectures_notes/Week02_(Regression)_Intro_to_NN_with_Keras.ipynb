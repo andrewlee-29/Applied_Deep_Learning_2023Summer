{
  "cells": [
    {
      "cell_type": "markdown",
      "metadata": {
        "id": "view-in-github",
        "colab_type": "text"
      },
      "source": [
        "<a href=\"https://colab.research.google.com/github/andrewlee-29/Applied_Deep_Learning_2023Summer/blob/main/Week%202%3A%20Intro_to_NN_with_Keras_student.ipynb\" target=\"_parent\"><img src=\"https://colab.research.google.com/assets/colab-badge.svg\" alt=\"Open In Colab\"/></a>"
      ]
    },
    {
      "cell_type": "markdown",
      "metadata": {
        "id": "8q4Ib19cxm4k"
      },
      "source": [
        "# Intro to NN with Keras\n",
        "\n",
        "- Design our fist neural net to solve a regression problem\n",
        "- Introduce tensorflow's Keras library\n",
        "- Evaluating trained model\n",
        "- Visualizing the loss\n",
        "- Improvements:\n",
        "  - Hidden layers\n",
        "  - Pre-processing: Scaling\n",
        "  - Dropout\n"
      ]
    },
    {
      "cell_type": "markdown",
      "metadata": {
        "id": "CpohwQHhxm4m"
      },
      "source": [
        "### Review of SciKit API\n",
        "\n",
        "According to VanderPlas (2016):\n",
        "1. Choose a class of model by **importing the appropriate estimator** class from Scikit-Learn.\n",
        "2. Choose model **hyperparameters** by instantiating this class with desired values.\n",
        "3. Arrange data into a **features matrix and target vector** following the discussion above.\n",
        "4. **Fit the model** to your data by calling the ``fit()`` method of the model instance.\n",
        "5. **Apply the model** to new data:\n",
        "   - For supervised learning, often we predict labels for unknown data using the ``predict()`` method.\n",
        "   - For unsupervised learning, we often transform or infer properties of the data using the ``transform()`` or ``predict()`` method. (p. 347)\n",
        "   \n",
        "   \n",
        "``` python\n",
        "from sklearn.svm import SVC #1\n",
        "model = SVC(kernel='linear') #2\n",
        "\n",
        "Xtrain, Xtest, ytrain, ytest = train_test_split(data.features, data.labels) #3a/b\n",
        "\n",
        "model.fit(Xtrain, ytrain) #4\n",
        "\n",
        "y_model = model.predict(Xtest) #5\n",
        "```\n",
        "\n",
        "VanderPlas, J. (2016). Python data science handbook: Essential tools for working with data. Sebastopol, CA: O'Reilly Media."
      ]
    },
    {
      "cell_type": "markdown",
      "metadata": {
        "id": "_0dxH2DAxm4n"
      },
      "source": [
        "## Linear Regression\n",
        "\n",
        "Hypothesis\n",
        "\n",
        "$h(x) = \\sum_{i=1}^n wx_i $\n",
        "\n",
        "Prediction art\n",
        "\n",
        "$x_0 \\rightarrow w_0 \\searrow $\n",
        "\n",
        "$x_1 \\rightarrow w_1 \\rightarrow $   $\\sum \\longrightarrow $ h(x)\n",
        "\n",
        "$\\ldots$\n",
        "\n",
        "$x_m \\rightarrow w_m \\nearrow $\n",
        "\n",
        "[Cost function](https://scikit-learn.org/stable/modules/linear_model.html#ordinary-least-squares)"
      ]
    },
    {
      "cell_type": "markdown",
      "metadata": {
        "id": "nnNjktvNxm4n"
      },
      "source": [
        "## Classification via Logistic Regression\n",
        "\n",
        "Hypothesis\n",
        "\n",
        "Let $y = \\{-1, 1 \\}$ or $y = \\{0, 1 \\}$\n",
        "\n",
        "\n",
        "$ h(x) = \\text{sigmoid}(\\sum_{i=1}^n wx_i ) $\n",
        "\n",
        "Prediction art\n",
        "\n",
        "$x_0 \\rightarrow w_0 \\searrow $\n",
        "\n",
        "$x_1 \\rightarrow w_1 \\rightarrow $   $\\sum  \\rightarrow$ Sigmoid() $\\longrightarrow $ h(x)\n",
        "\n",
        "$\\ldots$\n",
        "\n",
        "$x_m \\rightarrow w_m \\nearrow $\n",
        "\n"
      ]
    },
    {
      "cell_type": "markdown",
      "metadata": {
        "id": "Xp0GniiDxm4n"
      },
      "source": [
        "# Regression: Housing Cost Prediciton\n",
        "\n",
        "- Linear Regression approach via Scikit\n",
        "- NN via tf.Keras"
      ]
    },
    {
      "cell_type": "code",
      "source": [
        "#BOS discontinued. need earlier scikit\n",
        "!pip install scikit-learn==1.1.3\n",
        "#restart runtime when asked"
      ],
      "metadata": {
        "id": "1_CBqda03ZTR",
        "colab": {
          "base_uri": "https://localhost:8080/"
        },
        "outputId": "82a85b18-9240-4ccc-97cf-e7b3b3bdb977"
      },
      "execution_count": 1,
      "outputs": [
        {
          "output_type": "stream",
          "name": "stdout",
          "text": [
            "Collecting scikit-learn==1.1.3\n",
            "  Downloading scikit_learn-1.1.3-cp310-cp310-manylinux_2_17_x86_64.manylinux2014_x86_64.whl (30.5 MB)\n",
            "\u001b[2K     \u001b[90m━━━━━━━━━━━━━━━━━━━━━━━━━━━━━━━━━━━━━━━━\u001b[0m \u001b[32m30.5/30.5 MB\u001b[0m \u001b[31m18.3 MB/s\u001b[0m eta \u001b[36m0:00:00\u001b[0m\n",
            "\u001b[?25hRequirement already satisfied: numpy>=1.17.3 in /usr/local/lib/python3.10/dist-packages (from scikit-learn==1.1.3) (1.23.5)\n",
            "Requirement already satisfied: scipy>=1.3.2 in /usr/local/lib/python3.10/dist-packages (from scikit-learn==1.1.3) (1.10.1)\n",
            "Requirement already satisfied: joblib>=1.0.0 in /usr/local/lib/python3.10/dist-packages (from scikit-learn==1.1.3) (1.3.1)\n",
            "Requirement already satisfied: threadpoolctl>=2.0.0 in /usr/local/lib/python3.10/dist-packages (from scikit-learn==1.1.3) (3.2.0)\n",
            "Installing collected packages: scikit-learn\n",
            "  Attempting uninstall: scikit-learn\n",
            "    Found existing installation: scikit-learn 1.2.2\n",
            "    Uninstalling scikit-learn-1.2.2:\n",
            "      Successfully uninstalled scikit-learn-1.2.2\n",
            "Successfully installed scikit-learn-1.1.3\n"
          ]
        }
      ]
    },
    {
      "cell_type": "code",
      "execution_count": 2,
      "metadata": {
        "id": "dfeTou6gxm4o"
      },
      "outputs": [],
      "source": [
        "%matplotlib inline\n",
        "from sklearn import datasets\n",
        "import numpy as np\n",
        "import matplotlib.pyplot as plt"
      ]
    },
    {
      "cell_type": "code",
      "execution_count": 3,
      "metadata": {
        "id": "TCAo_NLhxm4o",
        "colab": {
          "base_uri": "https://localhost:8080/"
        },
        "outputId": "fc09e734-0172-4e07-9786-a9bab563edf5"
      },
      "outputs": [
        {
          "output_type": "stream",
          "name": "stderr",
          "text": [
            "/usr/local/lib/python3.10/dist-packages/sklearn/utils/deprecation.py:87: FutureWarning: Function load_boston is deprecated; `load_boston` is deprecated in 1.0 and will be removed in 1.2.\n",
            "\n",
            "    The Boston housing prices dataset has an ethical problem. You can refer to\n",
            "    the documentation of this function for further details.\n",
            "\n",
            "    The scikit-learn maintainers therefore strongly discourage the use of this\n",
            "    dataset unless the purpose of the code is to study and educate about\n",
            "    ethical issues in data science and machine learning.\n",
            "\n",
            "    In this special case, you can fetch the dataset from the original\n",
            "    source::\n",
            "\n",
            "        import pandas as pd\n",
            "        import numpy as np\n",
            "\n",
            "        data_url = \"http://lib.stat.cmu.edu/datasets/boston\"\n",
            "        raw_df = pd.read_csv(data_url, sep=\"\\s+\", skiprows=22, header=None)\n",
            "        data = np.hstack([raw_df.values[::2, :], raw_df.values[1::2, :2]])\n",
            "        target = raw_df.values[1::2, 2]\n",
            "\n",
            "    Alternative datasets include the California housing dataset (i.e.\n",
            "    :func:`~sklearn.datasets.fetch_california_housing`) and the Ames housing\n",
            "    dataset. You can load the datasets as follows::\n",
            "\n",
            "        from sklearn.datasets import fetch_california_housing\n",
            "        housing = fetch_california_housing()\n",
            "\n",
            "    for the California housing dataset and::\n",
            "\n",
            "        from sklearn.datasets import fetch_openml\n",
            "        housing = fetch_openml(name=\"house_prices\", as_frame=True)\n",
            "\n",
            "    for the Ames housing dataset.\n",
            "  warnings.warn(msg, category=FutureWarning)\n"
          ]
        }
      ],
      "source": [
        "from sklearn.datasets import load_boston\n",
        "#Boston housing prices\n",
        "boston = load_boston()"
      ]
    },
    {
      "cell_type": "code",
      "execution_count": 4,
      "metadata": {
        "id": "Zt02Ws5Cxm4p",
        "colab": {
          "base_uri": "https://localhost:8080/"
        },
        "outputId": "83a6393c-faf3-48c1-eeae-cf7aa00e7ddd"
      },
      "outputs": [
        {
          "output_type": "stream",
          "name": "stdout",
          "text": [
            "dict_keys(['data', 'target', 'feature_names', 'DESCR', 'filename', 'data_module'])\n",
            "(506, 13)\n",
            "['CRIM' 'ZN' 'INDUS' 'CHAS' 'NOX' 'RM' 'AGE' 'DIS' 'RAD' 'TAX' 'PTRATIO'\n",
            " 'B' 'LSTAT']\n"
          ]
        },
        {
          "output_type": "execute_result",
          "data": {
            "text/plain": [
              "(506,)"
            ]
          },
          "metadata": {},
          "execution_count": 4
        }
      ],
      "source": [
        "#Format: Dictionary\n",
        "print(boston.keys())\n",
        "#Size it up\n",
        "print(boston.data.shape)\n",
        "#What are the 13 features?\n",
        "print(boston.feature_names)\n",
        "\n",
        "boston.target.shape\n"
      ]
    },
    {
      "cell_type": "code",
      "execution_count": 5,
      "metadata": {
        "scrolled": true,
        "id": "9SU0TvzUxm4q",
        "colab": {
          "base_uri": "https://localhost:8080/"
        },
        "outputId": "c0d14961-071d-44df-f22f-76ab9fe644de"
      },
      "outputs": [
        {
          "output_type": "stream",
          "name": "stdout",
          "text": [
            "(506, 13) (506,)\n"
          ]
        }
      ],
      "source": [
        "X = boston.data\n",
        "y = boston.target\n",
        "print(X.shape, y.shape)"
      ]
    },
    {
      "cell_type": "code",
      "execution_count": 7,
      "metadata": {
        "id": "cMX0-J8Fxm4q",
        "colab": {
          "base_uri": "https://localhost:8080/"
        },
        "outputId": "3757677c-7af8-48db-8e18-fc6d0ca99b72"
      },
      "outputs": [
        {
          "output_type": "stream",
          "name": "stdout",
          "text": [
            "(379, 13) (379,)\n"
          ]
        }
      ],
      "source": [
        "#split into Train / Test data:\n",
        "from sklearn.model_selection import train_test_split\n",
        "Xtrain, Xtest, ytrain, ytest = train_test_split(X, y,random_state=42)\n",
        "\n",
        "print(Xtrain.shape, ytrain.shape)"
      ]
    },
    {
      "cell_type": "markdown",
      "source": [
        "# Linear Regression with the data"
      ],
      "metadata": {
        "id": "2LqvAFBmHnG9"
      }
    },
    {
      "cell_type": "code",
      "execution_count": 8,
      "metadata": {
        "id": "psDx6m07xm4r",
        "colab": {
          "base_uri": "https://localhost:8080/",
          "height": 74
        },
        "outputId": "80c30bea-2f84-43a2-ba87-2ae482ca2b65"
      },
      "outputs": [
        {
          "output_type": "execute_result",
          "data": {
            "text/plain": [
              "LinearRegression(fit_intercept=False)"
            ],
            "text/html": [
              "<style>#sk-container-id-1 {color: black;background-color: white;}#sk-container-id-1 pre{padding: 0;}#sk-container-id-1 div.sk-toggleable {background-color: white;}#sk-container-id-1 label.sk-toggleable__label {cursor: pointer;display: block;width: 100%;margin-bottom: 0;padding: 0.3em;box-sizing: border-box;text-align: center;}#sk-container-id-1 label.sk-toggleable__label-arrow:before {content: \"▸\";float: left;margin-right: 0.25em;color: #696969;}#sk-container-id-1 label.sk-toggleable__label-arrow:hover:before {color: black;}#sk-container-id-1 div.sk-estimator:hover label.sk-toggleable__label-arrow:before {color: black;}#sk-container-id-1 div.sk-toggleable__content {max-height: 0;max-width: 0;overflow: hidden;text-align: left;background-color: #f0f8ff;}#sk-container-id-1 div.sk-toggleable__content pre {margin: 0.2em;color: black;border-radius: 0.25em;background-color: #f0f8ff;}#sk-container-id-1 input.sk-toggleable__control:checked~div.sk-toggleable__content {max-height: 200px;max-width: 100%;overflow: auto;}#sk-container-id-1 input.sk-toggleable__control:checked~label.sk-toggleable__label-arrow:before {content: \"▾\";}#sk-container-id-1 div.sk-estimator input.sk-toggleable__control:checked~label.sk-toggleable__label {background-color: #d4ebff;}#sk-container-id-1 div.sk-label input.sk-toggleable__control:checked~label.sk-toggleable__label {background-color: #d4ebff;}#sk-container-id-1 input.sk-hidden--visually {border: 0;clip: rect(1px 1px 1px 1px);clip: rect(1px, 1px, 1px, 1px);height: 1px;margin: -1px;overflow: hidden;padding: 0;position: absolute;width: 1px;}#sk-container-id-1 div.sk-estimator {font-family: monospace;background-color: #f0f8ff;border: 1px dotted black;border-radius: 0.25em;box-sizing: border-box;margin-bottom: 0.5em;}#sk-container-id-1 div.sk-estimator:hover {background-color: #d4ebff;}#sk-container-id-1 div.sk-parallel-item::after {content: \"\";width: 100%;border-bottom: 1px solid gray;flex-grow: 1;}#sk-container-id-1 div.sk-label:hover label.sk-toggleable__label {background-color: #d4ebff;}#sk-container-id-1 div.sk-serial::before {content: \"\";position: absolute;border-left: 1px solid gray;box-sizing: border-box;top: 0;bottom: 0;left: 50%;z-index: 0;}#sk-container-id-1 div.sk-serial {display: flex;flex-direction: column;align-items: center;background-color: white;padding-right: 0.2em;padding-left: 0.2em;position: relative;}#sk-container-id-1 div.sk-item {position: relative;z-index: 1;}#sk-container-id-1 div.sk-parallel {display: flex;align-items: stretch;justify-content: center;background-color: white;position: relative;}#sk-container-id-1 div.sk-item::before, #sk-container-id-1 div.sk-parallel-item::before {content: \"\";position: absolute;border-left: 1px solid gray;box-sizing: border-box;top: 0;bottom: 0;left: 50%;z-index: -1;}#sk-container-id-1 div.sk-parallel-item {display: flex;flex-direction: column;z-index: 1;position: relative;background-color: white;}#sk-container-id-1 div.sk-parallel-item:first-child::after {align-self: flex-end;width: 50%;}#sk-container-id-1 div.sk-parallel-item:last-child::after {align-self: flex-start;width: 50%;}#sk-container-id-1 div.sk-parallel-item:only-child::after {width: 0;}#sk-container-id-1 div.sk-dashed-wrapped {border: 1px dashed gray;margin: 0 0.4em 0.5em 0.4em;box-sizing: border-box;padding-bottom: 0.4em;background-color: white;}#sk-container-id-1 div.sk-label label {font-family: monospace;font-weight: bold;display: inline-block;line-height: 1.2em;}#sk-container-id-1 div.sk-label-container {text-align: center;}#sk-container-id-1 div.sk-container {/* jupyter's `normalize.less` sets `[hidden] { display: none; }` but bootstrap.min.css set `[hidden] { display: none !important; }` so we also need the `!important` here to be able to override the default hidden behavior on the sphinx rendered scikit-learn.org. See: https://github.com/scikit-learn/scikit-learn/issues/21755 */display: inline-block !important;position: relative;}#sk-container-id-1 div.sk-text-repr-fallback {display: none;}</style><div id=\"sk-container-id-1\" class=\"sk-top-container\"><div class=\"sk-text-repr-fallback\"><pre>LinearRegression(fit_intercept=False)</pre><b>In a Jupyter environment, please rerun this cell to show the HTML representation or trust the notebook. <br />On GitHub, the HTML representation is unable to render, please try loading this page with nbviewer.org.</b></div><div class=\"sk-container\" hidden><div class=\"sk-item\"><div class=\"sk-estimator sk-toggleable\"><input class=\"sk-toggleable__control sk-hidden--visually\" id=\"sk-estimator-id-1\" type=\"checkbox\" checked><label for=\"sk-estimator-id-1\" class=\"sk-toggleable__label sk-toggleable__label-arrow\">LinearRegression</label><div class=\"sk-toggleable__content\"><pre>LinearRegression(fit_intercept=False)</pre></div></div></div></div></div>"
            ]
          },
          "metadata": {},
          "execution_count": 8
        }
      ],
      "source": [
        "from sklearn.linear_model import LinearRegression\n",
        "\n",
        "model = LinearRegression(fit_intercept=False)\n",
        "model.fit(Xtrain, ytrain)\n",
        "\n",
        "#Note: if error: you may need np.asarray(...,dtype=np.float64)\n"
      ]
    },
    {
      "cell_type": "code",
      "execution_count": 9,
      "metadata": {
        "scrolled": true,
        "id": "CZy17Kk8xm4r",
        "colab": {
          "base_uri": "https://localhost:8080/",
          "height": 507
        },
        "outputId": "9e55ac50-5368-4e38-befb-1b57078c86d3"
      },
      "outputs": [
        {
          "output_type": "stream",
          "name": "stdout",
          "text": [
            "MAE:  26.23519748421417\n"
          ]
        },
        {
          "output_type": "execute_result",
          "data": {
            "text/plain": [
              "Text(0.5, 1.0, 'Boston Housing True vs Predicted prices')"
            ]
          },
          "metadata": {},
          "execution_count": 9
        },
        {
          "output_type": "display_data",
          "data": {
            "text/plain": [
              "<Figure size 640x480 with 1 Axes>"
            ],
            "image/png": "[encoded data removed]"
          },
          "metadata": {}
        }
      ],
      "source": [
        "#Evaluate on test data\n",
        "from sklearn.metrics import mean_squared_error\n",
        "from sklearn.metrics import mean_absolute_error\n",
        "\n",
        "y_model = model.predict(Xtest)\n",
        "#Calculate error and plot\n",
        "mae = mean_squared_error(ytest, y_model)\n",
        "print(\"MAE: \", mae)\n",
        "\n",
        "#compare labels\n",
        "plt.scatter(ytest, y_model)\n",
        "plt.xlabel(\"Truth\")\n",
        "plt.ylabel(\"Predicted\")\n",
        "plt.title(\"Boston Housing True vs Predicted prices\")"
      ]
    },
    {
      "cell_type": "markdown",
      "metadata": {
        "id": "w_mMYNG5xm4s"
      },
      "source": [
        "## Regression via NN\n",
        "\n",
        "Will use DENSE layers: https://www.tensorflow.org/api_docs/python/tf/keras/layers/Dense"
      ]
    },
    {
      "cell_type": "code",
      "execution_count": 28,
      "metadata": {
        "id": "dwaPZ4sTxm4s"
      },
      "outputs": [],
      "source": [
        "from scipy.optimize import optimize\n",
        "from keras.api._v2.keras import activations\n",
        "import tensorflow as tf\n",
        "from tensorflow import keras\n",
        "from tensorflow.keras import layers\n",
        "from tensorflow.keras import models\n",
        "\n",
        "#Old Syntax:\n",
        "# from keras import layers\n",
        "\n",
        "#Define your NN arch\n",
        "def myNN(train_data):\n",
        "\n",
        "#Initiate model:\n",
        "  model = models.Sequential() # layer by layer from in to out\n",
        "#First layer is special: It needs to match the shape of data:\n",
        "    # units = 64: # of neurons; determines output shape of the layer.\n",
        "    # input_shape: how many W needed per neuron?\n",
        "    # Thus: input arrays of shape (*, 13). Output arrays of shape: (*, 64)\n",
        "  model.add(layers.Dense(64,activation=\"relu\",input_shape=(train_data.shape[1],),name=\"in\"))\n",
        "\n",
        "#Hidden layers will auto-size their input based the previous layer:\n",
        "    #Can add more layers here to make it deeper...\n",
        "  model.add(layers.Dense(32,activation=\"relu\",name=\"hidden1\"))\n",
        "\n",
        "#Output: Need a single number as our prediction:\n",
        "    #Note that output layer has no activation\n",
        "    # b/c this is a regression problem, not classification.\n",
        "#How should the weights be calculated?\n",
        "  model.add(layers.Dense(1,activation=None,name=\"out\"))\n",
        "\n",
        "#Cost design: loss function?\n",
        "  model.compile(optimizer=\"rmsprop\",loss=\"mse\",metrics=[\"mae\"])\n",
        "\n",
        "  return model\n"
      ]
    },
    {
      "cell_type": "code",
      "execution_count": 22,
      "metadata": {
        "id": "9AnxSNIxxm4s"
      },
      "outputs": [],
      "source": [
        "# %load keras-ex1.py\n"
      ]
    },
    {
      "cell_type": "code",
      "execution_count": 29,
      "metadata": {
        "id": "b1GuvUflxm4s"
      },
      "outputs": [],
      "source": [
        "#build the model\n",
        "model = myNN(Xtrain)"
      ]
    },
    {
      "cell_type": "code",
      "execution_count": 30,
      "metadata": {
        "id": "KwUAqzAixm4t",
        "colab": {
          "base_uri": "https://localhost:8080/"
        },
        "outputId": "231bc774-3a36-458c-cc62-bfa8c6e8eb61"
      },
      "outputs": [
        {
          "output_type": "stream",
          "name": "stdout",
          "text": [
            "Model: \"sequential_7\"\n",
            "_________________________________________________________________\n",
            " Layer (type)                Output Shape              Param #   \n",
            "=================================================================\n",
            " in (Dense)                  (None, 64)                896       \n",
            "                                                                 \n",
            " hidden1 (Dense)             (None, 32)                2080      \n",
            "                                                                 \n",
            " out (Dense)                 (None, 1)                 33        \n",
            "                                                                 \n",
            "=================================================================\n",
            "Total params: 3,009\n",
            "Trainable params: 3,009\n",
            "Non-trainable params: 0\n",
            "_________________________________________________________________\n"
          ]
        }
      ],
      "source": [
        "model.summary()"
      ]
    },
    {
      "cell_type": "markdown",
      "metadata": {
        "id": "T0yIIlhJxm4t"
      },
      "source": [
        "### Ex:\n",
        "\n",
        "Why does it have 896 parameters?"
      ]
    },
    {
      "cell_type": "code",
      "execution_count": 31,
      "metadata": {
        "id": "8sx5HS0Axm4t"
      },
      "outputs": [],
      "source": [
        "#Algebra goes here?\n",
        "# 896 = 14(# of features(13) +bias (1)) * 64 neurons\n",
        "# 2080 = (64 +1) * 32 neurons\n",
        "# 33 = (32 +1) * 1 neuron"
      ]
    },
    {
      "cell_type": "markdown",
      "metadata": {
        "id": "Yv7garn9xm4t"
      },
      "source": [
        "## Train/Test your model\n"
      ]
    },
    {
      "cell_type": "code",
      "execution_count": 32,
      "metadata": {
        "id": "6Vyd6b2pxm4u",
        "colab": {
          "base_uri": "https://localhost:8080/"
        },
        "outputId": "dcefb790-5149-4d85-ede3-ced6da291c16"
      },
      "outputs": [
        {
          "output_type": "stream",
          "name": "stdout",
          "text": [
            "Epoch 1/10\n",
            "379/379 [==============================] - 2s 2ms/step - loss: 125.0480 - mae: 8.1911\n",
            "Epoch 2/10\n",
            "379/379 [==============================] - 1s 2ms/step - loss: 97.1043 - mae: 7.3100\n",
            "Epoch 3/10\n",
            "379/379 [==============================] - 1s 2ms/step - loss: 81.5945 - mae: 6.6709\n",
            "Epoch 4/10\n",
            "379/379 [==============================] - 1s 2ms/step - loss: 74.6934 - mae: 6.3935\n",
            "Epoch 5/10\n",
            "379/379 [==============================] - 1s 2ms/step - loss: 71.4150 - mae: 6.1964\n",
            "Epoch 6/10\n",
            "379/379 [==============================] - 1s 2ms/step - loss: 63.7662 - mae: 5.9798\n",
            "Epoch 7/10\n",
            "379/379 [==============================] - 1s 2ms/step - loss: 62.4420 - mae: 5.8423\n",
            "Epoch 8/10\n",
            "379/379 [==============================] - 1s 2ms/step - loss: 55.0501 - mae: 5.5028\n",
            "Epoch 9/10\n",
            "379/379 [==============================] - 1s 2ms/step - loss: 53.0128 - mae: 5.5520\n",
            "Epoch 10/10\n",
            "379/379 [==============================] - 1s 2ms/step - loss: 52.7923 - mae: 5.2958\n"
          ]
        },
        {
          "output_type": "execute_result",
          "data": {
            "text/plain": [
              "<keras.callbacks.History at 0x7b40fb5e6c80>"
            ]
          },
          "metadata": {},
          "execution_count": 32
        }
      ],
      "source": [
        "#Train: a la scikit:\n",
        "#Scikit: model.fit(Xtrain, ytrain)\n",
        "ne = 10\n",
        "model.fit(Xtrain, ytrain, epochs=ne, batch_size=1, verbose=1)"
      ]
    },
    {
      "cell_type": "code",
      "execution_count": 33,
      "metadata": {
        "id": "lWQWXlXgxm4u",
        "colab": {
          "base_uri": "https://localhost:8080/"
        },
        "outputId": "7222ab89-a97b-42ce-cab0-35eacfecb656"
      },
      "outputs": [
        {
          "output_type": "stream",
          "name": "stdout",
          "text": [
            "4/4 [==============================] - 0s 6ms/step - loss: 31.9647 - mae: 4.0356\n",
            "NN Test MAE:  4.035647392272949\n"
          ]
        }
      ],
      "source": [
        "#Evalute our model:\n",
        "#SciKit:\n",
        "# y_model = model.predict(Xtest)\n",
        "#Calculate error and plot\n",
        "# mae = mean_squared_error(ytest, y_model)\n",
        "\n",
        "nnmse, nnmae = model.evaluate(Xtest, ytest, verbose = 1)\n",
        "print('NN Test MAE: ', nnmae)\n",
        "# smaller mae, better performance(accuracy)"
      ]
    },
    {
      "cell_type": "markdown",
      "metadata": {
        "id": "d8UH6x_Zxm4u"
      },
      "source": [
        "### Keras model training API:\n",
        "\n",
        "model.___()\n",
        "\n",
        "- compile(): Configure model to be trained. Cost/loss function selection\n",
        "- fit(): train for given # of iterations/epochs\n",
        "- evaluate(): calculate loss given metrics\n",
        "- predict(): what is my trained model's hypothesis?\n",
        "\n",
        "More info at https://keras.io/api/models/model_training_apis/"
      ]
    },
    {
      "cell_type": "markdown",
      "metadata": {
        "id": "NB0v88Qbxm4u"
      },
      "source": [
        "## Ex\n",
        "\n",
        "Giving the feeatures for a new house, what do you think it costs?"
      ]
    },
    {
      "cell_type": "code",
      "execution_count": 35,
      "metadata": {
        "id": "I8ILb2D4xm4u",
        "colab": {
          "base_uri": "https://localhost:8080/"
        },
        "outputId": "93f1e699-c781-4bb7-a724-f648e040f0f0"
      },
      "outputs": [
        {
          "output_type": "stream",
          "name": "stdout",
          "text": [
            "1/1 [==============================] - 0s 152ms/step\n"
          ]
        },
        {
          "output_type": "execute_result",
          "data": {
            "text/plain": [
              "array([[23.319134]], dtype=float32)"
            ]
          },
          "metadata": {},
          "execution_count": 35
        }
      ],
      "source": [
        "Xnew = np.array([2.7310e-02, 0.0000e+00, 7.0700e+00, 0.0000e+00, 4.6900e-01, 6.4210e+00,\n",
        "  7.8900e+01, 4.9671e+00, 2.0000e+00, 2.4200e+02, 1.7800e+01, 3.9690e+02,\n",
        "  9.1400e+00])\n",
        "\n",
        "## Predict ynew from Xnew:\n",
        "model.predict(Xnew.reshape(1,13))"
      ]
    },
    {
      "cell_type": "code",
      "execution_count": null,
      "metadata": {
        "id": "mtPgI7EGxm4u"
      },
      "outputs": [],
      "source": []
    },
    {
      "cell_type": "markdown",
      "metadata": {
        "id": "6QUEMDL_xm4v"
      },
      "source": [
        "## How can we improve?\n",
        "\n",
        "- tune network: add layers, train longer (i.e. epochs)\n",
        "- cross-validation\n",
        "- feature engineering"
      ]
    },
    {
      "cell_type": "markdown",
      "metadata": {
        "id": "QmzjJSdZxm4v"
      },
      "source": [
        "## Ex:\n",
        "Tune the network above to drop the MAE.\n",
        "\n",
        "Hint: Note that loss keeps dropping. Train the NN for longer."
      ]
    },
    {
      "cell_type": "code",
      "execution_count": null,
      "metadata": {
        "id": "amBDn204xm4v"
      },
      "outputs": [],
      "source": [
        "#Code goes here"
      ]
    },
    {
      "cell_type": "markdown",
      "metadata": {
        "id": "M02eXJTpxm4v"
      },
      "source": [
        "### Preprocessing\n",
        "\n",
        "What if we scale X?"
      ]
    },
    {
      "cell_type": "code",
      "execution_count": 36,
      "metadata": {
        "id": "_tKGXqMExm4v",
        "colab": {
          "base_uri": "https://localhost:8080/"
        },
        "outputId": "cb548974-f7cc-4f5b-cdfd-15f0ec42b321"
      },
      "outputs": [
        {
          "output_type": "stream",
          "name": "stdout",
          "text": [
            "Pre-scale:  [[9.10300e-02 0.00000e+00 2.46000e+00 0.00000e+00 4.88000e-01 7.15500e+00\n",
            "  9.22000e+01 2.70060e+00 3.00000e+00 1.93000e+02 1.78000e+01 3.94120e+02\n",
            "  4.82000e+00]\n",
            " [3.53501e+00 0.00000e+00 1.95800e+01 1.00000e+00 8.71000e-01 6.15200e+00\n",
            "  8.26000e+01 1.74550e+00 5.00000e+00 4.03000e+02 1.47000e+01 8.80100e+01\n",
            "  1.50200e+01]]\n",
            "Post-scale [[-0.40679535 -0.50281197 -1.24707626 -0.28784917 -0.59117383  1.15625495\n",
            "   0.83323537 -0.50375279 -0.74057063 -1.28020837 -0.20515671  0.40451209\n",
            "  -1.07775629]\n",
            " [ 0.00799171 -0.50281197  1.21828293  3.47404167  2.62837994 -0.23847529\n",
            "   0.48624629 -0.95644027 -0.50774088 -0.0139371  -1.57625236 -3.09803734\n",
            "   0.35116456]]\n"
          ]
        }
      ],
      "source": [
        "from sklearn import preprocessing\n",
        "\n",
        "print('Pre-scale: ', Xtrain[:2])\n",
        "scaler = preprocessing.StandardScaler().fit(Xtrain)\n",
        "Xtrains = scaler.transform(Xtrain)\n",
        "#Apply the learned scaler to Test data:\n",
        "Xtests = scaler.transform(Xtest)\n",
        "print('Post-scale', Xtrains[:2])"
      ]
    },
    {
      "cell_type": "code",
      "execution_count": null,
      "metadata": {
        "id": "aJlLde1Axm4v"
      },
      "outputs": [],
      "source": [
        "# for fun: we know how to do this ourselves:\n",
        "# same process as above\n",
        "xs = (Xtrain - Xtrain.mean(axis=0)) / (Xtrain.std(axis=0))\n",
        "print('Post-scale', xs[:2])"
      ]
    },
    {
      "cell_type": "markdown",
      "metadata": {
        "id": "2YBibAm_xm4w"
      },
      "source": [
        "## Ex:\n",
        "How well does the scaled data do in 10 epochs, with 1 hidden layer?"
      ]
    },
    {
      "cell_type": "code",
      "execution_count": 38,
      "metadata": {
        "id": "2EjNpt1Uxm4w",
        "colab": {
          "base_uri": "https://localhost:8080/"
        },
        "outputId": "fd71f96b-b080-4e94-b02f-d89f48c24fb1"
      },
      "outputs": [
        {
          "output_type": "stream",
          "name": "stdout",
          "text": [
            "Epoch 1/10\n",
            "379/379 [==============================] - 1s 2ms/step - loss: 227.5178 - mae: 11.1960\n",
            "Epoch 2/10\n",
            "379/379 [==============================] - 1s 2ms/step - loss: 27.9971 - mae: 3.7803\n",
            "Epoch 3/10\n",
            "379/379 [==============================] - 1s 2ms/step - loss: 18.3309 - mae: 3.0413\n",
            "Epoch 4/10\n",
            "379/379 [==============================] - 1s 2ms/step - loss: 15.5544 - mae: 2.7361\n",
            "Epoch 5/10\n",
            "379/379 [==============================] - 1s 2ms/step - loss: 14.5152 - mae: 2.6393\n",
            "Epoch 6/10\n",
            "379/379 [==============================] - 1s 4ms/step - loss: 13.3691 - mae: 2.4986\n",
            "Epoch 7/10\n",
            "379/379 [==============================] - 2s 4ms/step - loss: 11.9499 - mae: 2.4337\n",
            "Epoch 8/10\n",
            "379/379 [==============================] - 1s 3ms/step - loss: 12.2880 - mae: 2.3889\n",
            "Epoch 9/10\n",
            "379/379 [==============================] - 1s 2ms/step - loss: 11.2277 - mae: 2.3394\n",
            "Epoch 10/10\n",
            "379/379 [==============================] - 1s 2ms/step - loss: 11.3726 - mae: 2.2685\n"
          ]
        },
        {
          "output_type": "execute_result",
          "data": {
            "text/plain": [
              "<keras.callbacks.History at 0x7b40fb987400>"
            ]
          },
          "metadata": {},
          "execution_count": 38
        }
      ],
      "source": [
        "#Solution goes here.\n",
        "model = myNN(Xtrains)\n",
        "ne = 10\n",
        "model.fit(Xtrains, ytrain, epochs=ne, batch_size=1, verbose=1)"
      ]
    },
    {
      "cell_type": "markdown",
      "metadata": {
        "id": "lxYPKjzxxm4w"
      },
      "source": [
        "## Overview\n",
        "\n",
        "- We created a MLP to predict housing prices\n",
        "\n",
        "- Exposed to Keras/tf API\n",
        "\n",
        "- Employed Dense hidden layers\n",
        "\n",
        "- Discussed how to improve NN results"
      ]
    },
    {
      "cell_type": "markdown",
      "metadata": {
        "id": "wr3vSlJFxm4w"
      },
      "source": [
        "## NN Steps\n",
        "- Data prep: Split train/test, pre-process, etc.\n",
        "- Create model:\n",
        "    - `model.Sequential()`\n",
        "    - `model.add(layers….)`\n",
        "    - Compile: loss function?\n",
        "- Build model/review model summary: `model = myNN(Xtrains)`\n",
        "- Train the model: `model.fit()`\n",
        "- Evaluate on test data / cross-validate\n",
        "- Repeat all of the steps above until satisfied/ran out of time\n",
        "- Ready to predict on new data!"
      ]
    },
    {
      "cell_type": "markdown",
      "metadata": {
        "id": "Sh7kOvC2xm4w"
      },
      "source": [
        "## To Do\n",
        "\n",
        "- What is a Dense layer?"
      ]
    },
    {
      "cell_type": "markdown",
      "metadata": {
        "id": "YIy9rhc-xm4w"
      },
      "source": [
        "## Bonus Materials\n"
      ]
    },
    {
      "cell_type": "markdown",
      "metadata": {
        "id": "t0ODs2HMxm4w"
      },
      "source": [
        "## Plotting the loss\n",
        "\n",
        "We can save the train/test history and plot it!\n"
      ]
    },
    {
      "cell_type": "code",
      "execution_count": 39,
      "metadata": {
        "id": "Xwyj2uHQxm4x",
        "colab": {
          "base_uri": "https://localhost:8080/"
        },
        "outputId": "2900dff2-d82b-4128-eb4c-3a880e370502"
      },
      "outputs": [
        {
          "output_type": "stream",
          "name": "stdout",
          "text": [
            "Epoch 1/20\n",
            "12/12 [==============================] - 1s 17ms/step - loss: 2380738.7500 - mae: 1497.7797 - val_loss: 1411927.1250 - val_mae: 1167.3656\n",
            "Epoch 2/20\n",
            "12/12 [==============================] - 0s 6ms/step - loss: 968106.0625 - mae: 958.5336 - val_loss: 631092.3125 - val_mae: 777.5519\n",
            "Epoch 3/20\n",
            "12/12 [==============================] - 0s 5ms/step - loss: 413383.9062 - mae: 622.2601 - val_loss: 248677.3594 - val_mae: 485.0616\n",
            "Epoch 4/20\n",
            "12/12 [==============================] - 0s 6ms/step - loss: 147199.2656 - mae: 367.4535 - val_loss: 78394.5781 - val_mae: 268.4966\n",
            "Epoch 5/20\n",
            "12/12 [==============================] - 0s 6ms/step - loss: 41136.5430 - mae: 187.0606 - val_loss: 19240.6348 - val_mae: 126.8975\n",
            "Epoch 6/20\n",
            "12/12 [==============================] - 0s 5ms/step - loss: 8410.9785 - mae: 75.5793 - val_loss: 3322.3447 - val_mae: 41.5411\n",
            "Epoch 7/20\n",
            "12/12 [==============================] - 0s 5ms/step - loss: 1754.9320 - mae: 28.3018 - val_loss: 1211.2374 - val_mae: 23.6232\n",
            "Epoch 8/20\n",
            "12/12 [==============================] - 0s 5ms/step - loss: 1010.7350 - mae: 22.8429 - val_loss: 704.5331 - val_mae: 19.0005\n",
            "Epoch 9/20\n",
            "12/12 [==============================] - 0s 5ms/step - loss: 643.3505 - mae: 18.8912 - val_loss: 406.1741 - val_mae: 15.1621\n",
            "Epoch 10/20\n",
            "12/12 [==============================] - 0s 6ms/step - loss: 395.0846 - mae: 15.0375 - val_loss: 247.5072 - val_mae: 12.3152\n",
            "Epoch 11/20\n",
            "12/12 [==============================] - 0s 6ms/step - loss: 308.2501 - mae: 13.8414 - val_loss: 194.2482 - val_mae: 10.5211\n",
            "Epoch 12/20\n",
            "12/12 [==============================] - 0s 6ms/step - loss: 322.0217 - mae: 14.7137 - val_loss: 197.4244 - val_mae: 10.4678\n",
            "Epoch 13/20\n",
            "12/12 [==============================] - 0s 6ms/step - loss: 228.0484 - mae: 12.0979 - val_loss: 142.4449 - val_mae: 9.8193\n",
            "Epoch 14/20\n",
            "12/12 [==============================] - 0s 6ms/step - loss: 225.6128 - mae: 11.9479 - val_loss: 154.8089 - val_mae: 8.8789\n",
            "Epoch 15/20\n",
            "12/12 [==============================] - 0s 5ms/step - loss: 144.5457 - mae: 9.5382 - val_loss: 180.8752 - val_mae: 11.5076\n",
            "Epoch 16/20\n",
            "12/12 [==============================] - 0s 5ms/step - loss: 229.8280 - mae: 12.0129 - val_loss: 108.3368 - val_mae: 7.1964\n",
            "Epoch 17/20\n",
            "12/12 [==============================] - 0s 6ms/step - loss: 247.6602 - mae: 13.0549 - val_loss: 213.0650 - val_mae: 10.8816\n",
            "Epoch 18/20\n",
            "12/12 [==============================] - 0s 5ms/step - loss: 134.6518 - mae: 9.2476 - val_loss: 82.3653 - val_mae: 6.4036\n",
            "Epoch 19/20\n",
            "12/12 [==============================] - 0s 5ms/step - loss: 236.3334 - mae: 12.5021 - val_loss: 223.5556 - val_mae: 12.1981\n",
            "Epoch 20/20\n",
            "12/12 [==============================] - 0s 5ms/step - loss: 190.3242 - mae: 11.2742 - val_loss: 226.4806 - val_mae: 13.5511\n",
            "{'loss': [2380738.75, 968106.0625, 413383.90625, 147199.265625, 41136.54296875, 8410.978515625, 1754.9320068359375, 1010.7349853515625, 643.3505249023438, 395.0845947265625, 308.2500915527344, 322.0216979980469, 228.04835510253906, 225.61277770996094, 144.54568481445312, 229.8280487060547, 247.6602020263672, 134.65176391601562, 236.33335876464844, 190.32424926757812], 'mae': [1497.7796630859375, 958.5336303710938, 622.2600708007812, 367.4534912109375, 187.0606231689453, 75.57927703857422, 28.3017520904541, 22.842905044555664, 18.891199111938477, 15.037541389465332, 13.841357231140137, 14.713655471801758, 12.097928047180176, 11.94788932800293, 9.538208961486816, 12.012932777404785, 13.05490779876709, 9.247575759887695, 12.502110481262207, 11.274211883544922], 'val_loss': [1411927.125, 631092.3125, 248677.359375, 78394.578125, 19240.634765625, 3322.3447265625, 1211.2374267578125, 704.5331420898438, 406.1741027832031, 247.5072021484375, 194.24818420410156, 197.42440795898438, 142.44488525390625, 154.80889892578125, 180.875244140625, 108.33675384521484, 213.06495666503906, 82.36528015136719, 223.5555877685547, 226.4805908203125], 'val_mae': [1167.3656005859375, 777.5519409179688, 485.06158447265625, 268.49664306640625, 126.89747619628906, 41.541107177734375, 23.623165130615234, 19.00050163269043, 15.16214656829834, 12.315176010131836, 10.521084785461426, 10.46784496307373, 9.819337844848633, 8.878939628601074, 11.507614135742188, 7.1963911056518555, 10.881572723388672, 6.403573989868164, 12.198144912719727, 13.551050186157227]}\n"
          ]
        }
      ],
      "source": [
        "ne = 20\n",
        "#Combine Train and Test to 1-step:\n",
        "history = model.fit(Xtrain, ytrain, epochs=ne, verbose=1, validation_data = (Xtest, ytest)) #, batch_size=1\n",
        "#Evalute our model:\n",
        "# nnmse, nnmae = model.evaluate(Xtest, ytest, verbose = 1)\n",
        "\n",
        "# History object is a dictionary with keys.\n",
        "hd = history.history\n",
        "print(hd)"
      ]
    },
    {
      "cell_type": "code",
      "execution_count": 40,
      "metadata": {
        "id": "Jnb-AnJQxm4x",
        "colab": {
          "base_uri": "https://localhost:8080/",
          "height": 474
        },
        "outputId": "4cb8f4a6-69fa-4967-a525-06271cfeb5bc"
      },
      "outputs": [
        {
          "output_type": "display_data",
          "data": {
            "text/plain": [
              "<Figure size 640x480 with 1 Axes>"
            ],
            "image/png": "[encoded data removed]"
          },
          "metadata": {}
        }
      ],
      "source": [
        "loss_tr = hd['loss']\n",
        "loss_va = hd['val_loss']\n",
        "epochs = range(0, ne)\n",
        "\n",
        "import matplotlib.pyplot as plt\n",
        "import seaborn as sns\n",
        "sns.set()\n",
        "\n",
        "plt.plot(epochs, loss_tr, '-.o', label='Training loss')\n",
        "plt.plot(epochs, loss_va, 'r', label='Validation loss')\n",
        "plt.xlabel('Epochs')\n",
        "plt.ylabel('Loss')\n",
        "plt.legend()\n",
        "plt.show()"
      ]
    },
    {
      "cell_type": "code",
      "execution_count": null,
      "metadata": {
        "id": "yjVk1X5uxm4x"
      },
      "outputs": [],
      "source": []
    },
    {
      "cell_type": "code",
      "execution_count": null,
      "metadata": {
        "id": "qRhdTnzNxm4x"
      },
      "outputs": [],
      "source": []
    },
    {
      "cell_type": "markdown",
      "metadata": {
        "id": "Ph6c0SLbxm4y"
      },
      "source": [
        "## Dropout\n",
        "\n",
        "- May help against overfitting\n",
        "- by improving generalization\n",
        "\n",
        "``The Dropout layer randomly sets input units to 0 with a frequency of `rate` at each step during training time,..\"\n",
        "https://keras.io/api/layers/regularization_layers/dropout/"
      ]
    },
    {
      "cell_type": "code",
      "execution_count": 41,
      "metadata": {
        "id": "zZs3PGQlxm4y"
      },
      "outputs": [],
      "source": [
        "import tensorflow as tf\n",
        "from tensorflow import keras\n",
        "from tensorflow.keras import layers\n",
        "from tensorflow.keras import models\n",
        "\n",
        "#Old Syntax:\n",
        "# from keras import layers\n",
        "\n",
        "#Define your NN arch\n",
        "def myNN(train_data):\n",
        "#Initiate model:\n",
        "    model = models.Sequential()\n",
        "#First layer is special: It needs to match the shape of data:\n",
        "    model.add(layers.Dense(64, activation='relu', input_shape=(train_data.shape[1],), name='in'))\n",
        "    model.add(layers.Dropout(0.15))\n",
        "    # units = 64: # of neurons; determines output shape of the layer.\n",
        "    # input_shape: how many W needed per neuron?\n",
        "    # Thus: input arrays of shape (*, 13). Output arrays of shape: (*, 64)\n",
        "#Hidden layers will auto-size their input based the previous layer:\n",
        "    model.add(layers.Dense(64, activation='relu', name='hidden1'))\n",
        "    #Can add more layers here to make it deeper...\n",
        "    model.add(layers.Dropout(0.15))\n",
        "\n",
        "#Output: Need a single number as our prediction:\n",
        "    model.add(layers.Dense(1, name='pred'))\n",
        "\n",
        "    #Note that output layer has no activation\n",
        "    # b/c this is a regression problem, not classification.\n",
        "#How should the weights be calculated?\n",
        "    model.compile(optimizer='rmsprop', loss='mse', metrics = ['mae'])\n",
        "    return model\n"
      ]
    },
    {
      "cell_type": "code",
      "execution_count": 42,
      "metadata": {
        "id": "EIWVqco1xm4y"
      },
      "outputs": [],
      "source": [
        "#build the model\n",
        "model = myNN(Xtrain)"
      ]
    },
    {
      "cell_type": "code",
      "execution_count": 43,
      "metadata": {
        "id": "gZYU4kEpxm4y",
        "colab": {
          "base_uri": "https://localhost:8080/"
        },
        "outputId": "1ecc0ceb-927e-48ba-bc7b-195c76f3d0cb"
      },
      "outputs": [
        {
          "output_type": "stream",
          "name": "stdout",
          "text": [
            "Model: \"sequential_10\"\n",
            "_________________________________________________________________\n",
            " Layer (type)                Output Shape              Param #   \n",
            "=================================================================\n",
            " in (Dense)                  (None, 64)                896       \n",
            "                                                                 \n",
            " dropout (Dropout)           (None, 64)                0         \n",
            "                                                                 \n",
            " hidden1 (Dense)             (None, 64)                4160      \n",
            "                                                                 \n",
            " dropout_1 (Dropout)         (None, 64)                0         \n",
            "                                                                 \n",
            " pred (Dense)                (None, 1)                 65        \n",
            "                                                                 \n",
            "=================================================================\n",
            "Total params: 5,121\n",
            "Trainable params: 5,121\n",
            "Non-trainable params: 0\n",
            "_________________________________________________________________\n"
          ]
        }
      ],
      "source": [
        "model.summary()"
      ]
    },
    {
      "cell_type": "markdown",
      "metadata": {
        "id": "q5RqmAkuxm4y"
      },
      "source": [
        "## Train/Test your model\n"
      ]
    },
    {
      "cell_type": "code",
      "execution_count": 44,
      "metadata": {
        "id": "8ZPfp60Wxm4y",
        "colab": {
          "base_uri": "https://localhost:8080/"
        },
        "outputId": "54885e61-f41c-4c26-abe2-33c906194cea"
      },
      "outputs": [
        {
          "output_type": "stream",
          "name": "stdout",
          "text": [
            "Epoch 1/10\n",
            "12/12 [==============================] - 1s 2ms/step - loss: 687.1929 - mae: 21.1135\n",
            "Epoch 2/10\n",
            "12/12 [==============================] - 0s 2ms/step - loss: 456.5342 - mae: 16.6317\n",
            "Epoch 3/10\n",
            "12/12 [==============================] - 0s 2ms/step - loss: 315.4850 - mae: 14.1172\n",
            "Epoch 4/10\n",
            "12/12 [==============================] - 0s 3ms/step - loss: 269.9789 - mae: 12.8933\n",
            "Epoch 5/10\n",
            "12/12 [==============================] - 0s 3ms/step - loss: 239.7692 - mae: 11.7312\n",
            "Epoch 6/10\n",
            "12/12 [==============================] - 0s 2ms/step - loss: 170.8943 - mae: 10.0070\n",
            "Epoch 7/10\n",
            "12/12 [==============================] - 0s 2ms/step - loss: 166.7120 - mae: 10.0316\n",
            "Epoch 8/10\n",
            "12/12 [==============================] - 0s 2ms/step - loss: 133.7203 - mae: 8.8125\n",
            "Epoch 9/10\n",
            "12/12 [==============================] - 0s 3ms/step - loss: 127.1561 - mae: 8.6497\n",
            "Epoch 10/10\n",
            "12/12 [==============================] - 0s 2ms/step - loss: 130.3715 - mae: 8.8061\n",
            "4/4 [==============================] - 0s 3ms/step - loss: 43.1887 - mae: 4.2071\n",
            "NN Test MAE:  4.207075119018555\n"
          ]
        }
      ],
      "source": [
        "#Train: a la scikit:\n",
        "#Scikit: model.fit(Xtrain, ytrain)\n",
        "ne = 10\n",
        "model.fit(Xtrain, ytrain, epochs=ne, verbose=1) #, batch_size=1\n",
        "\n",
        "#Evalute our model:\n",
        "nnmse, nnmae = model.evaluate(Xtest, ytest, verbose = 1)\n",
        "print('NN Test MAE: ', nnmae)"
      ]
    },
    {
      "cell_type": "markdown",
      "source": [
        "## Summary\n",
        "\n",
        "- Design our fist neural net to solve a regression problem\n",
        "- Introduce tensorflow's Keras library\n",
        "- Evaluating trained model\n",
        "- Visualizing the loss\n",
        "- Improvements:\n",
        "  - Hidden layers\n",
        "  - Pre-processing: Scaling\n",
        "  - Dropout\n"
      ],
      "metadata": {
        "id": "mDk698WU6D85"
      }
    }
  ],
  "metadata": {
    "kernelspec": {
      "display_name": "Python 3",
      "language": "python",
      "name": "python3"
    },
    "language_info": {
      "codemirror_mode": {
        "name": "ipython",
        "version": 3
      },
      "file_extension": ".py",
      "mimetype": "text/x-python",
      "name": "python",
      "nbconvert_exporter": "python",
      "pygments_lexer": "ipython3",
      "version": "3.6.10"
    },
    "colab": {
      "provenance": [],
      "include_colab_link": true
    }
  },
  "nbformat": 4,
  "nbformat_minor": 0
}
