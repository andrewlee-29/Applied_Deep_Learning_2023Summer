{
  "cells": [
    {
      "cell_type": "markdown",
      "metadata": {
        "id": "view-in-github",
        "colab_type": "text"
      },
      "source": [
        "<a href=\"https://colab.research.google.com/github/andrewlee-29/Applied_Deep_Learning_2023Summer/blob/main/Week12_(DCGAN)_chapter12_part05_gans_MNIST_fromCondtGAN_student.ipynb\" target=\"_parent\"><img src=\"https://colab.research.google.com/assets/colab-badge.svg\" alt=\"Open In Colab\"/></a>"
      ]
    },
    {
      "cell_type": "markdown",
      "metadata": {
        "id": "BBT34q32vNzt"
      },
      "source": [
        "This is a companion notebook for the book [Deep Learning with Python, Second Edition](https://www.manning.com/books/deep-learning-with-python-second-edition?a_aid=keras&a_bid=76564dff). For readability, it only contains runnable code blocks and section titles, and omits everything else in the book: text paragraphs, figures, and pseudocode.\n",
        "\n",
        "**If you want to be able to follow what's going on, I recommend reading the notebook side by side with your copy of the book.**\n",
        "\n",
        "This notebook was generated for TensorFlow 2.6."
      ]
    },
    {
      "cell_type": "markdown",
      "metadata": {
        "id": "5Oah0h1NvNzv"
      },
      "source": [
        "## Introduction to generative adversarial networks"
      ]
    },
    {
      "cell_type": "markdown",
      "metadata": {
        "id": "A-WXc5UyvNzv"
      },
      "source": [
        "### A schematic GAN implementation\n",
        "\n",
        "- A generator network maps vectors of shape (latent_dim,) to images of shape (64, 64, 3).\n",
        "- A discriminator network maps images of shape (64, 64, 3) to a binary score estimating the probability that the image is real.\n",
        "- A gan network chains the generator and the discriminator together: gan(x) = discriminator(generator(x)). Thus, this gan network maps latent space vectors to the discriminator’s assessment of the realism of these latent vectors as decoded by the generator.\n",
        "- We train the discriminator using examples of real and fake images along with “real”/“fake” labels, just as we train any regular image-classification model.\n",
        "- To train the generator, we use the gradients of the generator’s weights with regard to the loss of the gan model. This means that at every step, we move the weights of the generator in a direction that makes the discriminator more likely to classify as “real” the images decoded by the generator. In other words, we train the generator to fool the discriminator."
      ]
    },
    {
      "cell_type": "markdown",
      "metadata": {
        "id": "7BDWV2ThvNzw"
      },
      "source": [
        "### A bag of tricks"
      ]
    },
    {
      "cell_type": "markdown",
      "metadata": {
        "id": "3YBno4LBvNzw"
      },
      "source": [
        "### Getting our hands on the CelebA dataset"
      ]
    },
    {
      "cell_type": "markdown",
      "metadata": {
        "id": "sKAE07wvvNzw"
      },
      "source": [
        "**Getting the CelebA data**"
      ]
    },
    {
      "cell_type": "code",
      "execution_count": null,
      "metadata": {
        "id": "ptT9mhP4vNzx",
        "colab": {
          "base_uri": "https://localhost:8080/"
        },
        "outputId": "32971179-b933-4b2d-a922-ab1d32c3664a"
      },
      "outputs": [
        {
          "output_type": "stream",
          "name": "stdout",
          "text": [
            "Requirement already satisfied: gdown in /usr/local/lib/python3.10/dist-packages (4.6.6)\n",
            "Requirement already satisfied: filelock in /usr/local/lib/python3.10/dist-packages (from gdown) (3.12.2)\n",
            "Requirement already satisfied: requests[socks] in /usr/local/lib/python3.10/dist-packages (from gdown) (2.27.1)\n",
            "Requirement already satisfied: six in /usr/local/lib/python3.10/dist-packages (from gdown) (1.16.0)\n",
            "Requirement already satisfied: tqdm in /usr/local/lib/python3.10/dist-packages (from gdown) (4.65.0)\n",
            "Requirement already satisfied: beautifulsoup4 in /usr/local/lib/python3.10/dist-packages (from gdown) (4.11.2)\n",
            "Requirement already satisfied: soupsieve>1.2 in /usr/local/lib/python3.10/dist-packages (from beautifulsoup4->gdown) (2.4.1)\n",
            "Requirement already satisfied: urllib3<1.27,>=1.21.1 in /usr/local/lib/python3.10/dist-packages (from requests[socks]->gdown) (1.26.16)\n",
            "Requirement already satisfied: certifi>=2017.4.17 in /usr/local/lib/python3.10/dist-packages (from requests[socks]->gdown) (2023.7.22)\n",
            "Requirement already satisfied: charset-normalizer~=2.0.0 in /usr/local/lib/python3.10/dist-packages (from requests[socks]->gdown) (2.0.12)\n",
            "Requirement already satisfied: idna<4,>=2.5 in /usr/local/lib/python3.10/dist-packages (from requests[socks]->gdown) (3.4)\n",
            "Requirement already satisfied: PySocks!=1.5.7,>=1.5.6 in /usr/local/lib/python3.10/dist-packages (from requests[socks]->gdown) (1.7.1)\n"
          ]
        }
      ],
      "source": [
        "!mkdir celeba_gan\n",
        "!pip install gdown"
      ]
    },
    {
      "cell_type": "code",
      "execution_count": null,
      "metadata": {
        "id": "BhRVC6OPvNzx",
        "colab": {
          "base_uri": "https://localhost:8080/"
        },
        "outputId": "09060d7e-644b-4afe-f3da-1c96aa0a2d6c"
      },
      "outputs": [
        {
          "output_type": "stream",
          "name": "stdout",
          "text": [
            "/usr/local/lib/python3.10/dist-packages/gdown/cli.py:121: FutureWarning: Option `--id` was deprecated in version 4.3.1 and will be removed in 5.0. You don't need to pass it anymore to use a file ID.\n",
            "  warnings.warn(\n",
            "Downloading...\n",
            "From: https://drive.google.com/uc?id=1O7m1010EJjLE5QxLZiM9Fpjs7Oj6e684\n",
            "To: /content/celeba_gan/data.zip\n",
            "100% 1.44G/1.44G [00:29<00:00, 48.1MB/s]\n"
          ]
        }
      ],
      "source": [
        "!gdown --id 1O7m1010EJjLE5QxLZiM9Fpjs7Oj6e684 -O celeba_gan/data.zip\n",
        "!unzip -qq celeba_gan/data.zip -d celeba_gan"
      ]
    },
    {
      "cell_type": "markdown",
      "metadata": {
        "id": "AWZGurRvvNzy"
      },
      "source": [
        "**Creating a dataset from a directory of images**\n",
        "\n",
        "Note: no labels—`label_mode=None`"
      ]
    },
    {
      "cell_type": "code",
      "execution_count": null,
      "metadata": {
        "id": "0SKBYouxvNzy",
        "outputId": "516a96a1-cef0-443f-acc9-a4427a949a30",
        "colab": {
          "base_uri": "https://localhost:8080/"
        }
      },
      "outputs": [
        {
          "output_type": "stream",
          "name": "stdout",
          "text": [
            "Found 202599 files belonging to 1 classes.\n"
          ]
        }
      ],
      "source": [
        "from tensorflow import keras\n",
        "dataset = keras.utils.image_dataset_from_directory(\n",
        "    \"celeba_gan\",\n",
        "    label_mode=None,\n",
        "    image_size=(64, 64),\n",
        "    batch_size=32,\n",
        "    smart_resize=True)"
      ]
    },
    {
      "cell_type": "markdown",
      "metadata": {
        "id": "gfux0RjtvNzz"
      },
      "source": [
        "**Rescaling the images**"
      ]
    },
    {
      "cell_type": "code",
      "execution_count": null,
      "metadata": {
        "id": "sm73-GMRvNzz"
      },
      "outputs": [],
      "source": [
        "dataset = dataset.map(lambda x: x / 255.)\n",
        "#0 to 1 scaling"
      ]
    },
    {
      "cell_type": "markdown",
      "metadata": {
        "id": "C0SkhbSNvNz0"
      },
      "source": [
        "**Displaying the first image**"
      ]
    },
    {
      "cell_type": "code",
      "execution_count": null,
      "metadata": {
        "id": "Yfff09HbvNz0",
        "outputId": "094d9e5b-2515-4f8b-d3ba-9b6c8dc4088a",
        "colab": {
          "base_uri": "https://localhost:8080/",
          "height": 406
        }
      },
      "outputs": [
        {
          "output_type": "display_data",
          "data": {
            "text/plain": [
              "<Figure size 640x480 with 1 Axes>"
            ],
            "image/png": "[encoded data removed]"
          },
          "metadata": {}
        }
      ],
      "source": [
        "import matplotlib.pyplot as plt\n",
        "for x in dataset:\n",
        "    plt.axis(\"off\")\n",
        "    plt.imshow((x.numpy() * 255).astype(\"int32\")[0])\n",
        "    break"
      ]
    },
    {
      "cell_type": "markdown",
      "metadata": {
        "id": "F0F2IeqtvNz0"
      },
      "source": [
        "### The discriminator\n",
        "\n",
        "> takes as input a candidate image (real or synthetic) and classifies it into one of two classes: “generated image” or “real image that comes from the training set.”"
      ]
    },
    {
      "cell_type": "markdown",
      "metadata": {
        "id": "NEAB1h0AvNz0"
      },
      "source": [
        "**The GAN discriminator network**"
      ]
    },
    {
      "cell_type": "code",
      "execution_count": null,
      "metadata": {
        "id": "Zx6H0gMLvNz1"
      },
      "outputs": [],
      "source": [
        "from tensorflow.keras import layers\n",
        "\n",
        "discriminator = keras.Sequential(\n",
        "    [\n",
        "        keras.Input(shape=(64, 64, 3)),\n",
        "        layers.Conv2D(64,kernel_size=4,strides=2,padding=\"same\"),\n",
        "        layers.LeakyReLU(alpha=0.2), #32,32,64\n",
        "        #vs ReLU helps avoid sparse gradients\n",
        "        layers.Conv2D(128,kernel_size=4,strides=2,padding=\"same\"),\n",
        "        layers.LeakyReLU(alpha=0.2), #16,16,128\n",
        "        layers.Conv2D(128,kernel_size=4,strides=2,padding=\"same\"),\n",
        "        layers.LeakyReLU(alpha=0.2), #8,8,128\n",
        "        layers.Flatten(),\n",
        "        layers.Dropout(0.2),\n",
        "        layers.Dense(1,activation=\"sigmoid\"),\n",
        "    ],\n",
        "    name=\"discriminator\",\n",
        ")"
      ]
    },
    {
      "cell_type": "code",
      "execution_count": null,
      "metadata": {
        "id": "YVSmv1Z3vNz1",
        "outputId": "994fcde8-6615-45b2-9707-3d4da9400450"
      },
      "outputs": [
        {
          "name": "stdout",
          "output_type": "stream",
          "text": [
            "Model: \"discriminator\"\n",
            "_________________________________________________________________\n",
            " Layer (type)                Output Shape              Param #   \n",
            "=================================================================\n",
            " conv2d (Conv2D)             (None, 32, 32, 64)        3136      \n",
            "                                                                 \n",
            " leaky_re_lu (LeakyReLU)     (None, 32, 32, 64)        0         \n",
            "                                                                 \n",
            " conv2d_1 (Conv2D)           (None, 16, 16, 128)       131200    \n",
            "                                                                 \n",
            " leaky_re_lu_1 (LeakyReLU)   (None, 16, 16, 128)       0         \n",
            "                                                                 \n",
            " conv2d_2 (Conv2D)           (None, 8, 8, 128)         262272    \n",
            "                                                                 \n",
            " leaky_re_lu_2 (LeakyReLU)   (None, 8, 8, 128)         0         \n",
            "                                                                 \n",
            " flatten (Flatten)           (None, 8192)              0         \n",
            "                                                                 \n",
            " dropout (Dropout)           (None, 8192)              0         \n",
            "                                                                 \n",
            " dense (Dense)               (None, 1)                 8193      \n",
            "                                                                 \n",
            "=================================================================\n",
            "Total params: 404,801\n",
            "Trainable params: 404,801\n",
            "Non-trainable params: 0\n",
            "_________________________________________________________________\n"
          ]
        }
      ],
      "source": [
        "discriminator.summary()"
      ]
    },
    {
      "cell_type": "markdown",
      "metadata": {
        "id": "9XSZzncYvNz1"
      },
      "source": [
        "### The generator"
      ]
    },
    {
      "cell_type": "markdown",
      "metadata": {
        "id": "guWu0KvevNz1"
      },
      "source": [
        "**GAN generator network**\n",
        "\n",
        "> turns a vector (from the latent space—during training it will be sampled at random) into a candidate image."
      ]
    },
    {
      "cell_type": "code",
      "execution_count": null,
      "metadata": {
        "id": "diLKQlVNvNz1"
      },
      "outputs": [],
      "source": [
        "latent_dim = 128\n",
        "\n",
        "#finished discriminator with:\n",
        "# (Flatten)           (None, 8192)\n",
        "#or (8, 8, 128)\n",
        "\n",
        "generator = keras.Sequential(\n",
        "    [\n",
        "        keras.Input(shape=(latent_dim,)),\n",
        "        layers.Dense(8*8*128),\n",
        "        layers.Reshape((8,8,128)),\n",
        "        layers.Conv2DTranspose(128,kernel_size=4,strides=2,padding=\"same\"),\n",
        "        layers.LeakyReLU(alpha=0.2), #16,16,128\n",
        "        layers.Conv2DTranspose(256,kernel_size=4,strides=2,padding=\"same\"),\n",
        "        layers.LeakyReLU(alpha=0.2), #32,32,256\n",
        "        layers.Conv2DTranspose(512,kernel_size=4,strides=2,padding=\"same\"),\n",
        "        layers.LeakyReLU(alpha=0.2), #64,64,512\n",
        "\n",
        "        # output target 64,64,3\n",
        "        layers.Conv2D(3,kernel_size=5,padding=\"same\",activation='sigmoid')\n",
        "    ],\n",
        "    name=\"generator\",\n",
        ")"
      ]
    },
    {
      "cell_type": "code",
      "execution_count": null,
      "metadata": {
        "id": "X5dYSB7LvNz2",
        "outputId": "ba82241c-09ff-424e-d32f-fe43ad22aaa1",
        "colab": {
          "base_uri": "https://localhost:8080/"
        }
      },
      "outputs": [
        {
          "output_type": "stream",
          "name": "stdout",
          "text": [
            "Model: \"generator\"\n",
            "_________________________________________________________________\n",
            " Layer (type)                Output Shape              Param #   \n",
            "=================================================================\n",
            " dense_5 (Dense)             (None, 8192)              1056768   \n",
            "                                                                 \n",
            " reshape_2 (Reshape)         (None, 8, 8, 128)         0         \n",
            "                                                                 \n",
            " conv2d_transpose_3 (Conv2DT  (None, 16, 16, 128)      262272    \n",
            " ranspose)                                                       \n",
            "                                                                 \n",
            " leaky_re_lu_10 (LeakyReLU)  (None, 16, 16, 128)       0         \n",
            "                                                                 \n",
            " conv2d_transpose_4 (Conv2DT  (None, 32, 32, 256)      524544    \n",
            " ranspose)                                                       \n",
            "                                                                 \n",
            " leaky_re_lu_11 (LeakyReLU)  (None, 32, 32, 256)       0         \n",
            "                                                                 \n",
            " conv2d_transpose_5 (Conv2DT  (None, 64, 64, 512)      2097664   \n",
            " ranspose)                                                       \n",
            "                                                                 \n",
            " leaky_re_lu_12 (LeakyReLU)  (None, 64, 64, 512)       0         \n",
            "                                                                 \n",
            " conv2d_7 (Conv2D)           (None, 64, 64, 3)         38403     \n",
            "                                                                 \n",
            "=================================================================\n",
            "Total params: 3,979,651\n",
            "Trainable params: 3,979,651\n",
            "Non-trainable params: 0\n",
            "_________________________________________________________________\n"
          ]
        }
      ],
      "source": [
        "generator.summary()"
      ]
    },
    {
      "cell_type": "markdown",
      "metadata": {
        "id": "Qz0fZw5lvNz2"
      },
      "source": [
        "### The adversarial network"
      ]
    },
    {
      "cell_type": "markdown",
      "metadata": {
        "id": "jnZw_kHvvNz3"
      },
      "source": [
        "**The GAN `Model`**\n",
        "\n",
        "> For each epoch, you do the following:\n",
        "\n",
        "- Draw random points in the latent space (random noise).\n",
        "- Generate images with generator using this random noise.\n",
        "- Mix the generated images with real ones.\n",
        "- Train discriminator using these mixed images, with corresponding targets: either “real” (for the real images) or “fake” (for the generated images).\n",
        "- Draw new random points in the latent space.\n",
        "- Train generator using these random vectors, with targets that all say “these are real images.” This updates the weights of the generator to move them toward getting the discriminator to predict “these are real images” for generated images: this trains the generator to fool the discriminator.\n",
        "\n",
        "\n",
        "\n"
      ]
    },
    {
      "cell_type": "code",
      "execution_count": null,
      "metadata": {
        "id": "x3GY-SLEvNz5"
      },
      "outputs": [],
      "source": [
        "import tensorflow as tf\n",
        "class GAN(keras.Model):\n",
        "    def __init__(self, discriminator, generator, latent_dim):\n",
        "        super().__init__()\n",
        "        self.discriminator = discriminator\n",
        "        self.generator = generator\n",
        "        self.latent_dim = latent_dim\n",
        "        #setup 2 losses: Generator and Discriminator\n",
        "        self.d_loss_metric = keras.metrics.Mean(name=\"d_loss\")\n",
        "        self.g_loss_metric = keras.metrics.Mean(name=\"g_loss\")\n",
        "\n",
        "    def compile(self, d_optimizer, g_optimizer, loss_fn):\n",
        "        super(GAN, self).compile()\n",
        "        self.d_optimizer = d_optimizer\n",
        "        self.g_optimizer = g_optimizer\n",
        "        self.loss_fn = loss_fn\n",
        "\n",
        "    @property\n",
        "    def metrics(self):\n",
        "        return [self.d_loss_metric, self.g_loss_metric]\n",
        "\n",
        "    def train_step(self, real_images):\n",
        "      #1. grab random noise from latent space\n",
        "        batch_size = tf.shape(real_images)[0]\n",
        "        random_latent_vectors = tf.random.normal(\n",
        "            shape=(batch_size, self.latent_dim))\n",
        "        # 2. gen img\n",
        "        generated_images = self.generator(random_latent_vectors)\n",
        "        # 3. mix fake and real img\n",
        "        combined_images = tf.concat([generated_images, real_images], axis=0)\n",
        "        labels = tf.concat(\n",
        "            [tf.ones((batch_size, 1)), tf.zeros((batch_size, 1))],\n",
        "            axis=0\n",
        "        )\n",
        "        #add random noise to labels; helps if stuck!\n",
        "        labels += 0.05 * tf.random.uniform(tf.shape(labels))\n",
        "\n",
        "\n",
        "        # 4. Train the Discriminator\n",
        "        with tf.GradientTape() as tape:\n",
        "            predictions = self.discriminator(combined_images)\n",
        "            d_loss = self.loss_fn(labels, predictions)\n",
        "        grads = tape.gradient(d_loss, self.discriminator.trainable_weights)\n",
        "        self.d_optimizer.apply_gradients(\n",
        "            zip(grads, self.discriminator.trainable_weights)\n",
        "        )\n",
        "\n",
        "      #5. grab more random noise from latent space\n",
        "        random_latent_vectors = tf.random.normal(\n",
        "            shape=(batch_size, self.latent_dim))\n",
        "\n",
        "        misleading_labels = tf.zeros((batch_size, 1))\n",
        "\n",
        "        # 6. Train the Generator\n",
        "        with tf.GradientTape() as tape:\n",
        "            predictions = self.discriminator(\n",
        "                self.generator(random_latent_vectors))\n",
        "            g_loss = self.loss_fn(misleading_labels, predictions)\n",
        "        grads = tape.gradient(g_loss, self.generator.trainable_weights)\n",
        "        self.g_optimizer.apply_gradients(\n",
        "            zip(grads, self.generator.trainable_weights))\n",
        "\n",
        "        self.d_loss_metric.update_state(d_loss)\n",
        "        self.g_loss_metric.update_state(g_loss)\n",
        "        return {\"d_loss\": self.d_loss_metric.result(),\n",
        "                \"g_loss\": self.g_loss_metric.result()}"
      ]
    },
    {
      "cell_type": "markdown",
      "metadata": {
        "id": "IXgbOa6AvNz5"
      },
      "source": [
        "**A callback that samples generated images during training**\n",
        "\n",
        "> a callback to monitor our results: it will use the generator to create and save a number of fake images at the end of each epoch."
      ]
    },
    {
      "cell_type": "code",
      "execution_count": null,
      "metadata": {
        "id": "8uwgq5uevNz6"
      },
      "outputs": [],
      "source": [
        "class GANMonitor(keras.callbacks.Callback):\n",
        "    def __init__(self, num_img=3, latent_dim=128):\n",
        "        self.num_img = num_img\n",
        "        self.latent_dim = latent_dim\n",
        "\n",
        "    def on_epoch_end(self, epoch, logs=None):\n",
        "        random_latent_vectors = tf.random.normal(shape=(self.num_img, self.latent_dim))\n",
        "        generated_images = self.model.generator(random_latent_vectors)\n",
        "        generated_images *= 255\n",
        "        generated_images.numpy()\n",
        "        for i in range(self.num_img):\n",
        "            img = keras.utils.array_to_img(generated_images[i])\n",
        "            img.save(f\"generated_img_{epoch:03d}_{i}.png\")"
      ]
    },
    {
      "cell_type": "markdown",
      "metadata": {
        "id": "ot54i4k5vNz6"
      },
      "source": [
        "**Compiling and training the GAN**"
      ]
    },
    {
      "cell_type": "code",
      "execution_count": null,
      "metadata": {
        "id": "MUCzAT5pvNz6",
        "outputId": "bcaf9b68-8b2d-4531-cf04-ce0ebbef4ced"
      },
      "outputs": [
        {
          "name": "stdout",
          "output_type": "stream",
          "text": [
            "Epoch 1/100\n"
          ]
        },
        {
          "name": "stderr",
          "output_type": "stream",
          "text": [
            "2022-03-26 15:38:07.653887: I tensorflow/core/grappler/optimizers/custom_graph_optimizer_registry.cc:112] Plugin optimizer for device_type GPU is enabled.\n"
          ]
        },
        {
          "name": "stdout",
          "output_type": "stream",
          "text": [
            "6332/6332 [==============================] - 3270s 516ms/step - d_loss: 0.6191 - g_loss: 1.2206\n",
            "Epoch 2/100\n",
            "6332/6332 [==============================] - 3206s 506ms/step - d_loss: 0.6593 - g_loss: 1.0582\n",
            "Epoch 3/100\n",
            "6332/6332 [==============================] - 3172s 501ms/step - d_loss: 0.6511 - g_loss: 1.0977\n",
            "Epoch 4/100\n",
            "6332/6332 [==============================] - 3227s 510ms/step - d_loss: 0.6637 - g_loss: 1.0633\n",
            "Epoch 5/100\n",
            "6332/6332 [==============================] - 3168s 500ms/step - d_loss: 0.6551 - g_loss: 1.0595\n",
            "Epoch 6/100\n",
            "6332/6332 [==============================] - 3198s 505ms/step - d_loss: 0.6644 - g_loss: 0.9732\n",
            "Epoch 7/100\n",
            "6332/6332 [==============================] - 3159s 499ms/step - d_loss: 0.6687 - g_loss: 0.9636\n",
            "Epoch 8/100\n",
            "6332/6332 [==============================] - 3146s 497ms/step - d_loss: 0.6788 - g_loss: 0.9095\n",
            "Epoch 9/100\n",
            "6332/6332 [==============================] - 3148s 497ms/step - d_loss: 0.6819 - g_loss: 0.8933\n",
            "Epoch 10/100\n",
            "6332/6332 [==============================] - 3129s 494ms/step - d_loss: 0.6774 - g_loss: 0.8945\n",
            "Epoch 11/100\n",
            "6332/6332 [==============================] - 3128s 494ms/step - d_loss: 0.6760 - g_loss: 0.8932\n",
            "Epoch 12/100\n",
            "6332/6332 [==============================] - 3132s 495ms/step - d_loss: 0.6751 - g_loss: 0.8851\n",
            "Epoch 13/100\n",
            "6332/6332 [==============================] - 3128s 494ms/step - d_loss: 0.6761 - g_loss: 0.8886\n",
            "Epoch 14/100\n",
            "6332/6332 [==============================] - 3129s 494ms/step - d_loss: 0.6682 - g_loss: 0.9070\n",
            "Epoch 15/100\n",
            "6332/6332 [==============================] - 3132s 495ms/step - d_loss: 0.6644 - g_loss: 0.9180\n",
            "Epoch 16/100\n",
            "6332/6332 [==============================] - 3128s 494ms/step - d_loss: 0.6652 - g_loss: 0.9123\n",
            "Epoch 17/100\n",
            "6332/6332 [==============================] - 3130s 494ms/step - d_loss: 0.6584 - g_loss: 0.9323\n",
            "Epoch 18/100\n",
            "6332/6332 [==============================] - 3130s 494ms/step - d_loss: 0.6568 - g_loss: 0.9465\n",
            "Epoch 19/100\n",
            "6332/6332 [==============================] - 3122s 493ms/step - d_loss: 0.6549 - g_loss: 0.9369\n",
            "Epoch 20/100\n",
            "6332/6332 [==============================] - 3119s 493ms/step - d_loss: 0.6516 - g_loss: 0.9498\n",
            "Epoch 21/100\n",
            "2935/6332 [============>.................] - ETA: 27:59 - d_loss: 0.6551 - g_loss: 0.9388"
          ]
        }
      ],
      "source": [
        "epochs = 100\n",
        "\n",
        "gan = GAN(discriminator=discriminator, generator=generator, latent_dim=latent_dim)\n",
        "gan.compile(\n",
        "    d_optimizer=keras.optimizers.Adam(learning_rate=0.0001),\n",
        "    g_optimizer=keras.optimizers.Adam(learning_rate=0.0001),\n",
        "    loss_fn=keras.losses.BinaryCrossentropy(),\n",
        ")\n",
        "\n",
        "gan.fit(\n",
        "    dataset, epochs=epochs, callbacks=[GANMonitor(num_img=10, latent_dim=latent_dim)]\n",
        ")"
      ]
    },
    {
      "cell_type": "markdown",
      "metadata": {
        "id": "OaRXMrnTvNz6"
      },
      "source": [
        "### Wrapping up"
      ]
    },
    {
      "cell_type": "markdown",
      "metadata": {
        "id": "0zHtQtoKvNz6"
      },
      "source": [
        "## Summary"
      ]
    }
  ],
  "metadata": {
    "colab": {
      "provenance": [],
      "gpuType": "T4",
      "include_colab_link": true
    },
    "kernelspec": {
      "display_name": "Python 3",
      "name": "python3"
    },
    "language_info": {
      "codemirror_mode": {
        "name": "ipython",
        "version": 3
      },
      "file_extension": ".py",
      "mimetype": "text/x-python",
      "name": "python",
      "nbconvert_exporter": "python",
      "pygments_lexer": "ipython3",
      "version": "3.9.9"
    },
    "accelerator": "GPU"
  },
  "nbformat": 4,
  "nbformat_minor": 0
}