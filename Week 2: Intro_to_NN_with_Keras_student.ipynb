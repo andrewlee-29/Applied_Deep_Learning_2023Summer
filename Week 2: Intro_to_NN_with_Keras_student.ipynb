{
  "cells": [
    {
      "cell_type": "markdown",
      "metadata": {
        "id": "view-in-github",
        "colab_type": "text"
      },
      "source": [
        "<a href=\"https://colab.research.google.com/github/andrewlee-29/Applied_Deep_Learning_2023Summer/blob/main/Week%202%3A%20Intro_to_NN_with_Keras_student.ipynb\" target=\"_parent\"><img src=\"https://colab.research.google.com/assets/colab-badge.svg\" alt=\"Open In Colab\"/></a>"
      ]
    },
    {
      "cell_type": "markdown",
      "metadata": {
        "id": "8q4Ib19cxm4k"
      },
      "source": [
        "# Intro to NN with Keras\n",
        "\n",
        "- Design our fist neural net to solve a regression problem\n",
        "- Introduce tensorflow's Keras library\n",
        "- Evaluating trained model\n",
        "- Visualizing the loss\n",
        "- Improvements:\n",
        "  - Hidden layers\n",
        "  - Pre-processing: Scaling\n",
        "  - Dropout\n"
      ]
    },
    {
      "cell_type": "markdown",
      "metadata": {
        "id": "CpohwQHhxm4m"
      },
      "source": [
        "### Review of SciKit API\n",
        "\n",
        "According to VanderPlas (2016):\n",
        "1. Choose a class of model by **importing the appropriate estimator** class from Scikit-Learn.\n",
        "2. Choose model **hyperparameters** by instantiating this class with desired values.\n",
        "3. Arrange data into a **features matrix and target vector** following the discussion above.\n",
        "4. **Fit the model** to your data by calling the ``fit()`` method of the model instance.\n",
        "5. **Apply the model** to new data:\n",
        "   - For supervised learning, often we predict labels for unknown data using the ``predict()`` method.\n",
        "   - For unsupervised learning, we often transform or infer properties of the data using the ``transform()`` or ``predict()`` method. (p. 347)\n",
        "   \n",
        "   \n",
        "``` python\n",
        "from sklearn.svm import SVC #1\n",
        "model = SVC(kernel='linear') #2\n",
        "\n",
        "Xtrain, Xtest, ytrain, ytest = train_test_split(data.features, data.labels) #3a/b\n",
        "\n",
        "model.fit(Xtrain, ytrain) #4\n",
        "\n",
        "y_model = model.predict(Xtest) #5\n",
        "```\n",
        "\n",
        "VanderPlas, J. (2016). Python data science handbook: Essential tools for working with data. Sebastopol, CA: O'Reilly Media."
      ]
    },
    {
      "cell_type": "markdown",
      "metadata": {
        "id": "_0dxH2DAxm4n"
      },
      "source": [
        "## Linear Regression\n",
        "\n",
        "Hypothesis\n",
        "\n",
        "$h(x) = \\sum_{i=1}^n wx_i $\n",
        "\n",
        "Prediction art\n",
        "\n",
        "$x_0 \\rightarrow w_0 \\searrow $\n",
        "\n",
        "$x_1 \\rightarrow w_1 \\rightarrow $   $\\sum \\longrightarrow $ h(x)\n",
        "\n",
        "$\\ldots$\n",
        "\n",
        "$x_m \\rightarrow w_m \\nearrow $\n",
        "\n",
        "[Cost function](https://scikit-learn.org/stable/modules/linear_model.html#ordinary-least-squares)"
      ]
    },
    {
      "cell_type": "markdown",
      "metadata": {
        "id": "nnNjktvNxm4n"
      },
      "source": [
        "## Classification via Logistic Regression\n",
        "\n",
        "Hypothesis\n",
        "\n",
        "Let $y = \\{-1, 1 \\}$ or $y = \\{0, 1 \\}$\n",
        "\n",
        "\n",
        "$ h(x) = \\text{sigmoid}(\\sum_{i=1}^n wx_i ) $\n",
        "\n",
        "Prediction art\n",
        "\n",
        "$x_0 \\rightarrow w_0 \\searrow $\n",
        "\n",
        "$x_1 \\rightarrow w_1 \\rightarrow $   $\\sum  \\rightarrow$ Sigmoid() $\\longrightarrow $ h(x)\n",
        "\n",
        "$\\ldots$\n",
        "\n",
        "$x_m \\rightarrow w_m \\nearrow $\n",
        "\n"
      ]
    },
    {
      "cell_type": "markdown",
      "metadata": {
        "id": "Xp0GniiDxm4n"
      },
      "source": [
        "# Regression: Housing Cost Prediciton\n",
        "\n",
        "- Linear Regression approach via Scikit\n",
        "- NN via tf.Keras"
      ]
    },
    {
      "cell_type": "code",
      "source": [
        "#BOS discontinued. need earlier scikit\n",
        "!pip install scikit-learn==1.1.3\n",
        "#restart runtime when asked"
      ],
      "metadata": {
        "id": "1_CBqda03ZTR",
        "outputId": "82a85b18-9240-4ccc-97cf-e7b3b3bdb977",
        "colab": {
          "base_uri": "https://localhost:8080/"
        }
      },
      "execution_count": 1,
      "outputs": [
        {
          "output_type": "stream",
          "name": "stdout",
          "text": [
            "Collecting scikit-learn==1.1.3\n",
            "  Downloading scikit_learn-1.1.3-cp310-cp310-manylinux_2_17_x86_64.manylinux2014_x86_64.whl (30.5 MB)\n",
            "\u001b[2K     \u001b[90m━━━━━━━━━━━━━━━━━━━━━━━━━━━━━━━━━━━━━━━━\u001b[0m \u001b[32m30.5/30.5 MB\u001b[0m \u001b[31m18.3 MB/s\u001b[0m eta \u001b[36m0:00:00\u001b[0m\n",
            "\u001b[?25hRequirement already satisfied: numpy>=1.17.3 in /usr/local/lib/python3.10/dist-packages (from scikit-learn==1.1.3) (1.23.5)\n",
            "Requirement already satisfied: scipy>=1.3.2 in /usr/local/lib/python3.10/dist-packages (from scikit-learn==1.1.3) (1.10.1)\n",
            "Requirement already satisfied: joblib>=1.0.0 in /usr/local/lib/python3.10/dist-packages (from scikit-learn==1.1.3) (1.3.1)\n",
            "Requirement already satisfied: threadpoolctl>=2.0.0 in /usr/local/lib/python3.10/dist-packages (from scikit-learn==1.1.3) (3.2.0)\n",
            "Installing collected packages: scikit-learn\n",
            "  Attempting uninstall: scikit-learn\n",
            "    Found existing installation: scikit-learn 1.2.2\n",
            "    Uninstalling scikit-learn-1.2.2:\n",
            "      Successfully uninstalled scikit-learn-1.2.2\n",
            "Successfully installed scikit-learn-1.1.3\n"
          ]
        }
      ]
    },
    {
      "cell_type": "code",
      "execution_count": 2,
      "metadata": {
        "id": "dfeTou6gxm4o"
      },
      "outputs": [],
      "source": [
        "%matplotlib inline\n",
        "from sklearn import datasets\n",
        "import numpy as np\n",
        "import matplotlib.pyplot as plt"
      ]
    },
    {
      "cell_type": "code",
      "execution_count": 3,
      "metadata": {
        "id": "TCAo_NLhxm4o",
        "outputId": "fc09e734-0172-4e07-9786-a9bab563edf5",
        "colab": {
          "base_uri": "https://localhost:8080/"
        }
      },
      "outputs": [
        {
          "output_type": "stream",
          "name": "stderr",
          "text": [
            "/usr/local/lib/python3.10/dist-packages/sklearn/utils/deprecation.py:87: FutureWarning: Function load_boston is deprecated; `load_boston` is deprecated in 1.0 and will be removed in 1.2.\n",
            "\n",
            "    The Boston housing prices dataset has an ethical problem. You can refer to\n",
            "    the documentation of this function for further details.\n",
            "\n",
            "    The scikit-learn maintainers therefore strongly discourage the use of this\n",
            "    dataset unless the purpose of the code is to study and educate about\n",
            "    ethical issues in data science and machine learning.\n",
            "\n",
            "    In this special case, you can fetch the dataset from the original\n",
            "    source::\n",
            "\n",
            "        import pandas as pd\n",
            "        import numpy as np\n",
            "\n",
            "        data_url = \"http://lib.stat.cmu.edu/datasets/boston\"\n",
            "        raw_df = pd.read_csv(data_url, sep=\"\\s+\", skiprows=22, header=None)\n",
            "        data = np.hstack([raw_df.values[::2, :], raw_df.values[1::2, :2]])\n",
            "        target = raw_df.values[1::2, 2]\n",
            "\n",
            "    Alternative datasets include the California housing dataset (i.e.\n",
            "    :func:`~sklearn.datasets.fetch_california_housing`) and the Ames housing\n",
            "    dataset. You can load the datasets as follows::\n",
            "\n",
            "        from sklearn.datasets import fetch_california_housing\n",
            "        housing = fetch_california_housing()\n",
            "\n",
            "    for the California housing dataset and::\n",
            "\n",
            "        from sklearn.datasets import fetch_openml\n",
            "        housing = fetch_openml(name=\"house_prices\", as_frame=True)\n",
            "\n",
            "    for the Ames housing dataset.\n",
            "  warnings.warn(msg, category=FutureWarning)\n"
          ]
        }
      ],
      "source": [
        "from sklearn.datasets import load_boston\n",
        "#Boston housing prices\n",
        "boston = load_boston()"
      ]
    },
    {
      "cell_type": "code",
      "execution_count": 4,
      "metadata": {
        "id": "Zt02Ws5Cxm4p",
        "outputId": "83a6393c-faf3-48c1-eeae-cf7aa00e7ddd",
        "colab": {
          "base_uri": "https://localhost:8080/"
        }
      },
      "outputs": [
        {
          "output_type": "stream",
          "name": "stdout",
          "text": [
            "dict_keys(['data', 'target', 'feature_names', 'DESCR', 'filename', 'data_module'])\n",
            "(506, 13)\n",
            "['CRIM' 'ZN' 'INDUS' 'CHAS' 'NOX' 'RM' 'AGE' 'DIS' 'RAD' 'TAX' 'PTRATIO'\n",
            " 'B' 'LSTAT']\n"
          ]
        },
        {
          "output_type": "execute_result",
          "data": {
            "text/plain": [
              "(506,)"
            ]
          },
          "metadata": {},
          "execution_count": 4
        }
      ],
      "source": [
        "#Format: Dictionary\n",
        "print(boston.keys())\n",
        "#Size it up\n",
        "print(boston.data.shape)\n",
        "#What are the 13 features?\n",
        "print(boston.feature_names)\n",
        "\n",
        "boston.target.shape\n"
      ]
    },
    {
      "cell_type": "code",
      "execution_count": 5,
      "metadata": {
        "scrolled": true,
        "id": "9SU0TvzUxm4q",
        "outputId": "c0d14961-071d-44df-f22f-76ab9fe644de",
        "colab": {
          "base_uri": "https://localhost:8080/"
        }
      },
      "outputs": [
        {
          "output_type": "stream",
          "name": "stdout",
          "text": [
            "(506, 13) (506,)\n"
          ]
        }
      ],
      "source": [
        "X = boston.data\n",
        "y = boston.target\n",
        "print(X.shape, y.shape)"
      ]
    },
    {
      "cell_type": "code",
      "execution_count": 7,
      "metadata": {
        "id": "cMX0-J8Fxm4q",
        "outputId": "3757677c-7af8-48db-8e18-fc6d0ca99b72",
        "colab": {
          "base_uri": "https://localhost:8080/"
        }
      },
      "outputs": [
        {
          "output_type": "stream",
          "name": "stdout",
          "text": [
            "(379, 13) (379,)\n"
          ]
        }
      ],
      "source": [
        "#split into Train / Test data:\n",
        "from sklearn.model_selection import train_test_split\n",
        "Xtrain, Xtest, ytrain, ytest = train_test_split(X, y,random_state=42)\n",
        "\n",
        "print(Xtrain.shape, ytrain.shape)"
      ]
    },
    {
      "cell_type": "markdown",
      "source": [
        "# Linear Regression with the data"
      ],
      "metadata": {
        "id": "2LqvAFBmHnG9"
      }
    },
    {
      "cell_type": "code",
      "execution_count": 8,
      "metadata": {
        "id": "psDx6m07xm4r",
        "outputId": "80c30bea-2f84-43a2-ba87-2ae482ca2b65",
        "colab": {
          "base_uri": "https://localhost:8080/",
          "height": 74
        }
      },
      "outputs": [
        {
          "output_type": "execute_result",
          "data": {
            "text/plain": [
              "LinearRegression(fit_intercept=False)"
            ],
            "text/html": [
              "<style>#sk-container-id-1 {color: black;background-color: white;}#sk-container-id-1 pre{padding: 0;}#sk-container-id-1 div.sk-toggleable {background-color: white;}#sk-container-id-1 label.sk-toggleable__label {cursor: pointer;display: block;width: 100%;margin-bottom: 0;padding: 0.3em;box-sizing: border-box;text-align: center;}#sk-container-id-1 label.sk-toggleable__label-arrow:before {content: \"▸\";float: left;margin-right: 0.25em;color: #696969;}#sk-container-id-1 label.sk-toggleable__label-arrow:hover:before {color: black;}#sk-container-id-1 div.sk-estimator:hover label.sk-toggleable__label-arrow:before {color: black;}#sk-container-id-1 div.sk-toggleable__content {max-height: 0;max-width: 0;overflow: hidden;text-align: left;background-color: #f0f8ff;}#sk-container-id-1 div.sk-toggleable__content pre {margin: 0.2em;color: black;border-radius: 0.25em;background-color: #f0f8ff;}#sk-container-id-1 input.sk-toggleable__control:checked~div.sk-toggleable__content {max-height: 200px;max-width: 100%;overflow: auto;}#sk-container-id-1 input.sk-toggleable__control:checked~label.sk-toggleable__label-arrow:before {content: \"▾\";}#sk-container-id-1 div.sk-estimator input.sk-toggleable__control:checked~label.sk-toggleable__label {background-color: #d4ebff;}#sk-container-id-1 div.sk-label input.sk-toggleable__control:checked~label.sk-toggleable__label {background-color: #d4ebff;}#sk-container-id-1 input.sk-hidden--visually {border: 0;clip: rect(1px 1px 1px 1px);clip: rect(1px, 1px, 1px, 1px);height: 1px;margin: -1px;overflow: hidden;padding: 0;position: absolute;width: 1px;}#sk-container-id-1 div.sk-estimator {font-family: monospace;background-color: #f0f8ff;border: 1px dotted black;border-radius: 0.25em;box-sizing: border-box;margin-bottom: 0.5em;}#sk-container-id-1 div.sk-estimator:hover {background-color: #d4ebff;}#sk-container-id-1 div.sk-parallel-item::after {content: \"\";width: 100%;border-bottom: 1px solid gray;flex-grow: 1;}#sk-container-id-1 div.sk-label:hover label.sk-toggleable__label {background-color: #d4ebff;}#sk-container-id-1 div.sk-serial::before {content: \"\";position: absolute;border-left: 1px solid gray;box-sizing: border-box;top: 0;bottom: 0;left: 50%;z-index: 0;}#sk-container-id-1 div.sk-serial {display: flex;flex-direction: column;align-items: center;background-color: white;padding-right: 0.2em;padding-left: 0.2em;position: relative;}#sk-container-id-1 div.sk-item {position: relative;z-index: 1;}#sk-container-id-1 div.sk-parallel {display: flex;align-items: stretch;justify-content: center;background-color: white;position: relative;}#sk-container-id-1 div.sk-item::before, #sk-container-id-1 div.sk-parallel-item::before {content: \"\";position: absolute;border-left: 1px solid gray;box-sizing: border-box;top: 0;bottom: 0;left: 50%;z-index: -1;}#sk-container-id-1 div.sk-parallel-item {display: flex;flex-direction: column;z-index: 1;position: relative;background-color: white;}#sk-container-id-1 div.sk-parallel-item:first-child::after {align-self: flex-end;width: 50%;}#sk-container-id-1 div.sk-parallel-item:last-child::after {align-self: flex-start;width: 50%;}#sk-container-id-1 div.sk-parallel-item:only-child::after {width: 0;}#sk-container-id-1 div.sk-dashed-wrapped {border: 1px dashed gray;margin: 0 0.4em 0.5em 0.4em;box-sizing: border-box;padding-bottom: 0.4em;background-color: white;}#sk-container-id-1 div.sk-label label {font-family: monospace;font-weight: bold;display: inline-block;line-height: 1.2em;}#sk-container-id-1 div.sk-label-container {text-align: center;}#sk-container-id-1 div.sk-container {/* jupyter's `normalize.less` sets `[hidden] { display: none; }` but bootstrap.min.css set `[hidden] { display: none !important; }` so we also need the `!important` here to be able to override the default hidden behavior on the sphinx rendered scikit-learn.org. See: https://github.com/scikit-learn/scikit-learn/issues/21755 */display: inline-block !important;position: relative;}#sk-container-id-1 div.sk-text-repr-fallback {display: none;}</style><div id=\"sk-container-id-1\" class=\"sk-top-container\"><div class=\"sk-text-repr-fallback\"><pre>LinearRegression(fit_intercept=False)</pre><b>In a Jupyter environment, please rerun this cell to show the HTML representation or trust the notebook. <br />On GitHub, the HTML representation is unable to render, please try loading this page with nbviewer.org.</b></div><div class=\"sk-container\" hidden><div class=\"sk-item\"><div class=\"sk-estimator sk-toggleable\"><input class=\"sk-toggleable__control sk-hidden--visually\" id=\"sk-estimator-id-1\" type=\"checkbox\" checked><label for=\"sk-estimator-id-1\" class=\"sk-toggleable__label sk-toggleable__label-arrow\">LinearRegression</label><div class=\"sk-toggleable__content\"><pre>LinearRegression(fit_intercept=False)</pre></div></div></div></div></div>"
            ]
          },
          "metadata": {},
          "execution_count": 8
        }
      ],
      "source": [
        "from sklearn.linear_model import LinearRegression\n",
        "\n",
        "model = LinearRegression(fit_intercept=False)\n",
        "model.fit(Xtrain, ytrain)\n",
        "\n",
        "#Note: if error: you may need np.asarray(...,dtype=np.float64)\n"
      ]
    },
    {
      "cell_type": "code",
      "execution_count": 9,
      "metadata": {
        "scrolled": true,
        "id": "CZy17Kk8xm4r",
        "outputId": "9e55ac50-5368-4e38-befb-1b57078c86d3",
        "colab": {
          "base_uri": "https://localhost:8080/",
          "height": 507
        }
      },
      "outputs": [
        {
          "output_type": "stream",
          "name": "stdout",
          "text": [
            "MAE:  26.23519748421417\n"
          ]
        },
        {
          "output_type": "execute_result",
          "data": {
            "text/plain": [
              "Text(0.5, 1.0, 'Boston Housing True vs Predicted prices')"
            ]
          },
          "metadata": {},
          "execution_count": 9
        },
        {
          "output_type": "display_data",
          "data": {
            "text/plain": [
              "<Figure size 640x480 with 1 Axes>"
            ],
            "image/png": "[encoded data removed]"
          },
          "metadata": {}
        }
      ],
      "source": [
        "#Evaluate on test data\n",
        "from sklearn.metrics import mean_squared_error\n",
        "from sklearn.metrics import mean_absolute_error\n",
        "\n",
        "y_model = model.predict(Xtest)\n",
        "#Calculate error and plot\n",
        "mae = mean_squared_error(ytest, y_model)\n",
        "print(\"MAE: \", mae)\n",
        "\n",
        "#compare labels\n",
        "plt.scatter(ytest, y_model)\n",
        "plt.xlabel(\"Truth\")\n",
        "plt.ylabel(\"Predicted\")\n",
        "plt.title(\"Boston Housing True vs Predicted prices\")"
      ]
    },
    {
      "cell_type": "markdown",
      "metadata": {
        "id": "w_mMYNG5xm4s"
      },
      "source": [
        "## Regression via NN\n",
        "\n",
        "Will use DENSE layers: https://www.tensorflow.org/api_docs/python/tf/keras/layers/Dense"
      ]
    },
    {
      "cell_type": "code",
      "execution_count": null,
      "metadata": {
        "id": "dwaPZ4sTxm4s"
      },
      "outputs": [],
      "source": [
        "import tensorflow as tf\n",
        "from tensorflow import keras\n",
        "from tensorflow.keras import layers\n",
        "from tensorflow.keras import models\n",
        "\n",
        "#Old Syntax:\n",
        "# from keras import layers\n",
        "\n",
        "#Define your NN arch\n",
        "def myNN(train_data):\n",
        "#Initiate model:\n",
        "\n",
        "\n",
        "#First layer is special: It needs to match the shape of data:\n",
        "    # units = 64: # of neurons; determines output shape of the layer.\n",
        "    # input_shape: how many W needed per neuron?\n",
        "    # Thus: input arrays of shape (*, 13). Output arrays of shape: (*, 64)\n",
        "\n",
        "\n",
        "#Hidden layers will auto-size their input based the previous layer:\n",
        "    #Can add more layers here to make it deeper...\n",
        "\n",
        "\n",
        "#Output: Need a single number as our prediction:\n",
        "    #Note that output layer has no activation\n",
        "    # b/c this is a regression problem, not classification.\n",
        "#How should the weights be calculated?\n",
        "\n",
        "#Cost design: loss function?\n",
        "\n",
        "    return model\n"
      ]
    },
    {
      "cell_type": "code",
      "execution_count": null,
      "metadata": {
        "id": "9AnxSNIxxm4s"
      },
      "outputs": [],
      "source": [
        "# %load keras-ex1.py\n"
      ]
    },
    {
      "cell_type": "code",
      "execution_count": null,
      "metadata": {
        "id": "b1GuvUflxm4s"
      },
      "outputs": [],
      "source": [
        "#build the model\n",
        "model = myNN(Xtrain)"
      ]
    },
    {
      "cell_type": "code",
      "execution_count": null,
      "metadata": {
        "id": "KwUAqzAixm4t"
      },
      "outputs": [],
      "source": [
        "model.summary()"
      ]
    },
    {
      "cell_type": "markdown",
      "metadata": {
        "id": "T0yIIlhJxm4t"
      },
      "source": [
        "### Ex:\n",
        "\n",
        "Why does it have 896 parameters?"
      ]
    },
    {
      "cell_type": "code",
      "execution_count": null,
      "metadata": {
        "id": "8sx5HS0Axm4t"
      },
      "outputs": [],
      "source": [
        "#Algebra goes here?\n"
      ]
    },
    {
      "cell_type": "markdown",
      "metadata": {
        "id": "Yv7garn9xm4t"
      },
      "source": [
        "## Train/Test your model\n"
      ]
    },
    {
      "cell_type": "code",
      "execution_count": null,
      "metadata": {
        "id": "6Vyd6b2pxm4u"
      },
      "outputs": [],
      "source": [
        "#Train: a la scikit:\n",
        "#Scikit: model.fit(Xtrain, ytrain)\n",
        "ne = 10\n",
        "model.fit(Xtrain, ytrain, epochs=ne, batch_size=1, verbose=1)"
      ]
    },
    {
      "cell_type": "code",
      "execution_count": null,
      "metadata": {
        "id": "lWQWXlXgxm4u"
      },
      "outputs": [],
      "source": [
        "#Evalute our model:\n",
        "#SciKit:\n",
        "# y_model = model.predict(Xtest)\n",
        "#Calculate error and plot\n",
        "# mae = mean_squared_error(ytest, y_model)\n",
        "\n",
        "nnmse, nnmae = model.evaluate(Xtest, ytest, verbose = 1)\n",
        "print('NN Test MAE: ', nnmae)"
      ]
    },
    {
      "cell_type": "markdown",
      "metadata": {
        "id": "d8UH6x_Zxm4u"
      },
      "source": [
        "### Keras model training API:\n",
        "\n",
        "model.___()\n",
        "\n",
        "- compile(): Configure model to be trained. Cost/loss function selection\n",
        "- fit(): train for given # of iterations/epochs\n",
        "- evaluate(): calculate loss given metrics\n",
        "- predict(): what is my trained model's hypothesis?\n",
        "\n",
        "More info at https://keras.io/api/models/model_training_apis/"
      ]
    },
    {
      "cell_type": "markdown",
      "metadata": {
        "id": "NB0v88Qbxm4u"
      },
      "source": [
        "## Ex\n",
        "\n",
        "Giving the feeatures for a new house, what do you think it costs?"
      ]
    },
    {
      "cell_type": "code",
      "execution_count": null,
      "metadata": {
        "id": "I8ILb2D4xm4u"
      },
      "outputs": [],
      "source": [
        "Xnew = np.array([2.7310e-02 0.0000e+00 7.0700e+00 0.0000e+00 4.6900e-01 6.4210e+00\n",
        "  7.8900e+01 4.9671e+00 2.0000e+00 2.4200e+02 1.7800e+01 3.9690e+02\n",
        "  9.1400e+00])\n",
        "\n",
        "## Predict ynew from Xnew:\n"
      ]
    },
    {
      "cell_type": "code",
      "execution_count": null,
      "metadata": {
        "id": "mtPgI7EGxm4u"
      },
      "outputs": [],
      "source": []
    },
    {
      "cell_type": "markdown",
      "metadata": {
        "id": "6QUEMDL_xm4v"
      },
      "source": [
        "## How can we improve?\n",
        "\n",
        "- tune network: add layers, train longer (i.e. epochs)\n",
        "- cross-validation\n",
        "- feature engineering"
      ]
    },
    {
      "cell_type": "markdown",
      "metadata": {
        "id": "QmzjJSdZxm4v"
      },
      "source": [
        "## Ex:\n",
        "Tune the network above to drop the MAE.\n",
        "\n",
        "Hint: Note that loss keeps dropping. Train the NN for longer."
      ]
    },
    {
      "cell_type": "code",
      "execution_count": null,
      "metadata": {
        "id": "amBDn204xm4v"
      },
      "outputs": [],
      "source": [
        "#Code goes here"
      ]
    },
    {
      "cell_type": "markdown",
      "metadata": {
        "id": "M02eXJTpxm4v"
      },
      "source": [
        "### Preprocessing\n",
        "\n",
        "What if we scale X?"
      ]
    },
    {
      "cell_type": "code",
      "execution_count": null,
      "metadata": {
        "id": "_tKGXqMExm4v"
      },
      "outputs": [],
      "source": [
        "from sklearn import preprocessing\n",
        "\n",
        "print('Pre-scale: ', Xtrain[:2])\n",
        "scaler = preprocessing.StandardScaler().fit(Xtrain)\n",
        "Xtrains = scaler.transform(Xtrain)\n",
        "#Apply the learned scaler to Test data:\n",
        "Xtests = scaler.transform(Xtest)\n",
        "print('Post-scale', Xtrains[:2])"
      ]
    },
    {
      "cell_type": "code",
      "execution_count": null,
      "metadata": {
        "id": "aJlLde1Axm4v"
      },
      "outputs": [],
      "source": [
        "# for fun: we know how to do this ourselves:\n",
        "xs = (Xtrain - Xtrain.mean(axis=0)) / (Xtrain.std(axis=0))\n",
        "print('Post-scale', xs[:2])"
      ]
    },
    {
      "cell_type": "markdown",
      "metadata": {
        "id": "2YBibAm_xm4w"
      },
      "source": [
        "## Ex:\n",
        "How well does the scaled data do in 10 epochs, with 1 hidden layer?"
      ]
    },
    {
      "cell_type": "code",
      "execution_count": null,
      "metadata": {
        "id": "2EjNpt1Uxm4w"
      },
      "outputs": [],
      "source": [
        "#Solution goes here.\n"
      ]
    },
    {
      "cell_type": "markdown",
      "metadata": {
        "id": "lxYPKjzxxm4w"
      },
      "source": [
        "## Overview\n",
        "\n",
        "- We created a MLP to predict housing prices\n",
        "\n",
        "- Exposed to Keras/tf API\n",
        "\n",
        "- Employed Dense hidden layers\n",
        "\n",
        "- Discussed how to improve NN results"
      ]
    },
    {
      "cell_type": "markdown",
      "metadata": {
        "id": "wr3vSlJFxm4w"
      },
      "source": [
        "## NN Steps\n",
        "- Data prep: Split train/test, pre-process, etc.\n",
        "- Create model:\n",
        "    - `model.Sequential()`\n",
        "    - `model.add(layers….)`\n",
        "    - Compile: loss function?\n",
        "- Build model/review model summary: `model = myNN(Xtrains)`\n",
        "- Train the model: `model.fit()`\n",
        "- Evaluate on test data / cross-validate\n",
        "- Repeat all of the steps above until satisfied/ran out of time\n",
        "- Ready to predict on new data!"
      ]
    },
    {
      "cell_type": "markdown",
      "metadata": {
        "id": "Sh7kOvC2xm4w"
      },
      "source": [
        "## To Do\n",
        "\n",
        "- What is a Dense layer?"
      ]
    },
    {
      "cell_type": "markdown",
      "metadata": {
        "id": "YIy9rhc-xm4w"
      },
      "source": [
        "## Bonus Materials\n"
      ]
    },
    {
      "cell_type": "markdown",
      "metadata": {
        "id": "t0ODs2HMxm4w"
      },
      "source": [
        "## Plotting the loss\n",
        "\n",
        "We can save the train/test history and plot it!\n"
      ]
    },
    {
      "cell_type": "code",
      "execution_count": null,
      "metadata": {
        "id": "Xwyj2uHQxm4x"
      },
      "outputs": [],
      "source": [
        "ne = 20\n",
        "#Combine Train and Test to 1-step:\n",
        "history = model.fit(Xtrain, ytrain, epochs=ne, verbose=1, validation_data = (Xtest, ytest)) #, batch_size=1\n",
        "#Evalute our model:\n",
        "# nnmse, nnmae = model.evaluate(Xtest, ytest, verbose = 1)\n",
        "\n",
        "# History object is a dictionary with keys.\n",
        "hd = history.history\n",
        "print(hd)"
      ]
    },
    {
      "cell_type": "code",
      "execution_count": null,
      "metadata": {
        "id": "Jnb-AnJQxm4x"
      },
      "outputs": [],
      "source": [
        "loss_tr = hd['loss']\n",
        "loss_va = hd['val_loss']\n",
        "epochs = range(0, ne)\n",
        "\n",
        "import matplotlib.pyplot as plt\n",
        "import seaborn as sns\n",
        "sns.set()\n",
        "\n",
        "plt.plot(epochs, loss_tr, '-.o', label='Training loss')\n",
        "plt.plot(epochs, loss_va, 'r', label='Validation loss')\n",
        "plt.xlabel('Epochs')\n",
        "plt.ylabel('Loss')\n",
        "plt.legend()\n",
        "plt.show()"
      ]
    },
    {
      "cell_type": "code",
      "execution_count": null,
      "metadata": {
        "id": "yjVk1X5uxm4x"
      },
      "outputs": [],
      "source": []
    },
    {
      "cell_type": "code",
      "execution_count": null,
      "metadata": {
        "id": "qRhdTnzNxm4x"
      },
      "outputs": [],
      "source": []
    },
    {
      "cell_type": "markdown",
      "metadata": {
        "id": "Ph6c0SLbxm4y"
      },
      "source": [
        "## Dropout\n",
        "\n",
        "- May help against overfitting\n",
        "- by improving generalization\n",
        "\n",
        "``The Dropout layer randomly sets input units to 0 with a frequency of `rate` at each step during training time,..\"\n",
        "https://keras.io/api/layers/regularization_layers/dropout/"
      ]
    },
    {
      "cell_type": "code",
      "execution_count": null,
      "metadata": {
        "id": "zZs3PGQlxm4y"
      },
      "outputs": [],
      "source": [
        "import tensorflow as tf\n",
        "from tensorflow import keras\n",
        "from tensorflow.keras import layers\n",
        "from tensorflow.keras import models\n",
        "\n",
        "#Old Syntax:\n",
        "# from keras import layers\n",
        "\n",
        "#Define your NN arch\n",
        "def myNN(train_data):\n",
        "#Initiate model:\n",
        "    model = models.Sequential()\n",
        "#First layer is special: It needs to match the shape of data:\n",
        "    model.add(layers.Dense(64, activation='relu', input_shape=(train_data.shape[1],), name='in'))\n",
        "    model.add(layers.Dropout(0.15))\n",
        "    # units = 64: # of neurons; determines output shape of the layer.\n",
        "    # input_shape: how many W needed per neuron?\n",
        "    # Thus: input arrays of shape (*, 13). Output arrays of shape: (*, 64)\n",
        "#Hidden layers will auto-size their input based the previous layer:\n",
        "    model.add(layers.Dense(64, activation='relu', name='hidden1'))\n",
        "    #Can add more layers here to make it deeper...\n",
        "    model.add(layers.Dropout(0.15))\n",
        "\n",
        "#Output: Need a single number as our prediction:\n",
        "    model.add(layers.Dense(1, name='pred'))\n",
        "\n",
        "    #Note that output layer has no activation\n",
        "    # b/c this is a regression problem, not classification.\n",
        "#How should the weights be calculated?\n",
        "    model.compile(optimizer='rmsprop', loss='mse', metrics = ['mae'])\n",
        "    return model\n"
      ]
    },
    {
      "cell_type": "code",
      "execution_count": null,
      "metadata": {
        "id": "EIWVqco1xm4y"
      },
      "outputs": [],
      "source": [
        "#build the model\n",
        "model = myNN(Xtrain)"
      ]
    },
    {
      "cell_type": "code",
      "execution_count": null,
      "metadata": {
        "id": "gZYU4kEpxm4y"
      },
      "outputs": [],
      "source": [
        "model.summary()"
      ]
    },
    {
      "cell_type": "markdown",
      "metadata": {
        "id": "q5RqmAkuxm4y"
      },
      "source": [
        "## Train/Test your model\n"
      ]
    },
    {
      "cell_type": "code",
      "execution_count": null,
      "metadata": {
        "id": "8ZPfp60Wxm4y"
      },
      "outputs": [],
      "source": [
        "#Train: a la scikit:\n",
        "#Scikit: model.fit(Xtrain, ytrain)\n",
        "ne = 10\n",
        "model.fit(Xtrain, ytrain, epochs=ne, verbose=1) #, batch_size=1\n",
        "\n",
        "#Evalute our model:\n",
        "nnmse, nnmae = model.evaluate(Xtest, ytest, verbose = 1)\n",
        "print('NN Test MAE: ', nnmae)"
      ]
    },
    {
      "cell_type": "markdown",
      "source": [
        "## Summary\n",
        "\n",
        "- Design our fist neural net to solve a regression problem\n",
        "- Introduce tensorflow's Keras library\n",
        "- Evaluating trained model\n",
        "- Visualizing the loss\n",
        "- Improvements:\n",
        "  - Hidden layers\n",
        "  - Pre-processing: Scaling\n",
        "  - Dropout\n"
      ],
      "metadata": {
        "id": "mDk698WU6D85"
      }
    }
  ],
  "metadata": {
    "kernelspec": {
      "display_name": "Python 3",
      "language": "python",
      "name": "python3"
    },
    "language_info": {
      "codemirror_mode": {
        "name": "ipython",
        "version": 3
      },
      "file_extension": ".py",
      "mimetype": "text/x-python",
      "name": "python",
      "nbconvert_exporter": "python",
      "pygments_lexer": "ipython3",
      "version": "3.6.10"
    },
    "colab": {
      "provenance": [],
      "include_colab_link": true
    }
  },
  "nbformat": 4,
  "nbformat_minor": 0
}